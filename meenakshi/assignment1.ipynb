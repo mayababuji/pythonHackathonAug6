{
 "cells": [
  {
   "cell_type": "code",
   "execution_count": 10,
   "id": "e19a2b5b-d009-41e2-884a-4a5184d754a8",
   "metadata": {},
   "outputs": [
    {
     "name": "stdout",
     "output_type": "stream",
     "text": [
      "sum of numbers: 30\n"
     ]
    }
   ],
   "source": [
    "#Create two variables a and b with values 10 and 20, then print their sum.\n",
    "a=10\n",
    "b=20\n",
    "print('sum of numbers: {}'.format(a+b))"
   ]
  },
  {
   "cell_type": "code",
   "execution_count": 11,
   "id": "664e4d30-76fd-4719-821a-bee70086ebf7",
   "metadata": {},
   "outputs": [
    {
     "name": "stdout",
     "output_type": "stream",
     "text": [
      "HelloHelloHello\n"
     ]
    }
   ],
   "source": [
    "#Assign the string \"Hello\" to a variable and print it 3 times.\n",
    "str1='Hello'\n",
    "print(str1*3)"
   ]
  },
  {
   "cell_type": "code",
   "execution_count": 12,
   "id": "810b6801-110f-47f0-a9f3-77725c4873eb",
   "metadata": {},
   "outputs": [
    {
     "name": "stdout",
     "output_type": "stream",
     "text": [
      "Before swapping values are: a=20, b=30\n",
      "After swapping values are: a=30,b=20\n"
     ]
    }
   ],
   "source": [
    "#Swap the values of two variables without using a third variable.\n",
    "a=20\n",
    "b=30\n",
    "print('Before swapping values are: a={}, b={}'.format(a,b))\n",
    "a,b =b,a\n",
    "print(\"After swapping values are: a={},b={}\".format(a,b))"
   ]
  },
  {
   "cell_type": "code",
   "execution_count": 13,
   "id": "82595126-dbbe-4985-8f67-313d386ae6e9",
   "metadata": {},
   "outputs": [
    {
     "name": "stdout",
     "output_type": "stream",
     "text": [
      "5 apples\n"
     ]
    }
   ],
   "source": [
    "#Given a variable x = 5, convert it to a string and concatenate it with \" apples\".\n",
    "x=5\n",
    "print(str(x)+' apples')"
   ]
  },
  {
   "cell_type": "code",
   "execution_count": 14,
   "id": "5b9cf0eb-fe45-405f-a6d6-96e139704dca",
   "metadata": {},
   "outputs": [
    {
     "name": "stdout",
     "output_type": "stream",
     "text": [
      "num is float\n"
     ]
    }
   ],
   "source": [
    "#Check if a variable num = 7.5 is a float or an integer.\n",
    "num =7.5\n",
    "numStr = str(type(num))\n",
    "if 'float' in numStr:\n",
    "    print('num is float')\n",
    "elif isinstance(num, int):\n",
    "    print('num is an integer')"
   ]
  },
  {
   "cell_type": "code",
   "execution_count": 15,
   "id": "c578ae9a-1315-4eb2-94e1-8e3f3da7eff5",
   "metadata": {},
   "outputs": [
    {
     "name": "stdout",
     "output_type": "stream",
     "text": [
      "===========DataTypes in List=============\n",
      "1  :  <class 'int'>\n",
      "-2  :  <class 'int'>\n",
      "string  :  <class 'str'>\n",
      "c  :  <class 'str'>\n",
      "3.0  :  <class 'float'>\n",
      "True  :  <class 'bool'>\n",
      "(1+2j)  :  <class 'complex'>\n",
      "b'bytetype'  :  <class 'bytes'>\n",
      "bytearray(b'\\x00\\x00\\x00')  :  <class 'bytearray'>\n",
      "<memory at 0x7aa8e63a1b40>  :  <class 'memoryview'>\n",
      "None  :  <class 'NoneType'>\n",
      "===========DataTypes in Tuple=============\n",
      "1 : <class 'int'>\n",
      "-2 : <class 'int'>\n",
      "string : <class 'str'>\n",
      "c : <class 'str'>\n",
      "3.0 : <class 'float'>\n",
      "True : <class 'bool'>\n",
      "(1+2j) : <class 'complex'>\n",
      "b'bytetype' : <class 'bytes'>\n",
      "bytearray(b'\\x00\\x00\\x00') : <class 'bytearray'>\n",
      "<memory at 0x7aa9009cdc00> : <class 'memoryview'>\n",
      "None : <class 'NoneType'>\n"
     ]
    }
   ],
   "source": [
    "#Create a list and a tuple both containing the same numbers and print their types.\n",
    "lst = [1,-2,'string','c',3.0,True,1+2j,b\"bytetype\",bytearray(3),memoryview(bytes(5)),None]\n",
    "tup = (1,-2,'string','c',3.0,True,1+2j,b\"bytetype\",bytearray(3),memoryview(bytes(5)),None)\n",
    "# another way to create tuple \n",
    "#tup=lst\n",
    "\n",
    "print('===========DataTypes in List=============')\n",
    "for dataTy in lst:\n",
    "    print(dataTy,\" : \",type(dataTy))\n",
    "print('===========DataTypes in Tuple=============')\n",
    "for dataTy in tup:\n",
    "    print(f'{dataTy} : {type(dataTy)}')"
   ]
  },
  {
   "cell_type": "code",
   "execution_count": 17,
   "id": "0f407ec8-dbb5-4608-a575-92aa401587b6",
   "metadata": {},
   "outputs": [
    {
     "name": "stdin",
     "output_type": "stream",
     "text": [
      "Enter an Integer value:  -33\n"
     ]
    },
    {
     "name": "stdout",
     "output_type": "stream",
     "text": [
      "-33 is a negative number\n"
     ]
    }
   ],
   "source": [
    "#Write a program that takes a number and prints whether it is positive, negative, or zero.\n",
    "while(True):\n",
    "    try:\n",
    "        num = int(input('Enter an Integer value: '))\n",
    "        break\n",
    "    except ValueError:\n",
    "        print(f'Entered wrong input {ValueError}')\n",
    "if num==0:\n",
    "    print(f'Number {num} is zero')\n",
    "elif num > 0:\n",
    "    print(f'{num} is a positive number')\n",
    "else: \n",
    "    print(f'{num} is a negative number')"
   ]
  },
  {
   "cell_type": "code",
   "execution_count": 18,
   "id": "0fcb49fc-bfcb-46b3-b4e0-e07d532aa577",
   "metadata": {},
   "outputs": [
    {
     "name": "stdout",
     "output_type": "stream",
     "text": [
      "Eligible\n"
     ]
    }
   ],
   "source": [
    "#Given a variable age, print \"Eligible\" if age is 18 or more; otherwise print \"Not eligible.\"\n",
    "age = 18\n",
    "if age >= 18:\n",
    "    print(\"Eligible\")\n",
    "else:\n",
    "    print('Not Eligible')"
   ]
  },
  {
   "cell_type": "code",
   "execution_count": 19,
   "id": "26c94311-6557-4d53-942a-59bb7082255d",
   "metadata": {},
   "outputs": [
    {
     "name": "stdin",
     "output_type": "stream",
     "text": [
      "Enter a number:  5332\n"
     ]
    },
    {
     "name": "stdout",
     "output_type": "stream",
     "text": [
      "5332 number is not divisible by both 3 and 5\n"
     ]
    }
   ],
   "source": [
    "###### Check if a number is divisible by both 3 and 5 and print an appropriate message.\n",
    "#isDivisible\n",
    "while(True):\n",
    "    try:\n",
    "        isDivisible = int(input('Enter a number: '))\n",
    "        break;\n",
    "    except ValueError:\n",
    "        print('Please enter a numercial value')\n",
    "while(True):\n",
    "    if isDivisible % 3 == 0.0 and isDivisible % 5 == 0:\n",
    "        print(f'{isDivisible} number is divisible by both 3 and 5')\n",
    "        break\n",
    "    if isDivisible % 3 == 0 and isDivisible % 5 !=0:\n",
    "        print(f'{isDivisible} number is divisible by 3 but not divisible by 5')\n",
    "        break\n",
    "    if isDivisible % 3 !=0 and isDivisible % 5 ==0:\n",
    "        print(f'{isDivisible} number is not divisible by 3 but divisible by 5')\n",
    "        break\n",
    "    if isDivisible % 3 !=0 and isDivisible % 5 !=0:\n",
    "        print(f'{isDivisible} number is not divisible by both 3 and 5')\n",
    "        break\n"
   ]
  },
  {
   "cell_type": "code",
   "execution_count": null,
   "id": "0a4e88d2-d58c-48f9-b872-3048a78a5b7e",
   "metadata": {},
   "outputs": [],
   "source": []
  }
 ],
 "metadata": {
  "kernelspec": {
   "display_name": "Python 3 (ipykernel)",
   "language": "python",
   "name": "python3"
  },
  "language_info": {
   "codemirror_mode": {
    "name": "ipython",
    "version": 3
   },
   "file_extension": ".py",
   "mimetype": "text/x-python",
   "name": "python",
   "nbconvert_exporter": "python",
   "pygments_lexer": "ipython3",
   "version": "3.12.7"
  }
 },
 "nbformat": 4,
 "nbformat_minor": 5
}
