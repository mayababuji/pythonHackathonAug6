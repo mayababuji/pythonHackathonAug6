{
 "cells": [
  {
   "cell_type": "code",
   "execution_count": null,
   "id": "e9d71716-f7e5-4dd6-b5e3-dbd2deb1cb2a",
   "metadata": {},
   "outputs": [],
   "source": [
    "#fun1: #Write a function to count the frequency of each element in a list using a dictionary.\n",
    "#fun2: Merge Two Dictionaries using inbuilt function '|' using:  |, update and **\n",
    "#fun3: Merge Two Dictionaries with Sum Using Counter, dictionary comprehension, Tradtional way\n",
    "#fun4: invert dicitionary noraml and to maintain duplicate key\n",
    "#fun5: find top scorer\n",
    "#fun6: Anagram Groups\n",
    "#fun7: Anagram Groups using defaultdict from collection module\n",
    "#fun8:Word Frequency in Sentence using Counter class from colecctions\n",
    "#fun9: Create a Dictionary from Two Lists\n",
    "#fun10\n",
    "#fun11\n",
    "#fun12: Calculate and return a dictionary with their average scores. nested dictionary\n"
   ]
  },
  {
   "cell_type": "code",
   "execution_count": null,
   "id": "358618aa-aec1-456b-90f8-9af4640c00b5",
   "metadata": {},
   "outputs": [],
   "source": [
    "#Notes: \n",
    "    #The comprehension is typically used to build that dictionary in a compact way."
   ]
  },
  {
   "cell_type": "code",
   "execution_count": 5,
   "id": "0e862bf1-55f9-418f-84cd-45dac5c31cba",
   "metadata": {},
   "outputs": [
    {
     "name": "stdout",
     "output_type": "stream",
     "text": [
      "{2: 3, 3: 2, 5: 1}\n",
      "{2: 3, 3: 2, 5: 1}\n"
     ]
    }
   ],
   "source": [
    "#fun1: #Write a function to count the frequency of each element in a list using a dictionary.\n",
    "#2 ways: Using Counter from collection and using Tradional way\n",
    "from collections import Counter\n",
    "def fun1():\n",
    "    input= [2, 3, 2, 5, 3, 2]\n",
    "    #Using Counter\n",
    "    print(dict(Counter(input)))\n",
    "    #Using Tradional way\n",
    "    countDict={}\n",
    "    for i in input:\n",
    "        if i in countDict:\n",
    "            countDict[i]+=1\n",
    "        else:\n",
    "            countDict[i]=1\n",
    "    print (countDict)    \n",
    "fun1()"
   ]
  },
  {
   "cell_type": "code",
   "execution_count": 3,
   "id": "c430397d-f079-4765-9136-48843a606000",
   "metadata": {},
   "outputs": [
    {
     "name": "stdout",
     "output_type": "stream",
     "text": [
      "{'1': 1, '2': 1, '3': 1, '5': '2', 6: 23}\n",
      "{'1': 2, '3': 2, '4': 2, '5': '2'}\n",
      "using '|' {'1': 2, '2': 1, '3': 2, '5': '2', 6: 23, '4': 2}\n",
      "using update:  {'1': 2, '2': 1, '3': 2, '5': '2', 6: 23, '4': 2}\n",
      "using ** {'1': 2, '2': 1, '3': 2, '5': '2', 6: 23, '4': 2}\n"
     ]
    }
   ],
   "source": [
    "#2. Merge Two Dictionaries using inbuilt function '|'\n",
    "#Merge overwrites the value if key is present in the added dictionary\n",
    "#new element will get added at the end\n",
    "#If both dicts have the same key, the right-hand dictionary’s value overwrites the left’s.\n",
    "#3wys: |, update and **\n",
    "def fun2():\n",
    "    dict1={ \"1\":1,\"2\":1,\"3\":1,\"5\":\"2\",6:23}\n",
    "    dict2= {\"1\":2,\"3\":2,\"4\":2,\"5\":\"2\"}\n",
    "    #mergedDict=dict1 | dict2    \n",
    "    print(dict1)\n",
    "    print(dict2)\n",
    "    #print(mergedDict)\n",
    "    print(\"using '|'\",dict1|dict2) #Overwrites dict1\n",
    "    dict1.update(dict2)\n",
    "    print(\"using update: \", dict1) #updates dict1\n",
    "    # ** creates new dict Values from the second dict overwrite the first if keys match.\n",
    "    newDict = {**dict1,**dict2}\n",
    "    print('using **', newDict)\n",
    "fun2()"
   ]
  },
  {
   "cell_type": "code",
   "execution_count": 33,
   "id": "ee117d37-3e0b-4e5e-b5a3-709769379d77",
   "metadata": {},
   "outputs": [
    {
     "name": "stdout",
     "output_type": "stream",
     "text": [
      "{'1': 1, '2': 1, '3': 1, '5': '2'}\n",
      "{'1': 2, '3': 2, '4': 2, '5': '2'}\n",
      "Using Counter:  {'1': 3, '2': 1, '3': 3, '4': 2}\n",
      "Using Dictionary Comprehension:  {'1': 3, '4': 2, '3': 3, '2': 1, '5': '22'}\n",
      "{'1': 1, '2': 1, '3': 1, '5': '2'}\n",
      "{'1': 2, '3': 2, '4': 2, '5': '2'}\n",
      "set:  {'1', '5', '2', '3'}\n",
      "defdict:  {'1': 3, '2': 1, '3': 3, '5': '22', '4': 2}\n",
      "{'1': 1, '2': 1, '3': 1, '5': '2'}\n",
      "{'1': 2, '3': 2, '4': 2, '5': '2'}\n",
      "{'1': 3, '2': 1, '3': 3, '5': '22', '4': 2}\n"
     ]
    }
   ],
   "source": [
    "#2. Merge Two Dictionaries with Sum \n",
    "#Ways: Counter, dictionary comprehension, Tradtional way\n",
    "from collections import Counter\n",
    "from collections import defaultdict\n",
    "def fun3():\n",
    "    mergedDict={}\n",
    "    dict1={\"1\":1,\"2\":1,\"3\":1,\"5\":\"2\"}\n",
    "    dict2= {\"1\":2,\"3\":2,\"4\":2,\"5\":\"2\"}\n",
    "    print(dict1)\n",
    "    print(dict2)\n",
    "    #using Counter #not support to string taking only int values\n",
    "    cntDict = dict(Counter({k:v for k,v in dict1.items() if isinstance(v,int)}) + Counter({k:v for k,v in dict2.items() if isinstance(v,int)})) \n",
    "    print('Using Counter: ',cntDict)\n",
    "    #Dictionary Comprehension Works with Strings also\n",
    "    dictCompre = {k:dict1.get(k,0)+dict2.get(k,0) for k in dict1.keys() | dict2.keys()}\n",
    "    print('Using Dictionary Comprehension: ',dictCompre)\n",
    "    #Using defaultdict good for incremental merging\n",
    "    defdict = defaultdict(lambda: None)\n",
    "    print(dict1)\n",
    "    print(dict2)\n",
    "    #for k,v in dict1.items() | dict2.items(): # Doesn't work as expected\n",
    "    print('set: ',set(dict1)) #Returns only key values\n",
    "    for d in (dict1, dict2):\n",
    "        for k, v in d.items():\n",
    "            try:\n",
    "                defdict[k] = defdict.get(k,0)+v\n",
    "            except:\n",
    "                defdict[k] = defdict.get(k,'')+v\n",
    "\n",
    "    print('defdict: ', dict(defdict))\n",
    "    #Traditional way\n",
    "    for key,value in dict1.items():\n",
    "        if key in dict2:\n",
    "            mergedDict[key]=value+dict2[key]\n",
    "        else:\n",
    "            mergedDict[key]=value\n",
    "    for key,value in dict2.items():\n",
    "        if key not in mergedDict:\n",
    "            mergedDict[key]=value\n",
    "    print(dict1)\n",
    "    print(dict2)\n",
    "    print(mergedDict)\n",
    "fun3()"
   ]
  },
  {
   "cell_type": "code",
   "execution_count": 35,
   "id": "62c625b6-d6df-44ee-b516-a332c5471026",
   "metadata": {},
   "outputs": [
    {
     "name": "stdout",
     "output_type": "stream",
     "text": [
      "overwrites the duplicate keys\n",
      "{12: 6, 'Test': 2, True: 3, (1+2j): 4, 12.3: 5, 6: 7}\n",
      "defaultdict(<class 'list'>, {12: [1, 6], 'Test': [2], True: [3], (1+2j): [4], 12.3: [5], 6: [7]})\n",
      "[[[12], [1, 6]], [['Test'], [2]], [[True], [3]], [[(1+2j)], [4]], [[12.3], [5]], [[6], [7]]]\n"
     ]
    }
   ],
   "source": [
    "def fun4(dict4): #invert a dicitionary\n",
    "    from collections import defaultdict\n",
    "    newDict={}\n",
    "    #overwrites the duplicate keys\n",
    "    print('overwrites the duplicate keys')\n",
    "    for key,value in dict4.items():\n",
    "        newDict[value]=key\n",
    "    print(newDict)\n",
    "    #To preserve duplicates converted into list\n",
    "    #use defaultdict function to get invert dicitionary maintaining duplicate keys\n",
    "    #convert dictionary into list\n",
    "    inverted = defaultdict(list) # defaultdicr class list values are list type\n",
    "    for key,value in dict4.items():\n",
    "        inverted[value].append(key)\n",
    "    print(inverted)\n",
    "    #print(inverted.keys())\n",
    "    newLst=[[[key],value] for key,value in inverted.items()]\n",
    "    print(newLst)\n",
    "dict4 = {1:12,2:'Test',3:True,4:1+2j,5:12.3,6:12,7:6}\n",
    "fun4(dict4)"
   ]
  },
  {
   "cell_type": "code",
   "execution_count": 7,
   "id": "5ff1346a-c7b0-42f2-8566-24390d99925b",
   "metadata": {},
   "outputs": [
    {
     "name": "stdout",
     "output_type": "stream",
     "text": [
      "'>' not supported between instances of 'str' and 'float'\n",
      "400.4\n",
      "400.4 ['Peter']\n"
     ]
    }
   ],
   "source": [
    "def fun5(stuDict): #Find highest value\n",
    "#Find Top Scorer\n",
    "#Problem:\n",
    "#Given a dictionary of student scores, return the name(s) of the highest scorer(s).\n",
    "#Given a dictionary of student scores with single highest scorer,\n",
    "# and only has numeric values as well as non numerical values\n",
    "#Used recursive function after creating dict with numeric values\n",
    "# return the name(s) of the highest scorer(s) .  \n",
    "    try:\n",
    "        highestValue = max(stuDict.values())\n",
    "        keyForHighestValue = [key for key,value in stuDict.items() if value==highestValue ]\n",
    "        print(max(stuDict.values())) #Works if dict has only numerical values\n",
    "        print(highestValue,keyForHighestValue)\n",
    "    except TypeError as e:\n",
    "        print(e)\n",
    "        #For dict having non numeric values \n",
    "        numDict = {key:value for key,value in stuDict.items() if isinstance(value,(int,float))}\n",
    "        fun5(numDict)\n",
    "        #highestValue = max(numDict.values())\n",
    "        #keyLst= [key for key,value in stuDict.items() if value==highestValue]\n",
    "        #print(highestValue,keyLst)\n",
    "\n",
    "    #print([key for value in  stuDict.items() if value is max(stuDict.values())])\n",
    "stuDict = {    \n",
    "        \"Alice\":300,\n",
    "        \"Scott\":400,\n",
    "        \"Luis\":100,\n",
    "        \"Peter\":400.4,\n",
    "        \"Willaims\":\"Absent\"\n",
    "}\n",
    "fun5(stuDict) #Find highest value"
   ]
  },
  {
   "cell_type": "code",
   "execution_count": 12,
   "id": "7e925fc7-363f-4962-bd28-1d955e69851c",
   "metadata": {},
   "outputs": [
    {
     "name": "stdout",
     "output_type": "stream",
     "text": [
      "['bat', 'tab', 'tap', 'pat', 'cat']\n",
      "{'abt': ['bat', 'tab'], 'apt': ['tap', 'pat'], 'act': ['cat']}\n"
     ]
    }
   ],
   "source": [
    "def fun6(lst6):\n",
    "#Output: { 'abt': ['bat', 'tab'], 'apt': ['tap', 'pat'], 'act': ['cat'] }\n",
    "#Group words that are anagrams using dictionaries.\n",
    "    print(lst6)\n",
    "    #sort the characters to get common key\n",
    "    #sorted returns list of characters\n",
    "    anagramDict={}\n",
    "    for ele in lst6:\n",
    "        key = ''.join(sorted(ele)) #convert list into a string by join sorted returns list \n",
    "        if key in anagramDict: \n",
    "            anagramDict[key].append(ele)\n",
    "        else:\n",
    "            anagramDict[key]= [ele]  \n",
    "    print(anagramDict)\n",
    "lst6 = [\"bat\", \"tab\", \"tap\", \"pat\", \"cat\"]\n",
    "#Output: { 'abt': ['bat', 'tab'], 'apt': ['tap', 'pat'], 'act': ['cat'] }\n",
    "fun6(lst6) #Group words that are anagrams using dictionaries."
   ]
  },
  {
   "cell_type": "code",
   "execution_count": 16,
   "id": "ab0a6e1d-69f6-4bd8-8f2b-fbbdb35cbc34",
   "metadata": {},
   "outputs": [
    {
     "name": "stdout",
     "output_type": "stream",
     "text": [
      "['bat', 'tab', 'tap', 'pat', 'cat']\n",
      "defaultdict(<class 'list'>, {})\n",
      "Dict using Tradtional For loop: \n",
      "{'abt': ['bat', 'tab'], 'apt': ['tap', 'pat'], 'act': ['cat']}\n",
      "Dict using List Comprehension one-line code: \n",
      "defaultdict(<class 'list'>, {'abt': ['bat', 'tab'], 'apt': ['tap', 'pat'], 'act': ['cat']})\n",
      "{'abt': ['bat', 'tab'], 'apt': ['tap', 'pat'], 'act': ['cat']}\n"
     ]
    }
   ],
   "source": [
    "#Group words that are anagrams using dictionaries using defaultdict collections comprehension\n",
    "def fun7(lst6):\n",
    "    #defaultdict(list) is a special kind of dictionary from Python’s collections module.\n",
    "    #Normally, KEyError raises if you try to access a key that doesn’t exist in a regular dictionary, \n",
    "    #But with defaultdict(list), if the key doesn’t exist, \n",
    "    # it automatically creates it with an empty list as the default value—no error.\n",
    "    from collections import defaultdict\n",
    "    print(lst6)\n",
    "    print(defaultdict(list))\n",
    "    anagramTD = defaultdict(list)\n",
    "    #Using traditional for loop\n",
    "    for word in lst6:\n",
    "        key = ''.join(sorted(word))\n",
    "        anagramTD[key].append(word)\n",
    "    print('Dict using Tradtional For loop: ')\n",
    "    print(dict(anagramTD))\n",
    "    #Using comprehension\n",
    "    anagramCD=defaultdict(list)\n",
    "    [anagramCD[''.join(sorted(ele))].append(ele) for ele in lst6]\n",
    "    print('Dict using List Comprehension one-line code: ')\n",
    "    print(anagramCD)\n",
    "    print(dict(anagramCD))\n",
    "lst6 = [\"bat\", \"tab\", \"tap\", \"pat\", \"cat\"]\n",
    "fun7(lst6) #Group words that are anagrams using dictionaries using defaultdict collections comprehension\n"
   ]
  },
  {
   "cell_type": "code",
   "execution_count": 17,
   "id": "6e7179a1-db39-4189-8884-af36fae69b6a",
   "metadata": {},
   "outputs": [
    {
     "name": "stdout",
     "output_type": "stream",
     "text": [
      "ot:  Hello hello world!\n",
      "ch:  hello hello world\n",
      "Dict:  {'hello': 2, 'world': 1}\n"
     ]
    }
   ],
   "source": [
    "#Word Frequency in Sentence using Counter from collections. for tradional: day01/listAssignment/10\n",
    "def fun8(str8):\n",
    "#Counter is a class from Python’s collections module designed \n",
    "# to count how many times each item appears in an iterable (like a list or string).\n",
    "#It works like a dictionary where:Keys:(e.g., words or characters) \n",
    "# and Values are the counts (how many times each item occurs)\n",
    "#for tradional: day01/listAssignment/10\n",
    "    from collections import Counter\n",
    "    import string\n",
    "    #Output: {\"hello\": 2, \"world\": 1}\n",
    "    print('ot: ',str8 )\n",
    "    str8 = str8.lower().translate(str.maketrans('','',string.punctuation))\n",
    "    strLst = str8.split()\n",
    "    print('ch: ',str8)\n",
    "    freqCntDict = Counter(strLst)\n",
    "    print('Dict: ',dict(freqCntDict))\n",
    "str8 = \"Hello hello world!\"\n",
    "fun8(str8) #Word Frequency in Sentence using Counter from collections. for tradional: day01/listAssignment/10"
   ]
  },
  {
   "cell_type": "code",
   "execution_count": 18,
   "id": "39f27e66-2a4f-4693-b145-9f5cecd1ec66",
   "metadata": {},
   "outputs": [
    {
     "name": "stdout",
     "output_type": "stream",
     "text": [
      "['name', 'age', 'city']\n",
      "['Alice', 25, 'Toronto']\n",
      "{'name': 'Alice', 'age': 25, 'city': 'Toronto'}\n"
     ]
    }
   ],
   "source": [
    "# : Create a Dictionary from Two Lists using zip function from dict\n",
    "def fun9(keys,values):\n",
    "    #Output: {\"name\": \"Alice\", \"age\": 25, \"city\": \"Toronto\"}\n",
    "    print(keys)\n",
    "    print(values)\n",
    "    dictFromList=dict(zip(keys,values))   \n",
    "    print(dictFromList)\n",
    "keys = [\"name\", \"age\", \"city\"]\n",
    "values = [\"Alice\", 25, \"Toronto\"]\n",
    "fun9(keys,values) # : Create a Dictionary from Two Lists using zip function from dict"
   ]
  },
  {
   "cell_type": "code",
   "execution_count": 19,
   "id": "f323857b-307a-4e6b-8c5f-47ae5303c9ba",
   "metadata": {},
   "outputs": [
    {
     "name": "stdout",
     "output_type": "stream",
     "text": [
      "Hello123@!\n",
      "{'letters': 5, 'digits': 3, 'punctucation': 1}\n"
     ]
    }
   ],
   "source": [
    "#Character Type Counter\n",
    "def fun10(inputStr):\n",
    "    import string \n",
    "    from collections import defaultdict\n",
    "    #Count how many digits, letters, and special characters are in a string using a dictionary.\n",
    "    #if using defaultdict from collection\n",
    "    charTypeDict={}\n",
    "    #charTypeDictLst= defaultdict(list)\n",
    "\n",
    "    for ch in inputStr:\n",
    "        if ch.isalpha():\n",
    "            charTypeDict['letters']=charTypeDict.get('letters',0)+1\n",
    "            #charTypeDictLst['letters']+=1\n",
    "        elif ch.isdigit():\n",
    "            charTypeDict['digits']=charTypeDict.get('digits',0)+1\n",
    "        elif ch.isspace():\n",
    "            charTypeDict['spaces']=charTypeDict.get('spaces',0)+1\n",
    "        elif ch in string.punctuation:\n",
    "            charTypeDict['punctucation'] = charTypeDict.get('punctuation',0)+1\n",
    "        else:\n",
    "            charTypeDict['others']=charTypeDict.get('others',0)+1\n",
    "    #Output: {\"letters\": 5, \"digits\": 3, \"specials\": 2}\n",
    "    print(inputStr)\n",
    "    print(charTypeDict)\n",
    "inputStr= \"Hello123@!\"\n",
    "fun10(inputStr) #Character Type Counter"
   ]
  },
  {
   "cell_type": "code",
   "execution_count": 36,
   "id": "cc6a3b35-9086-4467-ab0f-3e7b8121ce5b",
   "metadata": {},
   "outputs": [
    {
     "name": "stdout",
     "output_type": "stream",
     "text": [
      "{'a': 1, 'b': 2, 'c': 1, 'd': 3}\n",
      "Counter:  Counter({'d': 3, 'b': 2, 'a': 1, 'c': 1})\n",
      "most_common:  <bound method Counter.most_common of Counter({1: 2, 2: 1, 3: 1})>\n",
      "[(1, 2)]\n",
      "1\n"
     ]
    }
   ],
   "source": [
    "#Most Common Value in dictionary\n",
    "def fun11(dict11):\n",
    "    #Counter counts how many time each value appears in the dict\n",
    "    #input: iterable with list,string,tuple or any sequence of hashable table\n",
    "    #Returns  Counter object works like a dicitionary with extra counting feature\n",
    "    #most_common returns a list of tuples with sigle most common (value,count)pair\n",
    "    #returns the items sorted by their counts in descending order\n",
    "    #To access the most common value: most_common(1) returns list with tuple with 1st element\n",
    "    #to acess the value most_common(1)[0] and count most_common(1)[0][0]\n",
    "    #Output: 1\n",
    "    from collections import Counter\n",
    "    print(dict11)\n",
    "    print('Counter: ',Counter(dict11))\n",
    "    print(\"most_common: \",Counter(dict11.values()).most_common)\n",
    "    print(Counter(dict11 .values()).most_common(1))\n",
    "    print(Counter(dict11.values()).most_common(1)[0][0])\n",
    "dict11 = {\"a\": 1, \"b\": 2, \"c\": 1, \"d\": 3}\n",
    "fun11(dict11) #Most Common Value in dictionary"
   ]
  },
  {
   "cell_type": "code",
   "execution_count": 21,
   "id": "a7014c59-44a3-4f60-89e6-9dbfdfe71ed2",
   "metadata": {},
   "outputs": [
    {
     "name": "stdout",
     "output_type": "stream",
     "text": [
      "{'Alice': [80, 90, 85], 'Bob': [70, 60, 75]}\n",
      "{'Alice': 85.0, 'Bob': 68.33}\n",
      "{'Alice': 85.0, 'Bob': 68.33}\n"
     ]
    }
   ],
   "source": [
    "#Calculate and return a dictionary with their average scores. nested dictionary\n",
    "def fun12(dict12): #Nested Dictionary calculate average\n",
    "#Output:  {\"Alice\": 85.0, \"Bob\": 68.33}\n",
    "    print(dict12)\n",
    "    avg=0\n",
    "    avgDict={}\n",
    "    for key, value in dict12.items():\n",
    "        avg=0\n",
    "        for grade in value:\n",
    "            avg += grade\n",
    "        avgDict[key]=round(avg/len(value),2)\n",
    "    print(avgDict)\n",
    "    #single line solution\n",
    "    avgDict1 = {key: round(sum(value)/len(value),2) for key,value in dict12.items()}\n",
    "    print(avgDict1)\n",
    "#dict12 dictionary with list of numbers\n",
    "dict12 = {\n",
    "    \"Alice\": [80, 90, 85],\n",
    "    \"Bob\": [70, 60, 75]\n",
    "}\n",
    "fun12(dict12) #Calculate and return a dictionary with their average scores. nested dictionary"
   ]
  },
  {
   "cell_type": "code",
   "execution_count": 22,
   "id": "060f15c4-8610-4e6f-aaaf-0eedfb721753",
   "metadata": {},
   "outputs": [
    {
     "name": "stdout",
     "output_type": "stream",
     "text": [
      "dict_values([{'price': 2.5, 'quantity': 4}, {'price': 1.2, 'quantity': 6}, {'price': 3.0, 'quantity': 2}])\n",
      "23.2\n"
     ]
    }
   ],
   "source": [
    "#Write a Python function to calculate and return the total cost of all items in the cart.\n",
    "def fun13(cart):\n",
    "    #output: Total cost: 21.8\n",
    "    print(cart.values())\n",
    "    costDict =sum([round(value['price']*value['quantity'],2) for key,value in cart.items()])\n",
    "    print(costDict) \n",
    "cart = {\n",
    "    \"apple\": {\"price\": 2.5, \"quantity\": 4},\n",
    "    \"banana\": {\"price\": 1.2, \"quantity\": 6},\n",
    "    \"milk\": {\"price\": 3.0, \"quantity\": 2}\n",
    "}\n",
    "fun13(cart) #Write a Python function to calculate and return the total cost of all items in the cart.\n"
   ]
  }
 ],
 "metadata": {
  "kernelspec": {
   "display_name": "Python 3 (ipykernel)",
   "language": "python",
   "name": "python3"
  },
  "language_info": {
   "codemirror_mode": {
    "name": "ipython",
    "version": 3
   },
   "file_extension": ".py",
   "mimetype": "text/x-python",
   "name": "python",
   "nbconvert_exporter": "python",
   "pygments_lexer": "ipython3",
   "version": "3.12.7"
  }
 },
 "nbformat": 4,
 "nbformat_minor": 5
}
