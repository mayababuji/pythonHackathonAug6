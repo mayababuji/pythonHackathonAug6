{
 "cells": [
  {
   "cell_type": "code",
   "execution_count": 155,
   "id": "d231e6d5-69ec-4baf-9bb0-6b0343f1c1d7",
   "metadata": {},
   "outputs": [
    {
     "name": "stdout",
     "output_type": "stream",
     "text": [
      "3.12.7 | packaged by Anaconda, Inc. | (main, Oct  4 2024, 13:27:36) [GCC 11.2.0]\n"
     ]
    }
   ],
   "source": [
    "import pandas as pd\n",
    "import numpy as np\n",
    "import sys\n",
    "print (sys.version)"
   ]
  },
  {
   "cell_type": "code",
   "execution_count": null,
   "id": "c34aad64-75c0-4186-bfee-a9815029de88",
   "metadata": {},
   "outputs": [],
   "source": [
    "#Q1: Store Count per City\n",
    "##Write Python code to count how many stores are in each city and print the result.\n",
    "#Q2: Top Selling Product\n",
    "#Find the product that has been sold in the highest total quantity across all stores.\n",
    "#Q3: Total Sales Revenue per Store\n",
    "#Using the prices dictionary and the sales DataFrame, calculate the total revenue for each store.\n",
    "#Q4: Highest Revenue City\n",
    "#Combine stores and your revenue results to determine which city earned the highest total revenue.\n",
    "#Q5: Missing Data Check\n",
    "#Introduce one NaN value into the sales DataFrame (for example in quantity) and write code to:\n",
    "    #Detect missing values\n",
    "    #Replace them with 0\n",
    "#Q6: Add values in df\n",
    "#Q7: Updates values in df\n",
    "#Q8: Update NaN values:"
   ]
  },
  {
   "cell_type": "code",
   "execution_count": null,
   "id": "368f5df1-a9f7-4480-9eca-6a46411d4302",
   "metadata": {},
   "outputs": [],
   "source": [
    "#Notes:\n",
    "# For faster calculations install pandarallel"
   ]
  },
  {
   "cell_type": "code",
   "execution_count": 122,
   "id": "5b3199e1-955f-46f3-8b5b-1be1a66804cc",
   "metadata": {},
   "outputs": [],
   "source": [
    "# Store Locations\n",
    "stores = [\n",
    "    {\"store_id\": 1, \"city\": \"Montreal\", \"manager\": \"Alice\"},\n",
    "    {\"store_id\": 2, \"city\": \"Vancouver\", \"manager\": \"Bob\"},\n",
    "    {\"store_id\": 3, \"city\": \"Montreal\", \"manager\": \"Charlie\"},\n",
    "    {\"store_id\": 4, \"city\": \"Montreal\", \"manager\": \"Charlie\"},\n",
    "]\n",
    "# Product Prices\n",
    "prices = {\n",
    "    \"Apples\": 3.5,\n",
    "    \"Bananas\": 2.0,\n",
    "    \"Milk\": 4.5,\n",
    "    \"Bread\": 3.0\n",
    "}\n",
    "\n",
    "# Sales Data\n",
    "sales = pd.DataFrame({\n",
    "    \"store_id\": [1, 2, 1, 3, 2, 1, 3, 3],\n",
    "    \"product\": [\"Apples\", \"Bananas\", \"Milk\", \"Apples\", \"Bread\", \"Bread\", \"Bananas\", \"Milk\"],\n",
    "    \"quantity\": [10, 20, 5, 15, 10, 12, 5, 8]\n",
    "})"
   ]
  },
  {
   "cell_type": "code",
   "execution_count": 10,
   "id": "2d3c51c9-4d8a-4877-b9ee-a49119ede519",
   "metadata": {},
   "outputs": [
    {
     "name": "stdout",
     "output_type": "stream",
     "text": [
      "[{'store_id': 1, 'city': 'Toronto', 'manager': 'Alice'}, {'store_id': 2, 'city': 'Vancouver', 'manager': 'Bob'}, {'store_id': 3, 'city': 'Montreal', 'manager': 'Charlie'}, {'store_id': 2, 'city': 'Montreal', 'manager': 'Charlie'}]\n",
      "{'Toronto': 1, 'Vancouver': 1, 'Montreal': 2}\n",
      "['Toronto', 'Vancouver', 'Montreal', 'Montreal']\n",
      "Using counter:  {'Toronto': 1, 'Vancouver': 1, 'Montreal': 2}\n",
      "   store_id       city  manager\n",
      "0         1    Toronto    Alice\n",
      "1         2  Vancouver      Bob\n",
      "2         3   Montreal  Charlie\n",
      "3         2   Montreal  Charlie\n",
      "city\n",
      "Montreal     2\n",
      "Toronto      1\n",
      "Vancouver    1\n",
      "Name: count, dtype: int64\n"
     ]
    }
   ],
   "source": [
    "##Write Python code to count how many stores are in each city and print the result.\n",
    "# 3ways:\n",
    "#Tradtional way\n",
    "print(stores)\n",
    "store_count={}\n",
    "for store in stores:\n",
    "    store_count[store['city']] = store_count.get(store['city'],0)+1\n",
    "print(store_count)\n",
    "#Using Counter\n",
    "from collections import Counter\n",
    "print(list(store['city'] for store in stores))\n",
    "city_counter = Counter(store['city'] for store in stores)\n",
    "print('Using counter: ',dict(city_counter))\n",
    "#Using Pandas\n",
    "df = pd.DataFrame(stores)\n",
    "print(df)\n",
    "city_store = df[\"city\"].value_counts()\n",
    "print(city_store)"
   ]
  },
  {
   "cell_type": "code",
   "execution_count": 110,
   "id": "f4399531-7a9a-415f-be99-ac9894c7cae3",
   "metadata": {},
   "outputs": [
    {
     "name": "stdout",
     "output_type": "stream",
     "text": [
      "   store_id  product  quantity\n",
      "0         1   Apples        10\n",
      "1         2  Bananas        20\n",
      "2         1     Milk         5\n",
      "3         3   Apples        15\n",
      "4         2    Bread        10\n",
      "5         1    Bread        12\n",
      "6         3  Bananas         5\n",
      "7         3     Milk         8\n",
      "<class 'pandas.core.frame.DataFrame'>\n",
      "Total sale: \n",
      " product\n",
      "Apples     25\n",
      "Bananas    25\n",
      "Bread      22\n",
      "Milk       13\n",
      "Name: quantity, dtype: int64\n",
      "Type of product_total:  <class 'pandas.core.series.Series'>\n",
      "index- All products in List:  Index(['Apples', 'Bananas', 'Bread', 'Milk'], dtype='object', name='product')\n",
      "All quantitiies in List:  [25 25 22 13]\n",
      "Highest sale item:  Apples\n",
      "highest quantity:  25\n",
      "   product  Total Quantity\n",
      "0   Apples              25\n",
      "1  Bananas              25\n",
      "2    Bread              22\n",
      "3     Milk              13\n"
     ]
    }
   ],
   "source": [
    "#Top Selling Product\n",
    "#Find the product that has been sold in the highest total quantity across all stores and export it into CSV and EXCEL file\n",
    "sales = pd.DataFrame({\n",
    "    \"store_id\": [1, 2, 1, 3, 2, 1, 3, 3],\n",
    "    \"product\": [\"Apples\", \"Bananas\", \"Milk\", \"Apples\", \"Bread\", \"Bread\", \"Bananas\", \"Milk\"],\n",
    "    \"quantity\": [10, 20, 5, 15, 10, 12, 5, 8]\n",
    "})\n",
    "print(sales)\n",
    "print(type(sales))\n",
    "#create series class\n",
    "product_total= sales.groupby(\"product\")[\"quantity\"].sum()\n",
    "print('Total sale: \\n',product_total)\n",
    "\n",
    "print('Type of product_total: ', type(product_total))\n",
    "#access products: using index\n",
    "print('index- All products in List: ',product_total.index)\n",
    "#access quantity Using values:\n",
    "print('All quantitiies in List: ', product_total.values)\n",
    "#get highest sale items\n",
    "print('Highest sale item: ',product_total.idxmax())\n",
    "print('highest quantity: ', product_total.max())\n",
    "# convert seires into df with column heading as Quatity\n",
    "df = product_total.reset_index(name=\"Total Quantity\")\n",
    "print(df)\n",
    "#Export to CSV and EXCEL\n",
    "df.to_csv(\"TopSellingProduct.csv\", index=False) #False no index as a first column ie 0,1,2 etc\n",
    "df.to_excel(\"TopSellingProduct.xlsx\", index=False)"
   ]
  },
  {
   "cell_type": "code",
   "execution_count": 63,
   "id": "71755cea-fe62-46e5-b10e-c74d21ac7798",
   "metadata": {},
   "outputs": [
    {
     "name": "stdout",
     "output_type": "stream",
     "text": [
      "   store_id  product  quantity\n",
      "0         1   Apples        10\n",
      "1         2  Bananas        20\n",
      "2         1     Milk         5\n",
      "3         3   Apples        15\n",
      "4         2    Bread        10\n",
      "5         1    Bread        12\n",
      "6         3  Bananas         5\n",
      "7         3     Milk         8\n",
      "store_id  product\n",
      "1         Apples     35.0\n",
      "          Bread      36.0\n",
      "          Milk       22.5\n",
      "2         Bananas    40.0\n",
      "          Bread      30.0\n",
      "3         Apples     52.5\n",
      "          Bananas    10.0\n",
      "          Milk       36.0\n",
      "dtype: float64\n",
      "store_id\n",
      "1    93.5\n",
      "2    70.0\n",
      "3    98.5\n",
      "dtype: float64\n"
     ]
    }
   ],
   "source": [
    "#Q3: Total Sales Revenue per Store\n",
    "#Using the prices dictionary and the sales DataFrame, calculate the total revenue for each store.\n",
    "#steps: groupby, map and vectorized multiply\n",
    "# Product Prices\n",
    "prices = {\"Apples\": 3.5,\"Bananas\": 2.0,\"Milk\": 4.5,\"Bread\": 3.0}\n",
    "sales = pd.DataFrame({\n",
    "    \"store_id\": [1, 2, 1, 3, 2, 1, 3, 3],\n",
    "    \"product\": [\"Apples\", \"Bananas\", \"Milk\", \"Apples\", \"Bread\", \"Bread\", \"Bananas\", \"Milk\"],\n",
    "    \"quantity\": [10, 20, 5, 15, 10, 12, 5, 8]\n",
    "})\n",
    "# Sales Data\n",
    "sales = pd.DataFrame({\n",
    "    \"store_id\": [1, 2, 1, 3, 2, 1, 3, 3],\n",
    "    \"product\": [\"Apples\", \"Bananas\", \"Milk\", \"Apples\", \"Bread\", \"Bread\", \"Bananas\", \"Milk\"],\n",
    "    \"quantity\": [10, 20, 5, 15, 10, 12, 5, 8]\n",
    "})\n",
    "#sales['prices'] = sales['product'].map(prices)\n",
    "print(sales)\n",
    "total_sale = sales.groupby([\"store_id\",\"product\"])[\"quantity\"].sum()\n",
    "total_rev  = total_sale * total_sale.index.get_level_values('product').map(prices)\n",
    "print(total_rev)\n",
    "total_rev_per_store = total_rev.groupby('store_id').sum()\n",
    "print(total_rev_per_store)\n"
   ]
  },
  {
   "cell_type": "code",
   "execution_count": 116,
   "id": "d1101f7d-636c-4ab9-8cc3-c65599dee8d6",
   "metadata": {},
   "outputs": [
    {
     "name": "stdout",
     "output_type": "stream",
     "text": [
      "stores: \n",
      " [{'store_id': 1, 'city': 'Montreal', 'manager': 'Alice'}, {'store_id': 2, 'city': 'Vancouver', 'manager': 'Bob'}, {'store_id': 3, 'city': 'Montreal', 'manager': 'Charlie'}, {'store_id': 4, 'city': 'Montreal', 'manager': 'Charlie'}]\n",
      "Stroes Dataframe: \n",
      "    store_id       city  manager\n",
      "0         1   Montreal    Alice\n",
      "1         2  Vancouver      Bob\n",
      "2         3   Montreal  Charlie\n",
      "3         4   Montreal  Charlie\n",
      "store_rev:  store_id\n",
      "1    93.5\n",
      "2    70.0\n",
      "3    98.5\n",
      "dtype: float64\n",
      "df after adding name: \n",
      "    store_id  revenue\n",
      "0         1     93.5\n",
      "1         2     70.0\n",
      "2         3     98.5\n",
      "merged result: \n",
      "    store_id  revenue       city  manager\n",
      "0         1     93.5   Montreal    Alice\n",
      "1         2     70.0  Vancouver      Bob\n",
      "2         3     98.5   Montreal  Charlie\n",
      "df1 if stores has multiple stores in single city: \n",
      " city\n",
      "Montreal     192.0\n",
      "Vancouver     70.0\n",
      "Name: revenue, dtype: float64\n",
      "        city  revenue\n",
      "0   Montreal     93.5\n",
      "1  Vancouver     70.0\n",
      "2   Montreal     98.5\n"
     ]
    }
   ],
   "source": [
    "#Q4: Highest Revenue City\n",
    "#Combine stores and your revenue results to determine which city earned the highest total revenue.\n",
    "#convert stores from list of dictionaries to DataFrame\n",
    "#get total_rev_per_store from above example result\n",
    "#add name \"revenue\" in it\n",
    "#merged both dfs on store_id\n",
    "#if stores has multiple stores ina single city and if each one has revenue then groupby and sum on revenue\n",
    "#print df1\n",
    "print('stores: \\n',stores)\n",
    "stores_df  = pd.DataFrame(stores)\n",
    "print('Stroes Dataframe: \\n',stores_df)\n",
    "print('store_rev: ', total_rev_per_store)\n",
    "df = total_rev_per_store.reset_index(name=\"revenue\")\n",
    "print('df after adding name: \\n',df)\n",
    "total_rev_per_city = pd.merge(df, stores_df, on ='store_id')\n",
    "print('merged result: \\n',total_rev_per_city)\n",
    "df1 = total_rev_per_city.groupby('city')['revenue'].sum()\n",
    "print('df1 if stores has multiple stores in single city: \\n',df1)\n",
    "print(total_rev_per_city[['city','revenue']])\n"
   ]
  },
  {
   "cell_type": "code",
   "execution_count": 152,
   "id": "189b7d5c-4a4f-4a2e-99d6-e43cbe7f9d87",
   "metadata": {},
   "outputs": [
    {
     "name": "stdout",
     "output_type": "stream",
     "text": [
      "   store_id  product  quantity\n",
      "0       1.0   Apples      10.0\n",
      "1       2.0  Bananas      20.0\n",
      "2       1.0     Milk       5.0\n",
      "3       3.0   Apples      15.0\n",
      "4       2.0    Bread      10.0\n",
      "5       1.0    Bread      12.0\n",
      "6       3.0  Bananas       5.0\n",
      "7       3.0     Milk       8.0\n",
      "8       NaN      NaN       NaN\n",
      "   store_id  product  quantity\n",
      "0     False    False     False\n",
      "1     False    False     False\n",
      "2     False    False     False\n",
      "3     False    False     False\n",
      "4     False    False     False\n",
      "5     False    False     False\n",
      "6     False    False     False\n",
      "7     False    False     False\n",
      "8      True     True      True\n",
      "store_id    True\n",
      "product     True\n",
      "quantity    True\n",
      "dtype: bool\n",
      "   store_id  product  quantity\n",
      "0       1.0   Apples      10.0\n",
      "1       2.0  Bananas      20.0\n",
      "2       1.0     Milk       5.0\n",
      "3       3.0   Apples      15.0\n",
      "4       2.0    Bread      10.0\n",
      "5       1.0    Bread      12.0\n",
      "6       3.0  Bananas       5.0\n",
      "7       3.0     Milk       8.0\n",
      "8       0.0    Mango       0.0\n"
     ]
    }
   ],
   "source": [
    "#Q5: Missing Data Check\n",
    "#Introduce one NaN value into the sales DataFrame (for example in quantity) and write code to:\n",
    "    #Detect missing values : using isna()\n",
    "    #Replace them with 0\n",
    "#added row with single column\n",
    "#updated newly added store_id \n",
    "#filled NaN values with 0 and commit the chages\n",
    "\n",
    "#print(sales)\n",
    "new_row  = {'quantity':np.nan}\n",
    "df = pd.concat([sales,pd.DataFrame([new_row])],ignore_index=True)\n",
    "print(df)\n",
    "print(df.isna())\n",
    "print(df.isna().any())\n",
    "df.at[8,'product']='Mango'\n",
    "#df.loc[8,['product','store_id']]=['Morniga',1]\n",
    "\n",
    "df.fillna(0,inplace=True)\n",
    "print(df)\n"
   ]
  },
  {
   "cell_type": "code",
   "execution_count": null,
   "id": "aafa924f-7f4d-4f8e-a29e-895b49134797",
   "metadata": {},
   "outputs": [],
   "source": [
    "#add data in df : \n",
    "#add row with single column\n",
    "#add new column with single value\n",
    "#add new column with different values\n",
    "#add scalar value to specific cell\n",
    "#Add values element-wise between columns\n"
   ]
  },
  {
   "cell_type": "code",
   "execution_count": null,
   "id": "41015429-3412-452a-99fc-98bbf54de82a",
   "metadata": {},
   "outputs": [],
   "source": [
    "#update Data in df\n",
    "#Update specific cell by index and column\n",
    "#Update using .loc[] for label-based indexing\n",
    "#Update entire column\n",
    "#Update using condition\n",
    "#Update using .update() method\n",
    "#Update multiple columns for specific rows\n",
    "#Update multiple columns for multiple rows\n",
    "#Update columns using a DataFrame"
   ]
  },
  {
   "cell_type": "code",
   "execution_count": null,
   "id": "fcdfd940-316b-4a3d-9565-30044ce62fd2",
   "metadata": {},
   "outputs": [],
   "source": [
    "#updated NaN values:\n",
    "#Fill missing values with a specific value (fillna)\n",
    "#Fill missing values with different values per column\n",
    "#Forward fill (propagate last valid value forward)\n",
    "#Backward fill (use next valid value to fill NaN)\n",
    "#Replace missing values only in specific columns\n",
    "#Update missing values with mean/median of the column"
   ]
  }
 ],
 "metadata": {
  "kernelspec": {
   "display_name": "Python 3 (ipykernel)",
   "language": "python",
   "name": "python3"
  },
  "language_info": {
   "codemirror_mode": {
    "name": "ipython",
    "version": 3
   },
   "file_extension": ".py",
   "mimetype": "text/x-python",
   "name": "python",
   "nbconvert_exporter": "python",
   "pygments_lexer": "ipython3",
   "version": "3.12.7"
  }
 },
 "nbformat": 4,
 "nbformat_minor": 5
}
