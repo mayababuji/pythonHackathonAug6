{
 "cells": [
  {
   "cell_type": "markdown",
   "id": "fbf3b18a",
   "metadata": {},
   "source": [
    "# Q1 Import Pandas"
   ]
  },
  {
   "cell_type": "code",
   "execution_count": 5,
   "id": "9ac7c870",
   "metadata": {},
   "outputs": [],
   "source": [
    "import pandas as pd"
   ]
  },
  {
   "cell_type": "markdown",
   "id": "1b62f445",
   "metadata": {},
   "source": [
    "# Q2 Get the dataset from Kaggle. Save it on your local system.\n",
    "\n",
    "https://www.kaggle.com/datasets/keyuripalav/gestational-diabetes-dataset-for-learning-pandas\n"
   ]
  },
  {
   "cell_type": "code",
   "execution_count": 7,
   "id": "9b48d40d",
   "metadata": {},
   "outputs": [
    {
     "name": "stdout",
     "output_type": "stream",
     "text": [
      "<class 'pandas.core.frame.DataFrame'>\n"
     ]
    }
   ],
   "source": [
    "#read excel\n",
    "daibetic_df = pd.read_excel('/Users/maya/Downloads/archive/glucose_lowering_therapies.xlsx')\n",
    "print(type(daibetic_df))"
   ]
  },
  {
   "cell_type": "code",
   "execution_count": 9,
   "id": "3b8c97c9-ccb4-4b13-a784-500a95bf7312",
   "metadata": {},
   "outputs": [
    {
     "name": "stdout",
     "output_type": "stream",
     "text": [
      "<class 'pandas.core.frame.DataFrame'>\n"
     ]
    }
   ],
   "source": [
    "#read csv\n",
    "glucose_df = pd.read_csv('/Users/maya/Downloads/archive/gestational_diabetes_data.csv')\n",
    "print(type(glucose_df))"
   ]
  },
  {
   "cell_type": "markdown",
   "id": "1b20a1e9",
   "metadata": {},
   "source": [
    "# Q3 Read files into Dataframes and name them appropriately."
   ]
  },
  {
   "cell_type": "code",
   "execution_count": 3,
   "id": "f489a380",
   "metadata": {},
   "outputs": [
    {
     "ename": "NameError",
     "evalue": "name 'pd' is not defined",
     "output_type": "error",
     "traceback": [
      "\u001b[0;31m---------------------------------------------------------------------------\u001b[0m",
      "\u001b[0;31mNameError\u001b[0m                                 Traceback (most recent call last)",
      "Cell \u001b[0;32mIn[3], line 2\u001b[0m\n\u001b[1;32m      1\u001b[0m \u001b[38;5;66;03m#read excel\u001b[39;00m\n\u001b[0;32m----> 2\u001b[0m daibetic_df \u001b[38;5;241m=\u001b[39m pd\u001b[38;5;241m.\u001b[39mread_excel(\u001b[38;5;124m'\u001b[39m\u001b[38;5;124m/Users/maya/Downloads/archive/glucose_lowering_therapies.xlsx\u001b[39m\u001b[38;5;124m'\u001b[39m)\n\u001b[1;32m      3\u001b[0m daibetic_df\n",
      "\u001b[0;31mNameError\u001b[0m: name 'pd' is not defined"
     ]
    }
   ],
   "source": [
    "#read excel\n",
    "daibetic_df = pd.read_excel('/Users/maya/Downloads/archive/glucose_lowering_therapies.xlsx')\n",
    "daibetic_df"
   ]
  },
  {
   "cell_type": "code",
   "execution_count": null,
   "id": "ea0c5dd3-315d-4e71-bb6b-50576428a70e",
   "metadata": {},
   "outputs": [],
   "source": [
    "#read csv\n",
    "glucose_df = pd.read_csv('/Users/maya/Downloads/archive/gestational_diabetes_data.csv')\n",
    "glucose_df"
   ]
  },
  {
   "cell_type": "markdown",
   "id": "d9e0b66f",
   "metadata": {},
   "source": [
    "# Q4 Explore the Dataframes using various pandas functions. \n",
    "\n",
    "Note: Add new cells (if needed) to the Jupyter Notebook for answering this question\n"
   ]
  },
  {
   "cell_type": "code",
   "execution_count": 11,
   "id": "7c0330d4",
   "metadata": {},
   "outputs": [
    {
     "data": {
      "text/html": [
       "<div>\n",
       "<style scoped>\n",
       "    .dataframe tbody tr th:only-of-type {\n",
       "        vertical-align: middle;\n",
       "    }\n",
       "\n",
       "    .dataframe tbody tr th {\n",
       "        vertical-align: top;\n",
       "    }\n",
       "\n",
       "    .dataframe thead th {\n",
       "        text-align: right;\n",
       "    }\n",
       "</style>\n",
       "<table border=\"1\" class=\"dataframe\">\n",
       "  <thead>\n",
       "    <tr style=\"text-align: right;\">\n",
       "      <th></th>\n",
       "      <th>PatientID</th>\n",
       "      <th>Date</th>\n",
       "      <th>Age</th>\n",
       "      <th>Pregnancies</th>\n",
       "      <th>Glucose</th>\n",
       "      <th>BloodPressure</th>\n",
       "      <th>SkinThickness</th>\n",
       "      <th>Weight</th>\n",
       "      <th>Height</th>\n",
       "      <th>DiabetesPedigreeFunction</th>\n",
       "      <th>Ethnicity</th>\n",
       "      <th>SmokingStatus</th>\n",
       "      <th>AlcoholConsumption</th>\n",
       "      <th>Outcome</th>\n",
       "    </tr>\n",
       "  </thead>\n",
       "  <tbody>\n",
       "    <tr>\n",
       "      <th>0</th>\n",
       "      <td>1</td>\n",
       "      <td>2024-08-05 6:47:16</td>\n",
       "      <td>42</td>\n",
       "      <td>1</td>\n",
       "      <td>168.0</td>\n",
       "      <td>87</td>\n",
       "      <td>39</td>\n",
       "      <td>79.415724</td>\n",
       "      <td>1.524985</td>\n",
       "      <td>6.50</td>\n",
       "      <td>Hispanic</td>\n",
       "      <td>Current</td>\n",
       "      <td>Occasionally</td>\n",
       "      <td>1</td>\n",
       "    </tr>\n",
       "    <tr>\n",
       "      <th>1</th>\n",
       "      <td>2</td>\n",
       "      <td>2024-05-12 6:47:16</td>\n",
       "      <td>39</td>\n",
       "      <td>3</td>\n",
       "      <td>210.0</td>\n",
       "      <td>82</td>\n",
       "      <td>47</td>\n",
       "      <td>84.424995</td>\n",
       "      <td>1.527511</td>\n",
       "      <td>1.09</td>\n",
       "      <td>Other</td>\n",
       "      <td>Never</td>\n",
       "      <td>Occasionally</td>\n",
       "      <td>1</td>\n",
       "    </tr>\n",
       "    <tr>\n",
       "      <th>2</th>\n",
       "      <td>3</td>\n",
       "      <td>2024-08-09 6:47:16</td>\n",
       "      <td>29</td>\n",
       "      <td>2</td>\n",
       "      <td>145.0</td>\n",
       "      <td>70</td>\n",
       "      <td>29</td>\n",
       "      <td>72.909680</td>\n",
       "      <td>1.680732</td>\n",
       "      <td>0.72</td>\n",
       "      <td>Caucasian</td>\n",
       "      <td>Former</td>\n",
       "      <td>Never</td>\n",
       "      <td>0</td>\n",
       "    </tr>\n",
       "  </tbody>\n",
       "</table>\n",
       "</div>"
      ],
      "text/plain": [
       "   PatientID                Date  Age  Pregnancies  Glucose  BloodPressure  \\\n",
       "0          1  2024-08-05 6:47:16   42            1    168.0             87   \n",
       "1          2  2024-05-12 6:47:16   39            3    210.0             82   \n",
       "2          3  2024-08-09 6:47:16   29            2    145.0             70   \n",
       "\n",
       "   SkinThickness     Weight    Height  DiabetesPedigreeFunction  Ethnicity  \\\n",
       "0             39  79.415724  1.524985                      6.50   Hispanic   \n",
       "1             47  84.424995  1.527511                      1.09      Other   \n",
       "2             29  72.909680  1.680732                      0.72  Caucasian   \n",
       "\n",
       "  SmokingStatus AlcoholConsumption  Outcome  \n",
       "0       Current       Occasionally        1  \n",
       "1         Never       Occasionally        1  \n",
       "2        Former              Never        0  "
      ]
     },
     "execution_count": 11,
     "metadata": {},
     "output_type": "execute_result"
    }
   ],
   "source": [
    "#print top 3 row of the dataframe\n",
    "glucose_df.head(3)"
   ]
  },
  {
   "cell_type": "code",
   "execution_count": null,
   "id": "4c42c719-8f5a-4c1c-8e01-e71ed8e7a12a",
   "metadata": {},
   "outputs": [],
   "source": []
  },
  {
   "cell_type": "code",
   "execution_count": null,
   "id": "ddcf2721-077a-45b6-a8f0-2101341f2053",
   "metadata": {},
   "outputs": [],
   "source": []
  },
  {
   "cell_type": "code",
   "execution_count": 1,
   "id": "54680376-aaf1-40d1-8a1a-d0da06f5bc53",
   "metadata": {},
   "outputs": [
    {
     "ename": "NameError",
     "evalue": "name 'glucose_df' is not defined",
     "output_type": "error",
     "traceback": [
      "\u001b[0;31m---------------------------------------------------------------------------\u001b[0m",
      "\u001b[0;31mNameError\u001b[0m                                 Traceback (most recent call last)",
      "Cell \u001b[0;32mIn[1], line 2\u001b[0m\n\u001b[1;32m      1\u001b[0m \u001b[38;5;66;03m#print last 3 rows\u001b[39;00m\n\u001b[0;32m----> 2\u001b[0m glucose_df\u001b[38;5;241m.\u001b[39mtail(\u001b[38;5;241m3\u001b[39m)\n",
      "\u001b[0;31mNameError\u001b[0m: name 'glucose_df' is not defined"
     ]
    }
   ],
   "source": [
    "#print last 3 rows\n",
    "glucose_df.tail(3)"
   ]
  },
  {
   "cell_type": "code",
   "execution_count": null,
   "id": "1c72d14d-aeb0-4d99-ab81-4c0b625339ea",
   "metadata": {},
   "outputs": [],
   "source": [
    "#meta data of the dataframe\n",
    "daibetic_df.info()"
   ]
  },
  {
   "cell_type": "code",
   "execution_count": null,
   "id": "e9097d1d-1eba-4fcb-b3a2-943fc5dc221c",
   "metadata": {},
   "outputs": [],
   "source": [
    "#print the rows by columns\n",
    "daibetic_df.shape"
   ]
  },
  {
   "cell_type": "code",
   "execution_count": null,
   "id": "e2d1932c-bf76-46f4-b20d-37546fecc2d0",
   "metadata": {},
   "outputs": [],
   "source": []
  },
  {
   "cell_type": "markdown",
   "id": "e97f755d",
   "metadata": {},
   "source": [
    "# Q5 Check for duplicates  in both dataframes. Drop duplicates if any."
   ]
  },
  {
   "cell_type": "code",
   "execution_count": null,
   "id": "3b64ed4c",
   "metadata": {},
   "outputs": [],
   "source": [
    "daibetic_df[daibetic_df.duplicated()]"
   ]
  },
  {
   "cell_type": "code",
   "execution_count": 15,
   "id": "3ca976b2-0b03-41cf-be40-40e9abf297d4",
   "metadata": {},
   "outputs": [
    {
     "data": {
      "text/plain": [
       "(100, 14)"
      ]
     },
     "execution_count": 15,
     "metadata": {},
     "output_type": "execute_result"
    }
   ],
   "source": [
    "glucose_df.shape"
   ]
  },
  {
   "cell_type": "code",
   "execution_count": 21,
   "id": "790d04c3-c554-46e6-bebf-768db39d3a55",
   "metadata": {},
   "outputs": [
    {
     "data": {
      "text/plain": [
       "(100, 4)"
      ]
     },
     "execution_count": 21,
     "metadata": {},
     "output_type": "execute_result"
    }
   ],
   "source": [
    "daibetic_df.shape"
   ]
  },
  {
   "cell_type": "code",
   "execution_count": null,
   "id": "16a8bad7",
   "metadata": {},
   "outputs": [],
   "source": [
    "glucose_df[glucose_df.duplicated()]"
   ]
  },
  {
   "cell_type": "code",
   "execution_count": null,
   "id": "bc7a36bf-6bf6-44bf-b3c2-ecc2001fe5fe",
   "metadata": {},
   "outputs": [],
   "source": [
    "glucose_df.drop_duplicates(inplace=True)"
   ]
  },
  {
   "cell_type": "code",
   "execution_count": 67,
   "id": "ed9e3795-a21e-42ea-8572-cbb62f77a5d5",
   "metadata": {},
   "outputs": [],
   "source": [
    "glucose_df.shape\n",
    "daibetic_df.drop_duplicates(inplace=True)"
   ]
  },
  {
   "cell_type": "code",
   "execution_count": null,
   "id": "cd29554c-7e65-4af8-93a0-dbc6e42eb2e9",
   "metadata": {},
   "outputs": [],
   "source": []
  },
  {
   "cell_type": "code",
   "execution_count": null,
   "id": "4cb05c9f-1601-40d4-91fe-4c941ace9df3",
   "metadata": {},
   "outputs": [],
   "source": []
  },
  {
   "cell_type": "code",
   "execution_count": null,
   "id": "b57c49fd",
   "metadata": {},
   "outputs": [],
   "source": [
    "daibetic_df[daibetic_df['PatientID'].duplicated()]"
   ]
  },
  {
   "cell_type": "code",
   "execution_count": null,
   "id": "e98d4e45-d5e8-4302-98d9-34c14777d4ef",
   "metadata": {},
   "outputs": [],
   "source": []
  },
  {
   "cell_type": "code",
   "execution_count": null,
   "id": "a324162e-d1a1-4255-a01f-6d966bfc674a",
   "metadata": {},
   "outputs": [],
   "source": [
    "glucose_df[glucose_df['PatientID'].duplicated()]"
   ]
  },
  {
   "cell_type": "code",
   "execution_count": 13,
   "id": "5cce8ac7-7858-4e6d-851f-e108262c7eb4",
   "metadata": {},
   "outputs": [],
   "source": [
    "glucose_df = glucose_df.drop_duplicates(subset='PatientID',keep='first')"
   ]
  },
  {
   "cell_type": "code",
   "execution_count": 19,
   "id": "b4ee061a-76d9-4944-bc4b-90cfc698a879",
   "metadata": {},
   "outputs": [],
   "source": [
    "daibetic_df = daibetic_df.drop_duplicates(subset='PatientID',keep='first')"
   ]
  },
  {
   "cell_type": "code",
   "execution_count": null,
   "id": "be5810f0-4fb9-42c1-b4d4-052a89d4fa51",
   "metadata": {},
   "outputs": [],
   "source": []
  },
  {
   "cell_type": "code",
   "execution_count": null,
   "id": "288d7a32-6255-40da-a446-203ef5bb3911",
   "metadata": {},
   "outputs": [],
   "source": []
  },
  {
   "cell_type": "code",
   "execution_count": null,
   "id": "459be427-5ce9-419d-9929-7239227b8490",
   "metadata": {},
   "outputs": [],
   "source": []
  },
  {
   "cell_type": "code",
   "execution_count": null,
   "id": "420eade6-55f4-41f6-bf33-40b1b316c320",
   "metadata": {},
   "outputs": [],
   "source": []
  },
  {
   "cell_type": "markdown",
   "id": "84acf291",
   "metadata": {},
   "source": [
    "# Q6 Check for missing data in both dataframes. Treat missing data."
   ]
  },
  {
   "cell_type": "code",
   "execution_count": 23,
   "id": "6a0f25a5",
   "metadata": {},
   "outputs": [
    {
     "data": {
      "text/plain": [
       "PatientID                  0\n",
       "Insulin                    0\n",
       "Metformin                  0\n",
       "Nutritional Counselling    0\n",
       "dtype: int64"
      ]
     },
     "execution_count": 23,
     "metadata": {},
     "output_type": "execute_result"
    }
   ],
   "source": [
    "daibetic_df.isna().sum()"
   ]
  },
  {
   "cell_type": "code",
   "execution_count": 25,
   "id": "c4f5365c-b009-4418-b6ba-f156a5a23a0d",
   "metadata": {},
   "outputs": [
    {
     "data": {
      "text/plain": [
       "PatientID                   0\n",
       "Date                        0\n",
       "Age                         0\n",
       "Pregnancies                 0\n",
       "Glucose                     9\n",
       "BloodPressure               0\n",
       "SkinThickness               0\n",
       "Weight                      0\n",
       "Height                      0\n",
       "DiabetesPedigreeFunction    0\n",
       "Ethnicity                   0\n",
       "SmokingStatus               0\n",
       "AlcoholConsumption          0\n",
       "Outcome                     0\n",
       "dtype: int64"
      ]
     },
     "execution_count": 25,
     "metadata": {},
     "output_type": "execute_result"
    }
   ],
   "source": [
    "glucose_df.isna().sum()"
   ]
  },
  {
   "cell_type": "code",
   "execution_count": 37,
   "id": "831a5565-357a-4265-b6c8-9a651e729f4a",
   "metadata": {},
   "outputs": [
    {
     "name": "stdout",
     "output_type": "stream",
     "text": [
      "<class 'pandas.core.frame.DataFrame'>\n",
      "Index: 100 entries, 0 to 99\n",
      "Data columns (total 14 columns):\n",
      " #   Column                    Non-Null Count  Dtype  \n",
      "---  ------                    --------------  -----  \n",
      " 0   PatientID                 100 non-null    int64  \n",
      " 1   Date                      100 non-null    object \n",
      " 2   Age                       100 non-null    int64  \n",
      " 3   Pregnancies               100 non-null    int64  \n",
      " 4   Glucose                   100 non-null    float64\n",
      " 5   BloodPressure             100 non-null    int64  \n",
      " 6   SkinThickness             100 non-null    int64  \n",
      " 7   Weight                    100 non-null    float64\n",
      " 8   Height                    100 non-null    float64\n",
      " 9   DiabetesPedigreeFunction  100 non-null    float64\n",
      " 10  Ethnicity                 100 non-null    object \n",
      " 11  SmokingStatus             100 non-null    object \n",
      " 12  AlcoholConsumption        100 non-null    object \n",
      " 13  Outcome                   100 non-null    int64  \n",
      "dtypes: float64(4), int64(6), object(4)\n",
      "memory usage: 11.7+ KB\n"
     ]
    }
   ],
   "source": [
    "glucose_df.info()"
   ]
  },
  {
   "cell_type": "code",
   "execution_count": 35,
   "id": "50aad8ed-5a10-4ac2-a619-6e748f62e8ba",
   "metadata": {},
   "outputs": [
    {
     "data": {
      "text/html": [
       "<div>\n",
       "<style scoped>\n",
       "    .dataframe tbody tr th:only-of-type {\n",
       "        vertical-align: middle;\n",
       "    }\n",
       "\n",
       "    .dataframe tbody tr th {\n",
       "        vertical-align: top;\n",
       "    }\n",
       "\n",
       "    .dataframe thead th {\n",
       "        text-align: right;\n",
       "    }\n",
       "</style>\n",
       "<table border=\"1\" class=\"dataframe\">\n",
       "  <thead>\n",
       "    <tr style=\"text-align: right;\">\n",
       "      <th></th>\n",
       "      <th>PatientID</th>\n",
       "      <th>Date</th>\n",
       "      <th>Age</th>\n",
       "      <th>Pregnancies</th>\n",
       "      <th>Glucose</th>\n",
       "      <th>BloodPressure</th>\n",
       "      <th>SkinThickness</th>\n",
       "      <th>Weight</th>\n",
       "      <th>Height</th>\n",
       "      <th>DiabetesPedigreeFunction</th>\n",
       "      <th>Ethnicity</th>\n",
       "      <th>SmokingStatus</th>\n",
       "      <th>AlcoholConsumption</th>\n",
       "      <th>Outcome</th>\n",
       "    </tr>\n",
       "  </thead>\n",
       "  <tbody>\n",
       "  </tbody>\n",
       "</table>\n",
       "</div>"
      ],
      "text/plain": [
       "Empty DataFrame\n",
       "Columns: [PatientID, Date, Age, Pregnancies, Glucose, BloodPressure, SkinThickness, Weight, Height, DiabetesPedigreeFunction, Ethnicity, SmokingStatus, AlcoholConsumption, Outcome]\n",
       "Index: []"
      ]
     },
     "execution_count": 35,
     "metadata": {},
     "output_type": "execute_result"
    }
   ],
   "source": [
    "glucose_df.loc[glucose_df['Glucose'].isna()]"
   ]
  },
  {
   "cell_type": "code",
   "execution_count": 31,
   "id": "d3072f3f-ecba-4dd9-925d-0451ad2541da",
   "metadata": {},
   "outputs": [
    {
     "data": {
      "text/plain": [
       "170.47252747252747"
      ]
     },
     "execution_count": 31,
     "metadata": {},
     "output_type": "execute_result"
    }
   ],
   "source": [
    "glucose_df['Glucose'].mean()"
   ]
  },
  {
   "cell_type": "code",
   "execution_count": 33,
   "id": "23db2ce1-40a0-4f80-9f63-671967208a19",
   "metadata": {},
   "outputs": [],
   "source": [
    "glucose_df['Glucose'] = glucose_df['Glucose'].fillna(glucose_df['Glucose'].mean())"
   ]
  },
  {
   "cell_type": "code",
   "execution_count": null,
   "id": "31351b70-d210-4d8d-b04b-4775dcac2f39",
   "metadata": {},
   "outputs": [],
   "source": []
  }
 ],
 "metadata": {
  "kernelspec": {
   "display_name": "Python [conda env:base] *",
   "language": "python",
   "name": "conda-base-py"
  },
  "language_info": {
   "codemirror_mode": {
    "name": "ipython",
    "version": 3
   },
   "file_extension": ".py",
   "mimetype": "text/x-python",
   "name": "python",
   "nbconvert_exporter": "python",
   "pygments_lexer": "ipython3",
   "version": "3.12.7"
  }
 },
 "nbformat": 4,
 "nbformat_minor": 5
}
