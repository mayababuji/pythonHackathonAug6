{
 "cells": [
  {
   "cell_type": "markdown",
   "metadata": {
    "id": "7_NI9RMovAra"
   },
   "source": [
    "---\n",
    "---\n",
    "## Data Structure: Dictionary\n",
    "\n",
    "* Dictionary is also a mutable collection. But as you have seen in the list the indexes of the list are integer numbers. Here, indexes for dictionaries can use many different data types, not just integers.\n",
    "* Indexes for dictionaries are called keys, and a key with its associated value is called a key-value pair.\n",
    "* Items in the dictionaries are unordered.\n",
    "*  Note: Dictionaries in Python 3.7 and later will remember the insertion order of their key-value pairs if you create a sequence value from them. But these are still unordered, as you can’t access items in them using integer indexes.\n",
    "* When we check whether the 2 lists are same or not the order of values in the list matters. It does not matter in what order the key-value pairs are typed in a dictionary.\n",
    "\n",
    "\n",
    "---"
   ]
  },
  {
   "cell_type": "markdown",
   "metadata": {
    "id": "0P4UDWq6vArk"
   },
   "source": [
    " ***Defining a dictionary in Python***"
   ]
  },
  {
   "cell_type": "code",
   "execution_count": null,
   "metadata": {
    "id": "-RT617E3vArt"
   },
   "outputs": [],
   "source": [
    "# define a dictionary\n",
    "'''\n",
    "{\n",
    "    'key_1' : 'value_1',\n",
    "    'key_2' : 'value_2',\n",
    "    .\n",
    "    .\n",
    "    .\n",
    "    .\n",
    "    'key_n' : 'value_n'\n",
    "}\n",
    "'''\n",
    "# define the key value pairs\n",
    "my_dictionary = {\n",
    "    'name'       : 'XXXX',\n",
    "    'age'        :  21,\n",
    "    'roll_no'    : 'CSE100',\n",
    "    'percentage' :  85,\n",
    "    'attendance' :  74,\n",
    "    'city'       : 'hyderabad',\n",
    "    'country'    : 'india'\n",
    "}\n"
   ]
  },
  {
   "cell_type": "code",
   "execution_count": null,
   "metadata": {
    "id": "zB5mBRj7vAsE"
   },
   "outputs": [],
   "source": [
    "# access key of the dictionary\n",
    "print('Name is : ',my_dictionary['name'])\n"
   ]
  },
  {
   "cell_type": "code",
   "execution_count": null,
   "metadata": {
    "id": "cuCHkB63Rw5A"
   },
   "outputs": [],
   "source": [
    "dict_1= dict()"
   ]
  },
  {
   "cell_type": "code",
   "execution_count": null,
   "metadata": {
    "id": "WKE64ToKR38f"
   },
   "outputs": [],
   "source": [
    "dict_2={}"
   ]
  },
  {
   "cell_type": "code",
   "execution_count": null,
   "metadata": {
    "id": "bMIC0cGSvAsW"
   },
   "outputs": [],
   "source": [
    "print('Age before updation is : ',my_dictionary['age'])\n",
    "\n",
    "# update value of the key\n",
    "my_dictionary['age'] = 25\n",
    "\n",
    "print('Age after updation is : ',my_dictionary['age'])"
   ]
  },
  {
   "cell_type": "code",
   "execution_count": null,
   "metadata": {
    "id": "l1cT5UFzvAsm"
   },
   "outputs": [],
   "source": [
    "# get the keys of the dictionary\n",
    "\n",
    "my_dictionary.keys()"
   ]
  },
  {
   "cell_type": "code",
   "execution_count": null,
   "metadata": {
    "id": "ePbHokccvAs2"
   },
   "outputs": [],
   "source": [
    "# get the values of the dictionary\n",
    "\n",
    "my_dictionary.values()\n"
   ]
  },
  {
   "cell_type": "code",
   "execution_count": null,
   "metadata": {
    "id": "PSKwZK-ynaCm"
   },
   "outputs": [],
   "source": [
    "items=my_dictionary.items()\n",
    "items"
   ]
  },
  {
   "cell_type": "code",
   "execution_count": null,
   "metadata": {
    "id": "gmDuMaPcvAtE"
   },
   "outputs": [],
   "source": [
    "# update dictionary with a dictionary\n",
    "\n",
    "my_dictionary.update({ 'pincode' : 122015, 'last_name' : 'xyz'})"
   ]
  },
  {
   "cell_type": "code",
   "execution_count": null,
   "metadata": {
    "id": "vgQrYzA6vAtQ"
   },
   "outputs": [],
   "source": [
    "my_dictionary['last_name']"
   ]
  },
  {
   "cell_type": "code",
   "execution_count": null,
   "metadata": {
    "id": "wxyP8i6QSlk9"
   },
   "outputs": [],
   "source": [
    "my_dictionary"
   ]
  },
  {
   "cell_type": "code",
   "execution_count": null,
   "metadata": {
    "id": "zhwj4MCUPiXM"
   },
   "outputs": [],
   "source": [
    "print(my_dictionary.get('Middle Name','Not Found'))"
   ]
  },
  {
   "cell_type": "markdown",
   "metadata": {
    "id": "_EQ7rb8XvAte"
   },
   "source": [
    "---\n",
    "\n",
    " ***Add new key to the dictionary***\n",
    "\n",
    "---"
   ]
  },
  {
   "cell_type": "code",
   "execution_count": null,
   "metadata": {
    "id": "hm9aXTj4vAtk"
   },
   "outputs": [],
   "source": [
    "# add new key to the dictionary:\n",
    "my_dictionary['new_key'] = 'new_value'\n",
    "\n",
    "print(my_dictionary)"
   ]
  },
  {
   "cell_type": "markdown",
   "metadata": {
    "id": "bajZA3xIvAtx"
   },
   "source": [
    "---\n",
    "\n",
    "*** Dictionary Keys ***\n",
    "\n",
    "---"
   ]
  },
  {
   "cell_type": "markdown",
   "metadata": {
    "id": "R9peqob_vAt0"
   },
   "source": [
    "---\n",
    "\n",
    "***Most of the data types can be used as keys in Dictionaries***\n",
    "\n",
    "---"
   ]
  },
  {
   "cell_type": "code",
   "execution_count": null,
   "metadata": {
    "id": "cbtTDemmvAt3"
   },
   "outputs": [],
   "source": [
    "sample = {\n",
    "    'string' : 'string',\n",
    "    10       : 'integer',\n",
    "    1.5      : 'float',\n",
    "    False    : 'boolean'\n",
    "}"
   ]
  },
  {
   "cell_type": "markdown",
   "metadata": {
    "id": "MDpJJaGHvAuE"
   },
   "source": [
    "---\n",
    "\n",
    "*** `Duplicate keys` ***\n",
    "\n",
    "---"
   ]
  },
  {
   "cell_type": "code",
   "execution_count": null,
   "metadata": {
    "id": "0GpZWEjhvAuH"
   },
   "outputs": [],
   "source": [
    "sample = {\n",
    "    'A' : 1,\n",
    "    'B' : 2,\n",
    "    'C' : 3\n",
    "}"
   ]
  },
  {
   "cell_type": "code",
   "execution_count": null,
   "metadata": {
    "id": "9j-AlRwwvAuS"
   },
   "outputs": [],
   "source": [
    "sample['A']"
   ]
  },
  {
   "cell_type": "code",
   "execution_count": null,
   "metadata": {
    "id": "diV97Y4IvAud"
   },
   "outputs": [],
   "source": [
    "sample = {\n",
    "    'A' : 1,\n",
    "    'B' : 2,\n",
    "    'C' : 3,\n",
    "    'A' : 100\n",
    "}"
   ]
  },
  {
   "cell_type": "code",
   "execution_count": null,
   "metadata": {
    "id": "ZJhdKtYavAun"
   },
   "outputs": [],
   "source": [
    "sample['A']"
   ]
  },
  {
   "cell_type": "markdown",
   "metadata": {
    "id": "uBHqsEh6vAux"
   },
   "source": [
    "***If we add duplicate keys, it will not throw an error instead it will overwrite the value which is added in the last.***\n",
    "\n",
    "---"
   ]
  },
  {
   "cell_type": "markdown",
   "metadata": {
    "id": "WTC30Y2XvAuz"
   },
   "source": [
    "---\n",
    "\n",
    "*** A dictionary key must be of a type that is immutable. ***\n",
    "\n",
    "---"
   ]
  },
  {
   "cell_type": "code",
   "execution_count": null,
   "metadata": {
    "id": "6CsJViwavAu4"
   },
   "outputs": [],
   "source": [
    "# list is mutable, hence not allowed\n",
    "sample = {\n",
    "    1 : 'integer',\n",
    "    [1, 2] : 'list'\n",
    "}"
   ]
  },
  {
   "cell_type": "code",
   "execution_count": null,
   "metadata": {
    "id": "PaV-M8D0vAvA"
   },
   "outputs": [],
   "source": [
    "# set is mutable, hence not allowed\n",
    "\n",
    "sample = {\n",
    "    1 : 'integer',\n",
    "    { 1, 2 } : 'set'\n",
    "\n",
    "}"
   ]
  },
  {
   "cell_type": "code",
   "execution_count": null,
   "metadata": {
    "id": "n7IgkmNbvAvJ"
   },
   "outputs": [],
   "source": [
    "# tuple is immutable, hence it is allowed\n",
    "sample = {\n",
    "    1 : 'integer',\n",
    "    (1, 2) : 'tuple'\n",
    "}"
   ]
  },
  {
   "cell_type": "markdown",
   "metadata": {
    "id": "lH5AQ91IvAvR"
   },
   "source": [
    "---\n",
    "\n",
    " ***Compare 2 dictionaries by changing their order.***\n",
    "\n",
    "---"
   ]
  },
  {
   "cell_type": "code",
   "execution_count": null,
   "metadata": {
    "id": "oy9erg2pvAvV"
   },
   "outputs": [],
   "source": [
    "my_dict_1 = {\n",
    "    'key_1' : 'value_1',\n",
    "    'key_2' : 'value_2',\n",
    "    'key_3' : 3\n",
    "}\n",
    "\n",
    "my_dict_2 = {\n",
    "    'key_3' : 3,\n",
    "    'key_1' : 'value_1',\n",
    "    'key_2' : 'value_2'\n",
    "}\n",
    "\n",
    "(my_dict_1 == my_dict_2)"
   ]
  },
  {
   "cell_type": "markdown",
   "metadata": {
    "id": "xXzvml05vAvd"
   },
   "source": [
    "---\n",
    "\n",
    " ***Iterate through key-value pairs of the dictionary***\n",
    "\n",
    "---"
   ]
  },
  {
   "cell_type": "code",
   "execution_count": null,
   "metadata": {
    "id": "uWA_t-PNvAvg"
   },
   "outputs": [],
   "source": [
    "# Iterate through key-value pairs of the dictionary\n",
    "\n",
    "for key,value in my_dictionary.items() :\n",
    "    print(key,value)"
   ]
  },
  {
   "cell_type": "markdown",
   "metadata": {
    "id": "VkaQG1S_vAvq"
   },
   "source": [
    "---\n",
    "\n",
    " ***Sort the dictionary by key***\n",
    "\n",
    "---"
   ]
  },
  {
   "cell_type": "code",
   "execution_count": null,
   "metadata": {
    "id": "2Xi7ci9VvAvs"
   },
   "outputs": [],
   "source": [
    "m_dict = {\n",
    "    'Kalyan' : 113,\n",
    "    'Satya'    : 37,\n",
    "    'Keyuri'    : 114,\n",
    "    'Visalaxi'   : 120,\n",
    "    'Sujatha'  : 87\n",
    "}"
   ]
  },
  {
   "cell_type": "code",
   "execution_count": null,
   "metadata": {
    "id": "AZy8b3cVvAvz"
   },
   "outputs": [],
   "source": [
    "sorted(m_dict.items())"
   ]
  },
  {
   "cell_type": "markdown",
   "metadata": {
    "id": "DkhvuG8iVk06"
   },
   "source": [
    "**Assignments**"
   ]
  },
  {
   "cell_type": "markdown",
   "metadata": {
    "id": "zzUlu-HiMx6F"
   },
   "source": [
    "**Write a function Calculate the total cost of items in Shopping cart**\n"
   ]
  },
  {
   "cell_type": "code",
   "execution_count": 41,
   "metadata": {
    "id": "RDIz7HxiM8mF"
   },
   "outputs": [
    {
     "name": "stdout",
     "output_type": "stream",
     "text": [
      "the total cost of the items is $8.4\n"
     ]
    }
   ],
   "source": [
    "def cost(cart):\n",
    "    sum= 0\n",
    "    for items in cart:\n",
    "\n",
    "        sum +=items['price']*items['quantity']\n",
    "    print(f\"the total cost of the items is ${sum}\")\n",
    "   \n",
    "cart=[{'name':'Apple','price':0.5,'quantity':4},{'name':'Orange','price':0.4,'quantity':6},{'name':'Banana','price':0.5,'quantity':8}]\n",
    "cost(cart)"
   ]
  },
  {
   "cell_type": "code",
   "execution_count": null,
   "metadata": {},
   "outputs": [],
   "source": []
  },
  {
   "cell_type": "code",
   "execution_count": null,
   "metadata": {},
   "outputs": [],
   "source": []
  },
  {
   "cell_type": "markdown",
   "metadata": {
    "id": "77R2gyEJVzL2"
   },
   "source": [
    "print('maya')"
   ]
  },
  {
   "cell_type": "code",
   "execution_count": null,
   "metadata": {},
   "outputs": [],
   "source": []
  },
  {
   "cell_type": "markdown",
   "metadata": {
    "id": "aS29x0R2VzrL"
   },
   "source": [
    "**Write a Function that check strong password**"
   ]
  },
  {
   "cell_type": "code",
   "execution_count": null,
   "metadata": {},
   "outputs": [],
   "source": []
  },
  {
   "cell_type": "markdown",
   "metadata": {
    "id": "tTAH6ibSYQau"
   },
   "source": [
    "Check length >8,\n",
    "check does password as digit,\n",
    "Check does it has lower case Alphabet,\n",
    "Check does it has upper case Alphabet,\n",
    "Check does it has special character(!@#$%^&*())\n"
   ]
  },
  {
   "cell_type": "markdown",
   "metadata": {
    "id": "vzO0GKG3XHUt"
   },
   "source": [
    "**Write a function to check if a string is Palindrome** [hint: Level=> convert level then check palindrome]"
   ]
  },
  {
   "cell_type": "code",
   "execution_count": 44,
   "metadata": {
    "id": "CTIpE9OSWcWK"
   },
   "outputs": [
    {
     "name": "stdout",
     "output_type": "stream",
     "text": [
      "@Jypter123 is strong\n",
      "jyputer is not strong\n",
      "123# is not strong\n"
     ]
    }
   ],
   "source": [
    "#Write a Function that check strong password\n",
    "import re\n",
    "def check_passowrd(password):\n",
    "    if len(password)<8:\n",
    "        return False\n",
    "    if not re.search(r\"[A-Z]\",password):\n",
    "        return False\n",
    "    if not re.search(r\"[a-z]\",password):\n",
    "        return False\n",
    "    if not re.search(r\"[0-9]\",password):\n",
    "        return False\n",
    "    if not re.search(r\"[!@#$%^&*()_{}[]|\\<>?/]\",password):\n",
    "        return False\n",
    "    return True\n",
    "passwords = ['@Jypter123','jyputer','123#']\n",
    "for password in passwords:\n",
    "    if check_passowrd(password):\n",
    "        print(f\"{password} is strong\")\n",
    "    else:\n",
    "        print(f\"{password} is not strong\")\n",
    "        \n"
   ]
  },
  {
   "cell_type": "code",
   "execution_count": 57,
   "metadata": {},
   "outputs": [
    {
     "name": "stdout",
     "output_type": "stream",
     "text": [
      "malayalam\n",
      "The word malayalam is a palindrome\n"
     ]
    }
   ],
   "source": [
    "#Write a function to check if a string is Palindrome \n",
    "def check_palindrome(word):\n",
    "    reverserd = ''\n",
    "    for i in word:\n",
    "        reverserd =i +reverserd\n",
    "    if reverserd == word:\n",
    "        print(reverserd)\n",
    "        print(f\"The word {word} is a palindrome\")\n",
    "    else:\n",
    "        print(f\"The word {word} is not a palindrome\")\n",
    "word = 'malayalam'\n",
    "check_palindrome(word)\n"
   ]
  },
  {
   "cell_type": "code",
   "execution_count": null,
   "metadata": {},
   "outputs": [],
   "source": []
  },
  {
   "cell_type": "code",
   "execution_count": null,
   "metadata": {},
   "outputs": [],
   "source": []
  }
 ],
 "metadata": {
  "colab": {
   "provenance": []
  },
  "kernelspec": {
   "display_name": "Python [conda env:base] *",
   "language": "python",
   "name": "conda-base-py"
  },
  "language_info": {
   "codemirror_mode": {
    "name": "ipython",
    "version": 3
   },
   "file_extension": ".py",
   "mimetype": "text/x-python",
   "name": "python",
   "nbconvert_exporter": "python",
   "pygments_lexer": "ipython3",
   "version": "3.12.7"
  }
 },
 "nbformat": 4,
 "nbformat_minor": 4
}
