{
 "cells": [
  {
   "cell_type": "markdown",
   "id": "04ab7f94",
   "metadata": {},
   "source": [
    "**Variables**\n",
    "* Create two variables a and b with values 10 and 20, then print their sum.\n",
    "\n",
    "* Assign the string \"Hello\" to a variable and print it 3 times.\n",
    "\n",
    "* Swap the values of two variables without using a third variable.\n",
    "\n",
    "**Data Types**\n",
    "* Given a variable x = 5, convert it to a string and concatenate it with \" apples\".\n",
    "\n",
    "* Check if a variable num = 7.5 is a float or an integer.\n",
    "\n",
    "* Create a list and a tuple both containing the same numbers and print their types.\n",
    "\n",
    "**If-Else**\n",
    "* Write a program that takes a number and prints whether it is positive, negative, or zero.\n",
    "\n",
    "* Given a variable age, print \"Eligible\" if age is 18 or more; otherwise print \"Not eligible.\"\n",
    "\n",
    "* Check if a number is divisible by both 3 and 5 and print an appropriate message.\n",
    "\n",
    "**Strings**\n",
    "* Given a string \"python\", print the first and last characters.\n",
    "\n",
    "* Count how many times the letter 'a' appears in a given string.\n",
    "\n",
    "* Reverse a string without using built-in reverse functions.\n",
    "\n",
    "**Tuples**\n",
    "* Create a tuple with numbers (1, 2, 3, 4, 5) and print the element at index 2.\n",
    "\n",
    "* Try changing a value inside a tuple and observe what error occurs.\n",
    "\n",
    "* Concatenate two tuples (1, 2) and (3, 4) and print the result.\n",
    "\n",
    "**Lists**\n",
    "* Create a list of numbers and append a new number to it.\n",
    "\n",
    "* Remove the second element from a list and print the updated list.\n",
    "\n",
    "* Sort a list of unsorted numbers.\n",
    "\n",
    "**Sets**\n",
    "* Create two sets and print their union and intersection.\n",
    "\n",
    "* Given a list with duplicates, convert it to a set to remove duplicates.\n",
    "\n",
    "* Check if an element exists in a set.\n",
    "\n",
    "**Slicing**\n",
    "* Given a list `[10,rint the elements from index 1 to 3.\n",
    "\n",
    "* Slice a string to get its first three characters.\n",
    "\n",
    "* Use slicing to get every second element from a list.\n",
    "\n",
    "**List Methods**\n",
    "* Use append() to add an element to a list.\n",
    "\n",
    "* Use pop() to remove the last element from a list and print it.\n",
    "\n",
    "* Use extend() to add multiple elements from another list.\n",
    "\n",
    "**Operators**\n",
    "* Write a program to calculate the remainder when dividing two numbers.\n",
    "\n",
    "* Use logical operators to check if a number is between 10 and 20.\n",
    "\n",
    "* Write a program to raise a number to the power of 3.\n",
    "\n"
   ]
  },
  {
   "cell_type": "markdown",
   "id": "040be9e1",
   "metadata": {},
   "source": [
    "<!-- Variables\n",
    "\n",
    "Create two variables a and b with values 10 and 20, then print their sum.\n",
    "\n",
    "Assign the string \"Hello\" to a variable and print it 3 times.\n",
    "\n",
    "Swap the values of two variables without using a third variable. -->\n",
    "a = 10\n",
    "b = 20\n",
    "print(a+b)"
   ]
  },
  {
   "cell_type": "code",
   "execution_count": 38,
   "id": "6d6b8ab9",
   "metadata": {},
   "outputs": [
    {
     "name": "stdout",
     "output_type": "stream",
     "text": [
      "30\n",
      "Hello Hello Hello \n",
      "The value of e is 2 and the value of d is3\n"
     ]
    }
   ],
   "source": [
    "# Variables\n",
    "\n",
    "# Create two variables a and b with values 10 and 20, then print their sum.\n",
    "a = 10 ;\n",
    "b = 20;\n",
    "print(a+b);\n",
    "# Assign the string \"Hello\" to a variable and print it 3 times.\n",
    "c = 'Hello ';\n",
    "print(3*c);\n",
    "\n",
    "# Swap the values of two variables without using a third variable.\n",
    "d = 2;\n",
    "e = 3;\n",
    "e,d = d,e;\n",
    "print(\"The value of e is \"+str(e) +\" and the value of d is \" + str(d))"
   ]
  },
  {
   "cell_type": "code",
   "execution_count": 85,
   "id": "d5915ccf",
   "metadata": {},
   "outputs": [
    {
     "name": "stdout",
     "output_type": "stream",
     "text": [
      "5 apples\n",
      "<class 'float'>\n",
      "<class 'list'>\n",
      "<class 'tuple'>\n"
     ]
    }
   ],
   "source": [
    "# Data Types\n",
    "\n",
    "# Given a variable x = 5, convert it to a string and concatenate it with \" apples\".\n",
    "x = 5\n",
    "print(str(x)+\" apples\")\n",
    "      \n",
    "\n",
    "# Check if a variable num = 7.5 is a float or an integer.\n",
    "\n",
    "num = 7.5 \n",
    "print(type(num))\n",
    "# Create a list and a tuple both containing the same numbers and print their types.\n",
    "lista = [1,2,3,4]\n",
    "print(type(lista))\n",
    "tuplea = (1,2,3,4)\n",
    "print(type(tuplea))\n"
   ]
  },
  {
   "cell_type": "code",
   "execution_count": 74,
   "id": "335e0876-6fd0-4705-b3d5-4b414bcdd131",
   "metadata": {},
   "outputs": [
    {
     "name": "stdout",
     "output_type": "stream",
     "text": [
      "then number is negative\n",
      "Not eligible\n",
      "Eligible\n",
      "No the number 25 is not divisible by both 5 and 3\n",
      "Yes the number 15  is divisible by both 5 and 3\n"
     ]
    }
   ],
   "source": [
    "# If-Else\n",
    "\n",
    "# Write a program that takes a number and prints whether it is positive, negative, or zero.\n",
    "\n",
    "def positive_negative(num):\n",
    "    if num==0:\n",
    "        print(\"the number is zero\")\n",
    "    elif num<0:\n",
    "        print(\"then number is negative\")\n",
    "    elif num>0:\n",
    "        print(\"the number is positive\")\n",
    "        \n",
    "positive_negative(-1)\n",
    "# Given a variable age, print \"Eligible\" if age is 18 or more; otherwise print \"Not eligible.\"\n",
    "\n",
    "def age_check(age):\n",
    "    if age>=18:\n",
    "        print(\"Eligible\")\n",
    "    else:\n",
    "        print(\"Not eligible\")\n",
    "    \n",
    "\n",
    "age_check(12)\n",
    "age_check(18)\n",
    "# Check if a number is divisible by both 3 and 5 and print an appropriate message.\n",
    "def check_divisible(num):\n",
    "    if (num % 5 == 0) and (num % 3 == 0):\n",
    "        print(f\"Yes the number {num}  is divisible by both 5 and 3\")\n",
    "    else:\n",
    "         print(f\"No the number {num} is not divisible by both 5 and 3\")\n",
    "        \n",
    "\n",
    "check_divisible(25)\n",
    "check_divisible(15)"
   ]
  },
  {
   "cell_type": "code",
   "execution_count": 103,
   "id": "6034c040-50c2-405e-bda4-021fe561244a",
   "metadata": {},
   "outputs": [
    {
     "name": "stdout",
     "output_type": "stream",
     "text": [
      "3\n",
      "(1, 2, 3, 4)\n"
     ]
    }
   ],
   "source": [
    "# Tuples\n",
    "\n",
    "# Create a tuple with numbers (1, 2, 3, 4, 5) and print the element at index 2.\n",
    "tuple_a = (1, 2, 3, 4, 5)\n",
    "print(tuple_a[2])\n",
    "\n",
    "# Try changing a value inside a tuple and observe what error occurs.\n",
    "#tuple_a[0]=2\n",
    "\n",
    "# Concatenate two tuples (1, 2) and (3, 4) and print the result.\n",
    "tuple_b =  (1, 2)\n",
    "tuple_c =  (3, 4) \n",
    "tuple_d = tuple_b+tuple_c\n",
    "print(tuple_d)"
   ]
  },
  {
   "cell_type": "code",
   "execution_count": 121,
   "id": "e417ef69-c2e8-4cc6-8b59-490a34fd7956",
   "metadata": {},
   "outputs": [
    {
     "name": "stdout",
     "output_type": "stream",
     "text": [
      "[9, 2, 3, 4, 5]\n",
      "[9, 3, 4, 5]\n",
      "[3, 4, 5, 9]\n"
     ]
    }
   ],
   "source": [
    "# Lists\n",
    "\n",
    "# Create a list of numbers and append a new number to it.\n",
    "list_a = [9,2,3,4]\n",
    "list_a.append(5)\n",
    "print(list_a)\n",
    "\n",
    "# Remove the second element from a list and print the updated list.\n",
    "list_a.remove(2)\n",
    "print(list_a)\n",
    "\n",
    "# Sort a list of unsorted numbers.\n",
    "list_a.sort() \n",
    "print(list_a)"
   ]
  },
  {
   "cell_type": "code",
   "execution_count": 132,
   "id": "45da308a-5b98-4e89-9803-41329a61e065",
   "metadata": {},
   "outputs": [
    {
     "name": "stdout",
     "output_type": "stream",
     "text": [
      "{1, 2, 3, 5, 7, 9}\n",
      "{9, 2, 1}\n"
     ]
    },
    {
     "data": {
      "text/plain": [
       "True"
      ]
     },
     "execution_count": 132,
     "metadata": {},
     "output_type": "execute_result"
    }
   ],
   "source": [
    "# **Sets**\n",
    "# * Create two sets and print their union and intersection.\n",
    "set1 = {1,2,5,7,9}\n",
    "set2 = {9,3,2,1}\n",
    "print(set1|set2)\n",
    "print(set1&set2)\n",
    "\n",
    "# * Given a list with duplicates, convert it to a set to remove duplicates.\n",
    "list_dup = [1,2,2,3,4,4]\n",
    "set(list_dup)\n",
    "\n",
    "# * Check if an element exists in a set.\n",
    "9 in set1"
   ]
  },
  {
   "cell_type": "code",
   "execution_count": null,
   "id": "531f4974-23b9-4355-aa74-3a160da5f567",
   "metadata": {},
   "outputs": [],
   "source": [
    "# **Slicing**\n",
    "# * Given a list `[10,rint the elements from index 1 to 3.\n",
    "\n",
    "# * Slice a string to get its first three characters.\n",
    "\n",
    "# * Use slicing to get every second element from a list."
   ]
  },
  {
   "cell_type": "code",
   "execution_count": 7,
   "id": "03c9c972-c66e-4daf-b98a-ebb47f201603",
   "metadata": {},
   "outputs": [
    {
     "name": "stdout",
     "output_type": "stream",
     "text": [
      "[1, 9, 8, 3, 7]\n",
      "[1, 9, 8, 3]\n",
      "[1, 9, 8, 3, 0, 3]\n"
     ]
    }
   ],
   "source": [
    "# List Methods\n",
    "\n",
    "# Use append() to add an element to a list.\n",
    "list_x = [1,9,8,3]\n",
    "list_x.append(7)\n",
    "print(list_x)\n",
    "# Use pop() to remove the last element from a list and print it.\n",
    "list_x.pop()\n",
    "print(list_x)\n",
    "# Use extend() to add multiple elements from another list.\n",
    "list_y = [0,3]\n",
    "list_x.extend(list_y)\n",
    "print(list_x)"
   ]
  },
  {
   "cell_type": "code",
   "execution_count": 21,
   "id": "9fa48ed2-4db2-4db9-a860-141e12b68f69",
   "metadata": {},
   "outputs": [
    {
     "name": "stdout",
     "output_type": "stream",
     "text": [
      "1\n",
      "yes  the number is between 10 nd 20\n",
      "64\n"
     ]
    }
   ],
   "source": [
    "# **Operators**\n",
    "# * Write a program to calculate the remainder when dividing two numbers.\n",
    "def calculate_reminder(num1,num2):\n",
    "    reminder = num1%num2\n",
    "    return reminder\n",
    "print(calculate_reminder(9,2))\n",
    "# * Use logical operators to check if a number is between 10 and 20.\n",
    "def check_number(number):\n",
    "    if 10<number<20:\n",
    "        print(\"yes  the number is between 10 nd 20\")\n",
    "    else:\n",
    "        print(\"no\")\n",
    "check_number(11)        \n",
    "# * Write a program to raise a number to the power of 3.\n",
    "\n",
    "def power(number):\n",
    "    return number **3\n",
    "\n",
    "print(power(4))\n"
   ]
  },
  {
   "cell_type": "code",
   "execution_count": null,
   "id": "69a90343-fd6a-450b-8a1f-9c52925b72a9",
   "metadata": {},
   "outputs": [],
   "source": []
  }
 ],
 "metadata": {
  "kernelspec": {
   "display_name": "Python [conda env:base] *",
   "language": "python",
   "name": "conda-base-py"
  },
  "language_info": {
   "codemirror_mode": {
    "name": "ipython",
    "version": 3
   },
   "file_extension": ".py",
   "mimetype": "text/x-python",
   "name": "python",
   "nbconvert_exporter": "python",
   "pygments_lexer": "ipython3",
   "version": "3.12.7"
  }
 },
 "nbformat": 4,
 "nbformat_minor": 5
}
