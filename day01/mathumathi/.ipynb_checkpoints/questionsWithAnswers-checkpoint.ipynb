{
 "cells": [
  {
   "cell_type": "markdown",
   "id": "252fcaf3-e475-405b-9e53-d7affb89d51d",
   "metadata": {},
   "source": [
    "**Variables**\n",
    "* Create two variables a and b with values 10 and 20, then print their sum.\n",
    "\n",
    "* Assign the string \"Hello\" to a variable and print it 3 times.\n",
    "\n",
    "* Swap the values of two variables without using a third variable.\n",
    "\n",
    "**Data Types**\n",
    "* Given a variable x = 5, convert it to a string and concatenate it with \" apples\".\n",
    "\n",
    "* Check if a variable num = 7.5 is a float or an integer.\n",
    "\n",
    "* Create a list and a tuple both containing the same numbers and print their types.\n",
    "\n",
    "**If-Else**\n",
    "* Write a program that takes a number and prints whether it is positive, negative, or zero.\n",
    "\n",
    "* Given a variable age, print \"Eligible\" if age is 18 or more; otherwise print \"Not eligible.\"\n",
    "\n",
    "* Check if a number is divisible by both 3 and 5 and print an appropriate message.\n",
    "\n",
    "**Strings**\n",
    "* Given a string \"python\", print the first and last characters.\n",
    "\n",
    "* Count how many times the letter 'a' appears in a given string.\n",
    "\n",
    "* Reverse a string without using built-in reverse functions.\n",
    "\n",
    "**Tuples**\n",
    "* Create a tuple with numbers (1, 2, 3, 4, 5) and print the element at index 2.\n",
    "\n",
    "* Try changing a value inside a tuple and observe what error occurs.\n",
    "\n",
    "* Concatenate two tuples (1, 2) and (3, 4) and print the result.\n",
    "\n",
    "**Lists**\n",
    "* Create a list of numbers and append a new number to it.\n",
    "\n",
    "* Remove the second element from a list and print the updated list.\n",
    "\n",
    "* Sort a list of unsorted numbers.\n",
    "\n",
    "**Sets**\n",
    "* Create two sets and print their union and intersection.\n",
    "\n",
    "* Given a list with duplicates, convert it to a set to remove duplicates.\n",
    "\n",
    "* Check if an element exists in a set.\n",
    "\n",
    "**Slicing**\n",
    "* Given a list `[10,rint the elements from index 1 to 3.\n",
    "\n",
    "* Slice a string to get its first three characters.\n",
    "\n",
    "* Use slicing to get every second element from a list.\n",
    "\n",
    "**List Methods**\n",
    "* Use append() to add an element to a list.\n",
    "\n",
    "* Use pop() to remove the last element from a list and print it.\n",
    "\n",
    "* Use extend() to add multiple elements from another list.\n",
    "\n",
    "**Operators**\n",
    "* Write a program to calculate the remainder when dividing two numbers.\n",
    "\n",
    "* Use logical operators to check if a number is between 10 and 20.\n",
    "\n",
    "* Write a program to raise a number to the power of 3.\n",
    "\n"
   ]
  },
  {
   "cell_type": "markdown",
   "id": "040be9e1",
   "metadata": {},
   "source": [
    "**Variables**"
   ]
  },
  {
   "cell_type": "code",
   "execution_count": 21,
   "id": "6d6b8ab9",
   "metadata": {},
   "outputs": [
    {
     "name": "stdout",
     "output_type": "stream",
     "text": [
      "30\n"
     ]
    }
   ],
   "source": [
    "a = 10 \n",
    "b = 20\n",
    "sum = a + b\n",
    "print(sum)"
   ]
  },
  {
   "cell_type": "code",
   "execution_count": 31,
   "id": "f1ca589f-2fd1-48b1-ba56-de85115cc058",
   "metadata": {},
   "outputs": [
    {
     "name": "stdout",
     "output_type": "stream",
     "text": [
      "Hello Hello Hello \n"
     ]
    }
   ],
   "source": [
    "name = \"Hello\" + \" \"\n",
    "print(name  * 3)\n"
   ]
  },
  {
   "cell_type": "code",
   "execution_count": 45,
   "id": "1be262d6-1c57-4c09-ac2d-d8913c83d39c",
   "metadata": {},
   "outputs": [
    {
     "name": "stdout",
     "output_type": "stream",
     "text": [
      "a is 10\n",
      "b is 5\n"
     ]
    }
   ],
   "source": [
    "a = 5\n",
    "b = 10\n",
    "a = a + b\n",
    "b = a - b\n",
    "a = a - b\n",
    "print('a is ' + str(a))\n",
    "print('b is ' + str(b))"
   ]
  },
  {
   "cell_type": "markdown",
   "id": "32e1d526-822f-4762-9978-834a0914b266",
   "metadata": {},
   "source": [
    "**Data Types**"
   ]
  },
  {
   "cell_type": "code",
   "execution_count": 55,
   "id": "4570fa57-7732-48ea-886c-e7840fde3c29",
   "metadata": {},
   "outputs": [
    {
     "name": "stdout",
     "output_type": "stream",
     "text": [
      "5 apples\n"
     ]
    }
   ],
   "source": [
    "x = 5\n",
    "print(str(x)+\" \" +\"apples\")\n"
   ]
  },
  {
   "cell_type": "code",
   "execution_count": 57,
   "id": "092c3fc3-e924-4571-aed2-36b47d500f0c",
   "metadata": {},
   "outputs": [
    {
     "data": {
      "text/plain": [
       "float"
      ]
     },
     "execution_count": 57,
     "metadata": {},
     "output_type": "execute_result"
    }
   ],
   "source": [
    "num = 7.5\n",
    "type(num)\n"
   ]
  },
  {
   "cell_type": "code",
   "execution_count": 71,
   "id": "b192c8b4-1ae6-484d-b545-ab9bf52677de",
   "metadata": {},
   "outputs": [
    {
     "name": "stdout",
     "output_type": "stream",
     "text": [
      "<class 'list'>\n",
      "[5, 10, 15, 20]\n",
      "<class 'tuple'>\n",
      "(5, 10, 15, 20)\n"
     ]
    }
   ],
   "source": [
    "my_list = [5,10,15,20]\n",
    "my_tuple = (5,10,15,20)\n",
    "print(type(my_list))\n",
    "print(my_list)\n",
    "print(type(my_tuple))\n",
    "print(my_tuple)"
   ]
  },
  {
   "cell_type": "markdown",
   "id": "b3e703e0-a586-4b6c-8712-d552528628e9",
   "metadata": {},
   "source": [
    "**If-Else**"
   ]
  },
  {
   "cell_type": "code",
   "execution_count": 89,
   "id": "8f71ed72-a6f5-4d44-8786-00442577a4df",
   "metadata": {},
   "outputs": [
    {
     "name": "stdin",
     "output_type": "stream",
     "text": [
      "enter any number 0\n"
     ]
    },
    {
     "name": "stdout",
     "output_type": "stream",
     "text": [
      "Number is zero\n"
     ]
    }
   ],
   "source": [
    "num = int(input(\"enter any number\"))\n",
    "if num==0:\n",
    "    print(\"Number is zero\")\n",
    "elif num>0:\n",
    "    print(\"Number is positive\")\n",
    "else:\n",
    "    print(\"Number is negative\")\n"
   ]
  },
  {
   "cell_type": "code",
   "execution_count": 99,
   "id": "22251bff-89d9-4ee6-a0f1-3ff379e5a69f",
   "metadata": {},
   "outputs": [
    {
     "name": "stdin",
     "output_type": "stream",
     "text": [
      "enter any age -20\n"
     ]
    },
    {
     "name": "stdout",
     "output_type": "stream",
     "text": [
      "Not eligible\n"
     ]
    }
   ],
   "source": [
    "age = int(input(\"enter any age\"))\n",
    "if age >=18:\n",
    "    print(\"Eligible\")\n",
    "else:\n",
    "    print(\"Not eligible\")\n",
    "    "
   ]
  },
  {
   "cell_type": "code",
   "execution_count": 118,
   "id": "d2869d43-166c-450e-93ee-c73ae594011c",
   "metadata": {},
   "outputs": [
    {
     "name": "stdin",
     "output_type": "stream",
     "text": [
      "enter any number 2\n"
     ]
    },
    {
     "name": "stdout",
     "output_type": "stream",
     "text": [
      "not divisble by 3 or 5\n"
     ]
    }
   ],
   "source": [
    "number = int(input(\"enter any number\"))\n",
    "if number%3 == 0 and number%5==0:\n",
    "    print(\"number is divisible by 3 and 5\")\n",
    "elif number%3==0:\n",
    "    print(\"number is divisible by 3\")\n",
    "elif number%5==0:\n",
    "    print(\"number is divisible by 5\")\n",
    "else:\n",
    "    print(\"not divisble by 3 or 5\")\n",
    "          "
   ]
  },
  {
   "cell_type": "markdown",
   "id": "d32ab8e1-538e-48ba-9281-99065dfed4c1",
   "metadata": {},
   "source": [
    "**Strings**"
   ]
  },
  {
   "cell_type": "code",
   "execution_count": 136,
   "id": "68119c7a-d4c4-4d5b-a8ab-f27c62af7318",
   "metadata": {},
   "outputs": [
    {
     "name": "stdout",
     "output_type": "stream",
     "text": [
      "p\n",
      "n\n"
     ]
    }
   ],
   "source": [
    "text = \"python\"\n",
    "print(text[0])\n",
    "print(text[5])"
   ]
  },
  {
   "cell_type": "code",
   "execution_count": 140,
   "id": "e5bdfd2a-c5a1-41db-b215-17c3a2d5bc68",
   "metadata": {},
   "outputs": [
    {
     "name": "stdout",
     "output_type": "stream",
     "text": [
      "True\n",
      "3\n"
     ]
    }
   ],
   "source": [
    "word = \"banana\"\n",
    "print('a' in word)\n",
    "print(word.count('a'))"
   ]
  },
  {
   "cell_type": "code",
   "execution_count": 172,
   "id": "f5298d06-4342-41d0-ab57-43fcd4b5ebd1",
   "metadata": {},
   "outputs": [
    {
     "name": "stdout",
     "output_type": "stream",
     "text": [
      "uhtam\n"
     ]
    }
   ],
   "source": [
    "my_word = \"mathu\"\n",
    "reverse = \"\"\n",
    "for char in my_word:\n",
    "    reverse = char + reverse\n",
    "print(reverse)\n",
    "\n",
    "# reverse_inslicing = my_word[::-1]\n",
    "# print(reverse_inslicing)\n",
    "\n",
    "# for i in reversed(my_word):\n",
    "#     print(i, end = '')"
   ]
  },
  {
   "cell_type": "markdown",
   "id": "7dbf6fe2-95dd-41be-ae63-06a72df8d99a",
   "metadata": {},
   "source": [
    "**Tuples**"
   ]
  },
  {
   "cell_type": "code",
   "execution_count": 177,
   "id": "d5734480-5512-4c32-8c87-529330707631",
   "metadata": {},
   "outputs": [
    {
     "name": "stdout",
     "output_type": "stream",
     "text": [
      "3\n"
     ]
    }
   ],
   "source": [
    "my_tuple = (1,2,3,4,5)\n",
    "print(my_tuple[2])"
   ]
  },
  {
   "cell_type": "code",
   "execution_count": 181,
   "id": "9f3ba2a9-ef54-42d4-80c5-352ffbf9cc4d",
   "metadata": {},
   "outputs": [
    {
     "ename": "TypeError",
     "evalue": "'tuple' object does not support item assignment",
     "output_type": "error",
     "traceback": [
      "\u001b[0;31m---------------------------------------------------------------------------\u001b[0m",
      "\u001b[0;31mTypeError\u001b[0m                                 Traceback (most recent call last)",
      "Cell \u001b[0;32mIn[181], line 1\u001b[0m\n\u001b[0;32m----> 1\u001b[0m my_tuple[\u001b[38;5;241m1\u001b[39m] \u001b[38;5;241m=\u001b[39m \u001b[38;5;241m5\u001b[39m\n",
      "\u001b[0;31mTypeError\u001b[0m: 'tuple' object does not support item assignment"
     ]
    }
   ],
   "source": [
    "my_tuple[1] = 5\n"
   ]
  },
  {
   "cell_type": "code",
   "execution_count": 187,
   "id": "87111278-4bf1-4ea5-8578-98a901eabd4b",
   "metadata": {},
   "outputs": [
    {
     "name": "stdout",
     "output_type": "stream",
     "text": [
      "(1, 2, 3, 4)\n"
     ]
    }
   ],
   "source": [
    "tuple_1 = (1,2)\n",
    "tuple_2 = (3,4)\n",
    "print(tuple_1 + tuple_2)"
   ]
  },
  {
   "cell_type": "markdown",
   "id": "05604e40-4a36-4052-a8e5-8e1aa9bc6cdc",
   "metadata": {},
   "source": [
    "**Lists**"
   ]
  },
  {
   "cell_type": "code",
   "execution_count": 210,
   "id": "56ab28d6-ecd0-491e-b39f-79e70d7742a5",
   "metadata": {},
   "outputs": [
    {
     "name": "stdout",
     "output_type": "stream",
     "text": [
      "[1, 8, 3, 4, 15, 6, 71, 8, 9]\n",
      "[1, 8, 3, 4, 15, 6, 71, 8, 9, 10]\n",
      "[1, 3, 4, 15, 6, 71, 8, 9, 10]\n",
      "[1, 3, 4, 6, 8, 9, 10, 15, 71]\n"
     ]
    }
   ],
   "source": [
    "my_list1 = [1,8,3,4,15,6,71,8,9]\n",
    "print(my_list1)\n",
    "my_list1.append(10)\n",
    "print(my_list1)\n",
    "my_list1.remove(8)\n",
    "print(my_list1)\n",
    "my_list1.sort()\n",
    "print(my_list1)"
   ]
  },
  {
   "cell_type": "markdown",
   "id": "33d3fe6a-698e-45dc-9440-36a72b7fe203",
   "metadata": {},
   "source": [
    "**Sets**"
   ]
  },
  {
   "cell_type": "code",
   "execution_count": 235,
   "id": "4f1597b6-1146-429f-be84-80c038b47bfa",
   "metadata": {},
   "outputs": [
    {
     "name": "stdout",
     "output_type": "stream",
     "text": [
      "{1, 2, 3, 4, 5}\n",
      "{3}\n"
     ]
    }
   ],
   "source": [
    "my_set1 = {1,2,3}\n",
    "my_set2 = {3,4,5}\n",
    "print(my_set1.union(my_set2))\n",
    "print(my_set1.intersection(my_set2))"
   ]
  },
  {
   "cell_type": "code",
   "execution_count": 255,
   "id": "89b3aabc-af65-41af-a8f0-e095d1197317",
   "metadata": {},
   "outputs": [
    {
     "name": "stdout",
     "output_type": "stream",
     "text": [
      "{1, 2, 3, 4}\n"
     ]
    }
   ],
   "source": [
    "list11 = [1,2,3,3,3,4,2,1]\n",
    "set1 = set(list11)\n",
    "print(set1)"
   ]
  },
  {
   "cell_type": "code",
   "execution_count": 277,
   "id": "653ab639-b038-46a5-8353-865afb4a26e3",
   "metadata": {},
   "outputs": [
    {
     "name": "stdout",
     "output_type": "stream",
     "text": [
      "18 is not in the set\n"
     ]
    }
   ],
   "source": [
    "myset = {5,10,25,15,30,30,500}\n",
    "item = 18\n",
    "if item in myset:\n",
    "    print(f\"{item} is in the set\")\n",
    "else:\n",
    "    print(f\"{item} is not in the set\")"
   ]
  },
  {
   "cell_type": "markdown",
   "id": "08f9cb03-74d3-41b5-98ec-df29fdb641cc",
   "metadata": {},
   "source": [
    "**Slicing**"
   ]
  },
  {
   "cell_type": "code",
   "execution_count": 279,
   "id": "ebdfcd14-3ec8-4073-b383-49c4e1e0b425",
   "metadata": {},
   "outputs": [
    {
     "name": "stdout",
     "output_type": "stream",
     "text": [
      "[10, 15]\n"
     ]
    }
   ],
   "source": [
    "list12 = [5,10,15,25,5,10]\n",
    "print(list12[1:3])"
   ]
  },
  {
   "cell_type": "code",
   "execution_count": 281,
   "id": "5eb23c26-15c0-456c-8ff6-8c9c1e8af5aa",
   "metadata": {},
   "outputs": [
    {
     "name": "stdout",
     "output_type": "stream",
     "text": [
      "mat\n"
     ]
    }
   ],
   "source": [
    "word = \"mathumathi\"\n",
    "print(word[0:3])"
   ]
  },
  {
   "cell_type": "code",
   "execution_count": 295,
   "id": "c50d820d-4864-44ee-8c86-d7568c755686",
   "metadata": {},
   "outputs": [
    {
     "name": "stdout",
     "output_type": "stream",
     "text": [
      "[3, 6, 9, 12]\n"
     ]
    }
   ],
   "source": [
    "list31 = [2,3,4,6,8,9,10,12]\n",
    "\n",
    "print(list31[1::2])"
   ]
  },
  {
   "cell_type": "markdown",
   "id": "70754f27-4477-4161-a94b-1b4e400d4556",
   "metadata": {},
   "source": [
    "**List Methods**"
   ]
  },
  {
   "cell_type": "code",
   "execution_count": 309,
   "id": "83b00f30-44a1-4474-8a7f-78f9ee718805",
   "metadata": {},
   "outputs": [
    {
     "name": "stdout",
     "output_type": "stream",
     "text": [
      "['a', 'b', 'c', 'd', 'e']\n"
     ]
    }
   ],
   "source": [
    "list41 = ['a','b','c','d']\n",
    "list41.append('e')\n",
    "print(list41)"
   ]
  },
  {
   "cell_type": "code",
   "execution_count": 311,
   "id": "29e40d68-19e3-431f-b1e2-3dd68a63ce7d",
   "metadata": {},
   "outputs": [
    {
     "name": "stdout",
     "output_type": "stream",
     "text": [
      "['a', 'b', 'c', 'd']\n"
     ]
    }
   ],
   "source": [
    "list41.pop()\n",
    "print(list41)"
   ]
  },
  {
   "cell_type": "code",
   "execution_count": 317,
   "id": "fe37b39b-2378-417e-8dd9-4ec34a953667",
   "metadata": {},
   "outputs": [
    {
     "name": "stdout",
     "output_type": "stream",
     "text": [
      "['a', 'b', 'c', 'd', 'z', 'y', 'x', ['z', 'y', 'x'], 'z', 'y', 'x']\n"
     ]
    }
   ],
   "source": [
    "list42 = ['z','y','x']\n",
    "list41.extend(list42)\n",
    "print(list41)\n",
    "#append - adds whole list as single element like [a,b,c, [z,y,x] ]\n",
    "#extend - adds one by one like [a,b,c,z,y,x]"
   ]
  },
  {
   "cell_type": "markdown",
   "id": "7038aa93-7917-4995-92d5-025d5c02986e",
   "metadata": {},
   "source": [
    "**Operators**"
   ]
  },
  {
   "cell_type": "code",
   "execution_count": 331,
   "id": "32a8af9f-55fc-4e99-b802-c54d3d656bd8",
   "metadata": {},
   "outputs": [
    {
     "name": "stdin",
     "output_type": "stream",
     "text": [
      "enter any first number 6\n",
      "enter any second number 4\n"
     ]
    },
    {
     "name": "stdout",
     "output_type": "stream",
     "text": [
      "2\n"
     ]
    }
   ],
   "source": [
    "num1 = int(input(\"enter any first number\"))\n",
    "num2 = int(input(\"enter any second number\"))\n",
    "if(num2 !=0):\n",
    "    print(num1%num2)\n",
    "else:\n",
    "    print(\"cant divide\")"
   ]
  },
  {
   "cell_type": "code",
   "execution_count": 343,
   "id": "e2ec7fbd-1611-4a07-a988-01837f7a1081",
   "metadata": {},
   "outputs": [
    {
     "name": "stdin",
     "output_type": "stream",
     "text": [
      "enter any number 21\n"
     ]
    },
    {
     "name": "stdout",
     "output_type": "stream",
     "text": [
      "number is not between 10 and 20\n"
     ]
    }
   ],
   "source": [
    "value = int(input(\"enter any number\"))\n",
    "if(value >=10 and value <=20):\n",
    "    print(\"true\")\n",
    "else:\n",
    "    print(\"number is not between 10 and 20\")\n",
    "    "
   ]
  },
  {
   "cell_type": "code",
   "execution_count": 349,
   "id": "a027953d-459d-4845-b790-8f3c4ef170fc",
   "metadata": {},
   "outputs": [
    {
     "name": "stdin",
     "output_type": "stream",
     "text": [
      "enter any number 5\n"
     ]
    },
    {
     "name": "stdout",
     "output_type": "stream",
     "text": [
      "125\n"
     ]
    }
   ],
   "source": [
    "my_value = int(input(\"enter any number\"))\n",
    "print(my_value**3)"
   ]
  },
  {
   "cell_type": "code",
   "execution_count": null,
   "id": "d49b1419-8dd9-4ec4-bc34-4c0e01b6967a",
   "metadata": {},
   "outputs": [],
   "source": []
  }
 ],
 "metadata": {
  "kernelspec": {
   "display_name": "Python 3 (ipykernel)",
   "language": "python",
   "name": "python3"
  },
  "language_info": {
   "codemirror_mode": {
    "name": "ipython",
    "version": 3
   },
   "file_extension": ".py",
   "mimetype": "text/x-python",
   "name": "python",
   "nbconvert_exporter": "python",
   "pygments_lexer": "ipython3",
   "version": "3.12.7"
  }
 },
 "nbformat": 4,
 "nbformat_minor": 5
}
