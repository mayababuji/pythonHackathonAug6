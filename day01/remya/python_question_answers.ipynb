{
 "cells": [
  {
   "cell_type": "code",
   "execution_count": 1,
   "id": "831fff5a-503b-4db8-bcb2-72366db31373",
   "metadata": {},
   "outputs": [
    {
     "name": "stdout",
     "output_type": "stream",
     "text": [
      "30\n"
     ]
    }
   ],
   "source": [
    "#Create two variables a and b with values 10 and 20, then print their sum.\n",
    "a = 10\n",
    "b = 20\n",
    "print( a + b)\n"
   ]
  },
  {
   "cell_type": "code",
   "execution_count": 2,
   "id": "1688cf1b-6d6f-4555-8677-f80ffdf64922",
   "metadata": {},
   "outputs": [
    {
     "name": "stdout",
     "output_type": "stream",
     "text": [
      "hellohellohello\n"
     ]
    }
   ],
   "source": [
    "#Assign the string \"Hello\" to a variable and print it 3 times.\n",
    "message = \"hello\"\n",
    "print(message * 3)\n"
   ]
  },
  {
   "cell_type": "code",
   "execution_count": 3,
   "id": "c80398e5-31e9-43f3-a9ef-1f2cc354a6ba",
   "metadata": {},
   "outputs": [
    {
     "name": "stdout",
     "output_type": "stream",
     "text": [
      "a = 20\n",
      "b = 10\n"
     ]
    }
   ],
   "source": [
    "# Swap the values of two variables without using a third variable.\n",
    "a = 10\n",
    "b = 20\n",
    "c = a\n",
    "a = b\n",
    "b = c\n",
    "print(\"a =\", a)\n",
    "print(\"b =\", b)\n"
   ]
  },
  {
   "cell_type": "code",
   "execution_count": 4,
   "id": "1f2ea51d-f661-4632-b534-6ee1c834d708",
   "metadata": {},
   "outputs": [
    {
     "name": "stdout",
     "output_type": "stream",
     "text": [
      "5 apples\n"
     ]
    }
   ],
   "source": [
    "# Given a variable x = 5, convert it to a string and concatenate it with \" apples\".\n",
    "x = 5\n",
    "result = str(x) + \" apples\"\n",
    "print(result)\n"
   ]
  },
  {
   "cell_type": "code",
   "execution_count": 5,
   "id": "23d3209e-770a-44ff-aa37-289e3c957ccb",
   "metadata": {},
   "outputs": [
    {
     "name": "stdout",
     "output_type": "stream",
     "text": [
      "num is a float\n"
     ]
    }
   ],
   "source": [
    "# Check if a variable num = 7.5 is a float or an integer.\n",
    "num = 7.5\n",
    "if type(num) == float:\n",
    "    print(\"num is a float\")\n",
    "elif type(num) == int:\n",
    "    print(\"num is an integer\")"
   ]
  },
  {
   "cell_type": "code",
   "execution_count": 6,
   "id": "e2828274-f2c6-4bae-b876-7d480666e5b6",
   "metadata": {},
   "outputs": [
    {
     "name": "stdout",
     "output_type": "stream",
     "text": [
      "Type of my_list: <class 'list'>\n",
      "Type of my_tuple: <class 'tuple'>\n"
     ]
    }
   ],
   "source": [
    "#* Create a list and a tuple both containing the same numbers and print their types.\n",
    "my_list = [1, 2, 3, 4, 5]\n",
    "my_tuple = (1, 2, 3, 4, 5)\n",
    "print(\"Type of my_list:\", type(my_list))\n",
    "print(\"Type of my_tuple:\", type(my_tuple))"
   ]
  },
  {
   "cell_type": "code",
   "execution_count": 7,
   "id": "a89ec11c-c5ce-42a3-869e-d2305c64f2ea",
   "metadata": {},
   "outputs": [
    {
     "name": "stdin",
     "output_type": "stream",
     "text": [
      "Enter a number:  10\n"
     ]
    },
    {
     "name": "stdout",
     "output_type": "stream",
     "text": [
      "The number is positive.\n"
     ]
    }
   ],
   "source": [
    "#If-Else**\n",
    "# Write a program that takes a number and prints whether it is positive, negative, or zero.\n",
    "\n",
    "number = float(input(\"Enter a number: \"))\n",
    "\n",
    "if number > 0:\n",
    "    print(\"The number is positive.\")\n",
    "elif number < 0:\n",
    "    print(\"The number is negative.\")\n",
    "else:\n",
    "    print(\"The number is zero.\")\n",
    "\n"
   ]
  },
  {
   "cell_type": "code",
   "execution_count": 4,
   "id": "dff9a9d1-e756-477d-a375-c1c2c160a9a8",
   "metadata": {},
   "outputs": [
    {
     "name": "stdin",
     "output_type": "stream",
     "text": [
      "Enter age:  17\n"
     ]
    },
    {
     "name": "stdout",
     "output_type": "stream",
     "text": [
      "Not Eligible\n"
     ]
    }
   ],
   "source": [
    "#Given a variable age, print \"Eligible\" if age is 18 or more; otherwise print \"Not eligible.\"\n",
    "age = float(input(\"Enter age: \"))\n",
    "\n",
    "if age >= 18:\n",
    "    print(\"Eligible\")\n",
    "else:\n",
    "    print(\"Not Eligible\")\n"
   ]
  },
  {
   "cell_type": "code",
   "execution_count": 5,
   "id": "90858642-bee1-4cd4-9cbe-78ea2255dbe1",
   "metadata": {},
   "outputs": [
    {
     "name": "stdin",
     "output_type": "stream",
     "text": [
      "Enter a number:  18\n"
     ]
    },
    {
     "name": "stdout",
     "output_type": "stream",
     "text": [
      "The number is NOT divisible by both 3 and 5.\n"
     ]
    }
   ],
   "source": [
    "#Check if a number is divisible by both 3 and 5 and print an appropriate message.\n",
    "num = int(input(\"Enter a number: \"))\n",
    "\n",
    "if num % 3 == 0 and num % 5 == 0:\n",
    "    print(\"The number is divisible by both 3 and 5.\")\n",
    "else:\n",
    "    print(\"The number is NOT divisible by both 3 and 5.\")"
   ]
  },
  {
   "cell_type": "code",
   "execution_count": 7,
   "id": "fb7bfa00-3416-46f9-a587-4c17c83374b1",
   "metadata": {},
   "outputs": [
    {
     "name": "stdout",
     "output_type": "stream",
     "text": [
      "p n\n"
     ]
    }
   ],
   "source": [
    "\n",
    "#Strings**\n",
    "#Given a string \"python\", print the first and last characters.\n",
    "string = \"python\"\n",
    "print(string[0], string[-1])\n"
   ]
  },
  {
   "cell_type": "code",
   "execution_count": 11,
   "id": "189ef255-c87f-4f48-a8bd-9f2639c7c351",
   "metadata": {},
   "outputs": [
    {
     "name": "stdin",
     "output_type": "stream",
     "text": [
      "Enter a string:  sap\n"
     ]
    },
    {
     "name": "stdout",
     "output_type": "stream",
     "text": [
      "Total a count 1\n"
     ]
    }
   ],
   "source": [
    "#Count how many times the letter 'a' appears in a given string.\n",
    "user_string = input(\"Enter a string: \")\n",
    "count = 0\n",
    "for c in user_string:\n",
    "    if c == 'a':\n",
    "        count += 1\n",
    "\n",
    "print(\"Total a count\", count)\n"
   ]
  },
  {
   "cell_type": "code",
   "execution_count": 12,
   "id": "9c15431f-f273-419c-a23b-89f49a1b03a6",
   "metadata": {},
   "outputs": [
    {
     "name": "stdin",
     "output_type": "stream",
     "text": [
      "Enter a string:  happy\n"
     ]
    },
    {
     "name": "stdout",
     "output_type": "stream",
     "text": [
      "Reversed string: yppah\n"
     ]
    }
   ],
   "source": [
    "#Reverse a string without using built-in reverse functions.\n",
    "text = input(\"Enter a string: \")\n",
    "reversed_text = \"\"\n",
    "\n",
    "for char in text:\n",
    "    reversed_text = char + reversed_text \n",
    "\n",
    "print(\"Reversed string:\", reversed_text)\n"
   ]
  },
  {
   "cell_type": "code",
   "execution_count": 1,
   "id": "3298a389-d21c-4021-bfb8-5d76dc53e7cb",
   "metadata": {},
   "outputs": [
    {
     "name": "stdout",
     "output_type": "stream",
     "text": [
      "3\n"
     ]
    }
   ],
   "source": [
    "#Tuples**\n",
    "#Create a tuple with numbers (1, 2, 3, 4, 5) and print the element at index 2.\n",
    "\n",
    "numbers = (1, 2, 3, 4, 5)\n",
    "print(numbers[2])"
   ]
  },
  {
   "cell_type": "code",
   "execution_count": 2,
   "id": "91c3ff79-c389-41b0-9bbd-e48228be8f78",
   "metadata": {},
   "outputs": [
    {
     "ename": "TypeError",
     "evalue": "'tuple' object does not support item assignment",
     "output_type": "error",
     "traceback": [
      "\u001b[1;31m---------------------------------------------------------------------------\u001b[0m",
      "\u001b[1;31mTypeError\u001b[0m                                 Traceback (most recent call last)",
      "Cell \u001b[1;32mIn[2], line 3\u001b[0m\n\u001b[0;32m      1\u001b[0m \u001b[38;5;66;03m#Try changing a value inside a tuple and observe what error occurs.\u001b[39;00m\n\u001b[0;32m      2\u001b[0m numbers \u001b[38;5;241m=\u001b[39m (\u001b[38;5;241m1\u001b[39m, \u001b[38;5;241m2\u001b[39m, \u001b[38;5;241m3\u001b[39m, \u001b[38;5;241m4\u001b[39m, \u001b[38;5;241m5\u001b[39m)\n\u001b[1;32m----> 3\u001b[0m numbers[\u001b[38;5;241m2\u001b[39m] \u001b[38;5;241m=\u001b[39m \u001b[38;5;241m10\u001b[39m\n",
      "\u001b[1;31mTypeError\u001b[0m: 'tuple' object does not support item assignment"
     ]
    }
   ],
   "source": [
    "#Try changing a value inside a tuple and observe what error occurs.\n",
    "numbers = (1, 2, 3, 4, 5)\n",
    "numbers[2] = 10 "
   ]
  },
  {
   "cell_type": "code",
   "execution_count": null,
   "id": "15266849-5c5b-4929-99ca-e421353bb351",
   "metadata": {},
   "outputs": [],
   "source": [
    "#Concatenate two tuples (1, 2) and (3, 4) and print the result.\n"
   ]
  },
  {
   "cell_type": "code",
   "execution_count": 3,
   "id": "bc0046a6-3449-4c5e-9ef2-f4ee0fe1609b",
   "metadata": {},
   "outputs": [
    {
     "name": "stdout",
     "output_type": "stream",
     "text": [
      "(1, 2, 3, 4)\n"
     ]
    }
   ],
   "source": [
    "# Concatenate two tuples (1, 2) and (3, 4) and print the result.\n",
    "tuple1 = (1,2)\n",
    "tuple2 = (3,4)\n",
    "print ( tuple1 + tuple2)\n",
    "\n"
   ]
  },
  {
   "cell_type": "code",
   "execution_count": 5,
   "id": "a0a922ff-4148-427c-8e0e-e300fd70fc50",
   "metadata": {},
   "outputs": [
    {
     "name": "stdout",
     "output_type": "stream",
     "text": [
      "[1, 2, 3, 4, 5, 6]\n"
     ]
    }
   ],
   "source": [
    "#**Lists**\n",
    "#* Create a list of numbers and append a new number to it.\n",
    "my_list = [1, 2, 3, 4, 5]\n",
    "my_list.append(6)\n",
    "print(my_list)\n",
    "\n"
   ]
  },
  {
   "cell_type": "code",
   "execution_count": 6,
   "id": "56191bc8-0fce-481a-8e88-1736eb276e10",
   "metadata": {},
   "outputs": [
    {
     "name": "stdout",
     "output_type": "stream",
     "text": [
      "[1, 3, 4, 5]\n"
     ]
    }
   ],
   "source": [
    "# Remove the second element from a list and print the updated list.\n",
    "\n",
    "my_list = [1,2,3,4,5]\n",
    "del my_list[1]\n",
    "print(my_list)\n"
   ]
  },
  {
   "cell_type": "code",
   "execution_count": 7,
   "id": "650730a0-ce1b-400e-b1df-e1ad18365253",
   "metadata": {},
   "outputs": [
    {
     "name": "stdout",
     "output_type": "stream",
     "text": [
      "Sorted list: [1, 2, 3, 5, 8, 9]\n"
     ]
    }
   ],
   "source": [
    "# Unsorted list\n",
    "numbers = [8, 3, 1, 5, 9, 2]\n",
    "numbers.sort()\n",
    "\n",
    "print(\"Sorted list:\", numbers)\n",
    "\n"
   ]
  },
  {
   "cell_type": "code",
   "execution_count": 9,
   "id": "65c24698-dc0b-4d23-a71f-95fc38501799",
   "metadata": {},
   "outputs": [
    {
     "name": "stdout",
     "output_type": "stream",
     "text": [
      "Union: {2, 4, 6, 8, 10, 12}\n",
      "Intersection: {8, 6}\n"
     ]
    }
   ],
   "source": [
    "#**Sets**\n",
    "#* Create two sets and print their union and intersection.\n",
    "\n",
    "set_a = {2, 4, 6, 8}\n",
    "set_b = {6, 8, 10, 12}\n",
    "\n",
    "union_set = set_a | set_b\n",
    "print(\"Union:\", union_set)\n",
    "\n",
    "intersection_set = set_a & set_b\n",
    "print(\"Intersection:\", intersection_set)\n",
    "\n"
   ]
  },
  {
   "cell_type": "code",
   "execution_count": 1,
   "id": "a57819f9-b798-4176-b6ed-aafd5b16c208",
   "metadata": {},
   "outputs": [
    {
     "name": "stdout",
     "output_type": "stream",
     "text": [
      "Original list: [1, 2, 3, 2, 4, 1, 5, 3]\n",
      "Unique set: {1, 2, 3, 4, 5}\n"
     ]
    }
   ],
   "source": [
    "#* Given a list with duplicates, convert it to a set to remove duplicates.\n",
    "# Given list with duplicates\n",
    "my_list = [1, 2, 3, 2, 4, 1, 5, 3]\n",
    "\n",
    "unique_set = set(my_list)\n",
    "\n",
    "print(\"Original list:\", my_list)\n",
    "print(\"Unique set:\", unique_set)\n"
   ]
  },
  {
   "cell_type": "code",
   "execution_count": 2,
   "id": "13403987-b7c7-4da0-97cf-c33878838372",
   "metadata": {},
   "outputs": [
    {
     "name": "stdout",
     "output_type": "stream",
     "text": [
      "3 exists in the set\n"
     ]
    }
   ],
   "source": [
    "#* Check if an element exists in a set.\n",
    "# Create a set\n",
    "my_set = {1, 2, 3, 4, 5}\n",
    "if 3 in my_set:\n",
    "    print(\"3 exists in the set\")\n",
    "else:\n",
    "    print(\"3 does not exist in the set\")\n",
    "\n"
   ]
  },
  {
   "cell_type": "code",
   "execution_count": 6,
   "id": "1e0e2532-fbf9-4630-a278-bd2f5aa61d7e",
   "metadata": {},
   "outputs": [
    {
     "name": "stdout",
     "output_type": "stream",
     "text": [
      "[2, 3, 4]\n"
     ]
    }
   ],
   "source": [
    "#**Slicing**\n",
    "#* Given a list `[10,rint the elements from index 1 to 3.\n",
    "numbers = [1, 2, 3, 4, 5, 6]\n",
    "print(numbers[1:4])\n",
    "\n"
   ]
  },
  {
   "cell_type": "code",
   "execution_count": 7,
   "id": "7b5d0502-4bfb-4431-8822-8438ea6f5b96",
   "metadata": {},
   "outputs": [
    {
     "name": "stdout",
     "output_type": "stream",
     "text": [
      "hap\n"
     ]
    }
   ],
   "source": [
    "#* Slice a string to get its first three characters.\n",
    "string = \"happy\"\n",
    "print(string[0:3])\n"
   ]
  },
  {
   "cell_type": "code",
   "execution_count": 9,
   "id": "a7e8e308-d080-4784-8850-ba4711ac2326",
   "metadata": {},
   "outputs": [
    {
     "name": "stdout",
     "output_type": "stream",
     "text": [
      "[1, 3, 5]\n"
     ]
    }
   ],
   "source": [
    "#* Use slicing to get every second element from a list.\n",
    "numbers = [1,2,3,4,5]\n",
    "print(numbers[0::2])"
   ]
  },
  {
   "cell_type": "code",
   "execution_count": 10,
   "id": "87dfd216-1e4e-483b-899f-309ca09cd665",
   "metadata": {},
   "outputs": [
    {
     "name": "stdout",
     "output_type": "stream",
     "text": [
      "[1, 2, 3, 4, 5, 6]\n"
     ]
    }
   ],
   "source": [
    "#*List Methods**\n",
    "# Use append() to add an element to a list.\n",
    "numbers = [1, 2, 3, 4, 5]\n",
    "\n",
    "numbers.append(6)\n",
    "\n",
    "print(numbers)\n",
    "\n",
    "\n"
   ]
  },
  {
   "cell_type": "code",
   "execution_count": 11,
   "id": "39eec438-4fee-457e-8df8-667ee887c4de",
   "metadata": {},
   "outputs": [
    {
     "name": "stdout",
     "output_type": "stream",
     "text": [
      "[1, 2, 3, 4]\n"
     ]
    }
   ],
   "source": [
    "#Use pop() to remove the last element from a list and print it.\n",
    "numbers = [1,2,3,4,5]\n",
    "numbers.pop(-1)\n",
    "print(numbers)"
   ]
  },
  {
   "cell_type": "code",
   "execution_count": 12,
   "id": "c2333318-418a-486a-a4d7-a8ef4c0dfbda",
   "metadata": {},
   "outputs": [
    {
     "name": "stdout",
     "output_type": "stream",
     "text": [
      "[1, 2, 3, 4, 5, 6, 7, 8]\n"
     ]
    }
   ],
   "source": [
    "#Use extend() to add multiple elements from another list.\n",
    "numbers = [1, 2, 3, 4, 5]\n",
    "new_numbers = [6, 7, 8]\n",
    "numbers.extend(new_numbers)\n",
    "print(numbers)\n"
   ]
  },
  {
   "cell_type": "code",
   "execution_count": 14,
   "id": "432cf3e0-8bb3-41c0-98bd-2e6f24e32cd5",
   "metadata": {},
   "outputs": [
    {
     "name": "stdout",
     "output_type": "stream",
     "text": [
      "6 raised to the power of 3 is 216\n"
     ]
    }
   ],
   "source": [
    "#Operators**\n",
    "#Write a program to calculate the remainder when dividing two numbers.\n",
    "\n",
    "num = 6\n",
    "result = num ** 3\n",
    "\n",
    "print(f\"{num} raised to the power of 3 is {result}\")\n"
   ]
  },
  {
   "cell_type": "code",
   "execution_count": 15,
   "id": "67f5ea03-46b5-4b9b-95b7-559848c2f83b",
   "metadata": {},
   "outputs": [
    {
     "name": "stdin",
     "output_type": "stream",
     "text": [
      "Enter a number:  10\n"
     ]
    },
    {
     "name": "stdout",
     "output_type": "stream",
     "text": [
      "10 is between 10 and 20.\n"
     ]
    }
   ],
   "source": [
    "#Use logical operators to check if a number is between 10 and 20.\n",
    "number = int(input(\"Enter a number: \"))\n",
    "if 10 <= number <= 20:\n",
    "    print(f\"{number} is between 10 and 20.\")\n",
    "else:\n",
    "    print(f\"{number} is NOT between 10 and 20.\")"
   ]
  },
  {
   "cell_type": "code",
   "execution_count": 17,
   "id": "b4531f91-b484-479a-b72a-f4a41de2f2e2",
   "metadata": {},
   "outputs": [
    {
     "name": "stdin",
     "output_type": "stream",
     "text": [
      "Enter number:  2\n"
     ]
    },
    {
     "name": "stdout",
     "output_type": "stream",
     "text": [
      "8\n"
     ]
    }
   ],
   "source": [
    "# Write a program to raise a number to the power of 3.\n",
    "number = int(input(\"Enter number: \"))\n",
    "print(number ** 3)\n",
    "\n"
   ]
  },
  {
   "cell_type": "code",
   "execution_count": null,
   "id": "c0ad6a3a-30ad-4b65-baab-11451f5e2c32",
   "metadata": {},
   "outputs": [],
   "source": []
  }
 ],
 "metadata": {
  "kernelspec": {
   "display_name": "Python 3 (ipykernel)",
   "language": "python",
   "name": "python3"
  },
  "language_info": {
   "codemirror_mode": {
    "name": "ipython",
    "version": 3
   },
   "file_extension": ".py",
   "mimetype": "text/x-python",
   "name": "python",
   "nbconvert_exporter": "python",
   "pygments_lexer": "ipython3",
   "version": "3.12.7"
  }
 },
 "nbformat": 4,
 "nbformat_minor": 5
}
