{
 "cells": [
  {
   "cell_type": "code",
   "execution_count": null,
   "id": "e84614e3-86e3-4ee3-be1f-e49a47cb7734",
   "metadata": {},
   "outputs": [],
   "source": [
    "Data Structure: Dictionary \n",
    "    # define a dictionary\n",
    "    # define the key value pairs\n",
    "    # access key of the dictionary\n",
    "    # update value of the key\n",
    "    # get the keys of the dictionary\n",
    "    # get the values of the dictionary\n",
    "    # update dictionary with a dictionary\n",
    "    # add new key to the dictionary:\n",
    "    # list is mutable, hence not allowed\n",
    "    # set is mutable, hence not allowed\n",
    "    # tuple is immutable, hence it is allowed\n",
    "    # Iterate through key-value pairs of the dictionary\n",
    "    # Sort the dicitionary by key\n",
    "    **Write a function Calculate the total cost of items in Shopping cart**\n",
    "    Write a function that check string password\n",
    "    Write a function to check if a string is Palindrome hint: convert level and the check"
   ]
  },
  {
   "cell_type": "code",
   "execution_count": 2,
   "id": "5213817d-97ba-478e-916a-3cae80fdd635",
   "metadata": {},
   "outputs": [
    {
     "name": "stdout",
     "output_type": "stream",
     "text": [
      "{}\n"
     ]
    }
   ],
   "source": [
    " # define an empty dictionary and print it\n",
    "dict1 ={}\n",
    "print (\"Empty dictionary:\",dict1)"
   ]
  },
  {
   "cell_type": "code",
   "execution_count": 23,
   "id": "9f194003-d62f-4133-836f-7162580a7643",
   "metadata": {},
   "outputs": [
    {
     "name": "stdout",
     "output_type": "stream",
     "text": [
      "{'name': None, 'age': None}\n"
     ]
    }
   ],
   "source": [
    " # define a dictionary onlywith keys using list and set\n",
    "listKeys=['name','age']\n",
    "dictWithKeys = dict.fromkeys(listKeys)\n",
    "print (dictWithKeys)"
   ]
  },
  {
   "cell_type": "code",
   "execution_count": 24,
   "id": "867b8892-9ebe-4e90-8fe3-ade2061448f4",
   "metadata": {},
   "outputs": [
    {
     "name": "stdout",
     "output_type": "stream",
     "text": [
      "{'Company': '', 'Type': ''}\n"
     ]
    }
   ],
   "source": [
    " # define a dictionary onlywith keys using set and default palceholder values\n",
    "setKeys={\"Company\",\"Type\"}\n",
    "companyDict = dict.fromkeys(keys,\"\")\n",
    "\n",
    "print(companyDict)"
   ]
  },
  {
   "cell_type": "code",
   "execution_count": 64,
   "id": "d5e91a8c-bb38-49bb-a77f-00db97515830",
   "metadata": {},
   "outputs": [
    {
     "name": "stdout",
     "output_type": "stream",
     "text": [
      "{'Company': ['Google', 'Amazon'], 'Type': ['tech', 'tech']}\n",
      "{'Company': ['Google', 'Amazon', 'Google', 'Amazon'], 'Type': ['tech', 'tech', 'tech', 'tech']}\n"
     ]
    }
   ],
   "source": [
    "#Add values using list in the dictionary using dicitionary comprehension\n",
    "companyDict ={'Company': '', 'Type': ''}\n",
    "dataList=[['Google','tech'],['Amazon','tech']]\n",
    "#Dicitionary comprehension\n",
    "companyDict={'Company':[d[0] for d in dataList],\n",
    "            'Type':[d[1] for d in dataList]}\n",
    "print (companyDict)\n",
    "for comp , ty in dataList:\n",
    "    companyDict['Company'].append(comp)\n",
    "    companyDict['Type'].append(ty)\n",
    "print(companyDict)\n"
   ]
  },
  {
   "cell_type": "code",
   "execution_count": 16,
   "id": "38aac287-54a1-462c-9f5d-c66ad738d085",
   "metadata": {},
   "outputs": [
    {
     "name": "stdout",
     "output_type": "stream",
     "text": [
      "{}\n",
      "{'name': ''}\n"
     ]
    }
   ],
   "source": [
    "#Add keys in empty dictionary\n",
    "print(dict1)\n",
    "dict1[\"name\"]=\"\"\n",
    "print(dict1)"
   ]
  },
  {
   "cell_type": "code",
   "execution_count": 25,
   "id": "b88a1ffb-bc1d-4193-bffe-ba2953a2f4e9",
   "metadata": {},
   "outputs": [
    {
     "name": "stdout",
     "output_type": "stream",
     "text": [
      "{'name': 'ABC', 'age': 34, 'IsIntern': False}\n"
     ]
    }
   ],
   "source": [
    "# define the key value pairs\n",
    "employeeDict={\n",
    "    \"name\":\"ABC\",\n",
    "    \"age\":34,\n",
    "    \"IsIntern\":False\n",
    "}\n",
    "print(employeeDict)"
   ]
  },
  {
   "cell_type": "code",
   "execution_count": 90,
   "id": "8cf983aa-e54a-437e-b366-8db533924687",
   "metadata": {},
   "outputs": [
    {
     "name": "stdout",
     "output_type": "stream",
     "text": [
      "{'name': 'ABC', 'Age': 23, 'Education': ['Grad', 'MS']}\n",
      "Access Name key:  ABC\n"
     ]
    }
   ],
   "source": [
    "#access the key of the dicitionary\n",
    "empdict={\n",
    "    \"name\":'ABC',\n",
    "    \"Age\":23,\n",
    "    \"Education\":[\"Grad\",\"MS\"]\n",
    "}\n",
    "print(empdict)\n",
    "print(\"Access Name key: \", empdict[\"name\"])"
   ]
  },
  {
   "cell_type": "code",
   "execution_count": 112,
   "id": "4f654963-854d-4447-8209-f45e7d7d9187",
   "metadata": {},
   "outputs": [
    {
     "name": "stdout",
     "output_type": "stream",
     "text": [
      "{'name': 'BCD', 'Age': 20, 'Education': ['Grad']}\n",
      "Key is not Present\n",
      "20\n"
     ]
    }
   ],
   "source": [
    "#access the value of the dicitionary\n",
    "print(empdict)\n",
    "print(empdict.get(\"City\",\"Key is not Present\"))\n",
    "print(empdict.get(\"Age\",\"Age is present\"))"
   ]
  },
  {
   "cell_type": "code",
   "execution_count": 91,
   "id": "0eb0514b-ca0d-46eb-9e74-42eb4a083094",
   "metadata": {},
   "outputs": [
    {
     "name": "stdout",
     "output_type": "stream",
     "text": [
      "{'name': 'ABC', 'Age': 23, 'Education': ['Grad', 'MS']}\n",
      "{'name': 'ABC', 'Age': 30, 'Education': ['Grad', 'MS', 'Diploma']}\n"
     ]
    }
   ],
   "source": [
    "# update value of the key\n",
    "print(empdict)\n",
    "empdict[\"Age\"]=30\n",
    "empdict[\"Education\"].append(\"Diploma\")\n",
    "print(empdict)"
   ]
  },
  {
   "cell_type": "code",
   "execution_count": 92,
   "id": "08334b97-e02f-4466-af7e-3a2bfa5b201b",
   "metadata": {},
   "outputs": [
    {
     "name": "stdout",
     "output_type": "stream",
     "text": [
      "dict_keys(['name', 'Age', 'Education'])\n"
     ]
    }
   ],
   "source": [
    "# get the keys of the dictionary\n",
    "print(empdict.keys())"
   ]
  },
  {
   "cell_type": "code",
   "execution_count": 94,
   "id": "a5334eab-5aa1-4eba-ad8f-19562e475373",
   "metadata": {},
   "outputs": [
    {
     "name": "stdout",
     "output_type": "stream",
     "text": [
      "{'name': 'ABC', 'Age': 30, 'Education': ['Grad', 'MS', 'Diploma']}\n",
      "dict_values(['ABC', 30, ['Grad', 'MS', 'Diploma']])\n"
     ]
    }
   ],
   "source": [
    "# get the values of the dictionary\n",
    "print(empdict)\n",
    "print(empdict.values())\n"
   ]
  },
  {
   "cell_type": "code",
   "execution_count": 95,
   "id": "dc6f4a0d-1f47-4571-b9bb-a130c1c66044",
   "metadata": {},
   "outputs": [
    {
     "name": "stdout",
     "output_type": "stream",
     "text": [
      "dict_items([('name', 'ABC'), ('Age', 30), ('Education', ['Grad', 'MS', 'Diploma'])])\n"
     ]
    }
   ],
   "source": [
    "# get the keys and values of the dictionary\n",
    "print(empdict.items())"
   ]
  },
  {
   "cell_type": "code",
   "execution_count": 119,
   "id": "d5bfc525-325d-4367-a4ea-f158492870ac",
   "metadata": {},
   "outputs": [
    {
     "name": "stdout",
     "output_type": "stream",
     "text": [
      "{'name': 'BCD', 'Age': 20, 'Education': ['Grad'], 'Status': 'Married'}\n",
      "{'name': 'BCD', 'Age': 20, 'Education': ['Grad']}\n",
      "{'name': 'BCD', 'Age': 20, 'Education': ['Grad'], 'Status': 'Married'}\n"
     ]
    }
   ],
   "source": [
    "# update dictionary with a dictionary\n",
    "empdict1 = {\n",
    "    \"name\":\"BCD\",\n",
    "    \"Age\":20,\n",
    "    \"Education\":[\"Grad\"]\n",
    "}\n",
    "print(empdict)\n",
    "print(empdict1)\n",
    "empdict.update(empdict1)\n",
    "print(empdict)"
   ]
  },
  {
   "cell_type": "code",
   "execution_count": 125,
   "id": "ad6907ed-962f-40fe-9536-dd3459514889",
   "metadata": {},
   "outputs": [
    {
     "name": "stdout",
     "output_type": "stream",
     "text": [
      "{'name': 'BCD', 'Age': 20, 'Education': ['Grad'], 'Status': ''}\n",
      "{'name': 'BCD', 'Age': 20, 'Education': ['Grad'], 'Status': ''}\n"
     ]
    }
   ],
   "source": [
    "# add new key to the dictionary:\n",
    "print(empdict)\n",
    "empdict[\"Status\"]=\"\"\n",
    "print(empdict)"
   ]
  },
  {
   "cell_type": "code",
   "execution_count": 131,
   "id": "b4670de5-58d5-4143-a2dc-3c3097bf708f",
   "metadata": {},
   "outputs": [
    {
     "name": "stdout",
     "output_type": "stream",
     "text": [
      "{'Name': 'BCD', 'Age': 23}\n"
     ]
    }
   ],
   "source": [
    "# add duplicate key to the dictionary:\n",
    "empdict2={\n",
    "    \"Name\":\"ABC\",\n",
    "    \"Age\":23,\n",
    "    \"Name\":\"BCD\"\n",
    "}\n",
    "print(empdict2)"
   ]
  },
  {
   "cell_type": "code",
   "execution_count": 157,
   "id": "2f808125-1fb2-491c-8bde-2b1d8435947d",
   "metadata": {},
   "outputs": [
    {
     "name": "stdout",
     "output_type": "stream",
     "text": [
      "unhashable type: 'list'\n",
      "Dictionary having set as a key:\n",
      "{True: 'married', (0, 0): 'origin', (0, 1): 'Point A', (10, 'Maths'): 90, (10, 'Science'): 70}\n",
      "unhashable type: 'set'\n"
     ]
    }
   ],
   "source": [
    "#A dictionary key must be of a type that is immutable. ***\n",
    "# list,set are mutable, so list and set as key not allowed but values can be a list or set\n",
    "#Tuple is immutable , so tuples can be key in the dictionary\n",
    "try:\n",
    "    sample = {\n",
    "        1 : 'integer',\n",
    "        [1, 2] : 'list'\n",
    "    }\n",
    "    print (sample)\n",
    "except TypeError as e:\n",
    "    print (e)\n",
    "#use tuple as a key in dicitonary\n",
    "#Use cases:\n",
    "    #storing data for points on a 2D grid\n",
    "    #key is naturally made of multiple attributes.\n",
    "try:\n",
    "    keyTupleDict={\n",
    "        True:'married',\n",
    "        (0,0):'origin',\n",
    "        (0,1):'Point A',\n",
    "        (10,\"Maths\"):90,\n",
    "        (10,\"Science\"):70\n",
    "    }\n",
    "    print('Dictionary having set as a key:')\n",
    "    print(sample)\n",
    "except TypeError as e:\n",
    "    print(e)\n",
    "try:\n",
    "    sample ={\n",
    "        1.0:'float',\n",
    "        True:'bool',\n",
    "        {1,2}:'set'\n",
    "    }\n",
    "    print(sample)\n",
    "except TypeError as e:\n",
    "    print (e)\n"
   ]
  },
  {
   "cell_type": "code",
   "execution_count": 159,
   "id": "d174b0df-df3a-472d-80da-3156e0836c19",
   "metadata": {},
   "outputs": [
    {
     "name": "stdout",
     "output_type": "stream",
     "text": [
      "{'name': 'BCD', 'Age': 20, 'Education': ['Grad']}\n",
      "name  :  BCD\n",
      "Age  :  20\n",
      "Education  :  ['Grad']\n",
      "{True: 'married', (0, 0): 'origin', (0, 1): 'Point A', (10, 'Maths'): 90, (10, 'Science'): 70}\n",
      "True  :  married\n",
      "(0, 0)  :  origin\n",
      "(0, 1)  :  Point A\n",
      "(10, 'Maths')  :  90\n",
      "(10, 'Science')  :  70\n"
     ]
    }
   ],
   "source": [
    "# Iterate through key-value pairs of the dictionary\n",
    "print(empdict1)\n",
    "for key, value in empdict1.items():\n",
    "    print(key,\" : \",value)\n",
    "print(keyTupleDict)\n",
    "for key,value in keyTupleDict.items():\n",
    "    print(key, \" : \",value)\n"
   ]
  },
  {
   "cell_type": "code",
   "execution_count": 165,
   "id": "e586bb5c-a58c-4e53-b04c-8a76dc252207",
   "metadata": {},
   "outputs": [
    {
     "name": "stdout",
     "output_type": "stream",
     "text": [
      "{True: 'married', (0, 0): 'origin', (0, 1): 'Point A', (10, 'Maths'): 90, (10, 'Science'): 70}\n",
      "{'married': True, 'origin': (0, 0), 'Point A': (0, 1), 90: (10, 'Maths'), 70: (10, 'Science')}\n",
      "Can't reverse the dictionary as it contains list as a value and key of the dicitionary can't be a list\n",
      "unhashable type: 'list'\n"
     ]
    }
   ],
   "source": [
    "#Reverse the dicitionary if values are unique\n",
    "print(keyTupleDict)\n",
    "newDict={}\n",
    "newDict1={}\n",
    "for key,value in keyTupleDict.items():\n",
    "    newDict[value]=key\n",
    "print(newDict)\n",
    "try:\n",
    "    for key,value in empdict1.items():\n",
    "        newDict1[value]=key\n",
    "    print(newDict1)\n",
    "except TypeError as e:\n",
    "    print(\"Can\\'t reverse the dictionary as it contains list as a value and key of the dicitionary can\\'t be a list\")\n",
    "    print(e)"
   ]
  },
  {
   "cell_type": "code",
   "execution_count": 186,
   "id": "f615ebb3-4692-4600-ab83-d663a51f5bc0",
   "metadata": {},
   "outputs": [
    {
     "name": "stdout",
     "output_type": "stream",
     "text": [
      "{'name': 'New', 'Age': 20, 'Education': ['Grad']}\n",
      "{'name': 'New', 'Age': 20, 'Education': ['Grad']}\n",
      "True\n",
      "{'name': 'New', 'Age': 20, 'Education': ['Grad']}\n",
      "{'name': 'New', 'Age': 20, 'Education': ['Grad']}\n",
      "True\n"
     ]
    }
   ],
   "source": [
    "#Compare 2 dictionaries by creating a new dictionary from existing one\n",
    "#IT changes the values for both the dicitionaries as dicitionary is mutable data structure\n",
    "print(empdict1)\n",
    "empdict2=empdict1\n",
    "print(empdict2)\n",
    "print(empdict1==empdict2)\n",
    "empdict2['name']='New'\n",
    "#empdict2={'name':'Old'}\n",
    "print(empdict2)\n",
    "print(empdict1)\n",
    "print(empdict2==empdict1)"
   ]
  },
  {
   "cell_type": "code",
   "execution_count": 187,
   "id": "2e8a5007-69b6-47b8-9c35-92463de93e89",
   "metadata": {},
   "outputs": [
    {
     "name": "stdout",
     "output_type": "stream",
     "text": [
      "{'name': 'New', 'Age': 20, 'Education': ['Grad']}\n",
      "{'name': 'New', 'Age': 20, 'Education': ['Grad']}\n",
      "True\n",
      "{'name': 'ABCD', 'Age': 20, 'Education': ['Grad']}\n",
      "False\n"
     ]
    }
   ],
   "source": [
    "#Compare 2 dictionaries by creating a new dictionary from existing one using copy and dict constructor\n",
    "print(empdict1)\n",
    "empdict2=dict(empdict1)\n",
    "print(empdict2)\n",
    "print(empdict1==empdict2)\n",
    "empdict2['name']='ABCD'\n",
    "print(empdict2)\n",
    "print(empdict1==empdict2)"
   ]
  },
  {
   "cell_type": "code",
   "execution_count": 191,
   "id": "c5b287d1-9918-420a-89d6-013860824b3c",
   "metadata": {},
   "outputs": [
    {
     "name": "stdout",
     "output_type": "stream",
     "text": [
      "{'name': 'New', 'Age': 20, 'Education': ['Grad']}\n",
      "{'name': 'New', 'Age': 20, 'Education': ['Grad']}\n",
      "True\n",
      "{'Age': 20, 'name': 'New', 'Education': ['Grad']}\n",
      "True\n"
     ]
    }
   ],
   "source": [
    "#Compare 2 dictionaries by changing their order.\n",
    "import copy as copy\n",
    "print(empdict1)\n",
    "empdict2=copy.deepcopy(empdict1)\n",
    "print(empdict2)\n",
    "print(empdict1==empdict2)\n",
    "empdict2={'Age':20, 'name': 'New', 'Age': 20, 'Education': ['Grad']}\n",
    "print(empdict2)\n",
    "print(empdict1==empdict2)"
   ]
  },
  {
   "cell_type": "code",
   "execution_count": 210,
   "id": "3a0fa3ce-3dfb-403f-b563-841edb009f96",
   "metadata": {},
   "outputs": [
    {
     "name": "stdout",
     "output_type": "stream",
     "text": [
      "{'abc': 20, 'Meenakshi': 50, 'Yamika': 10, 'Diksha': 20, 'SANU': 100}\n",
      "['Diksha', 'Meenakshi', 'SANU', 'Yamika', 'abc']\n",
      "['abc', 'Diksha', 'Meenakshi', 'SANU', 'Yamika']\n",
      "[10, 20, 20, 50, 100]\n",
      "[('Diksha', 20), ('Meenakshi', 50), ('SANU', 100), ('Yamika', 10), ('abc', 20)]\n",
      "['Diksha', 'Meenakshi', 'SANU', 'Yamika', 'abc']\n",
      "['Age', 'Education', 'name']\n",
      "{'abc': 20, 'Meenakshi': 50, 'Yamika': 10, 'Diksha': 20, 'SANU': 100}\n"
     ]
    }
   ],
   "source": [
    "#***Sort the dictionary by key***\n",
    "personDict={\n",
    "    'abc':20,\n",
    "    'Meenakshi':50,\n",
    "    'Yamika':10,\n",
    "    'Diksha':20,\n",
    "    'SANU':100\n",
    "}\n",
    "print(personDict)\n",
    "print(sorted(personDict.keys()))\n",
    "print(sorted(personDict.keys(), key=str.upper))\n",
    "print(sorted(personDict.values()))\n",
    "print(sorted(personDict.items()))\n",
    "print(sorted(personDict.values() and personDict.keys())) #not workign as expected\n",
    "print(sorted(empdict1.keys()))\n",
    "print(personDict)"
   ]
  },
  {
   "cell_type": "code",
   "execution_count": 250,
   "id": "b130ea1c-3322-4c10-b1a7-510c5fd9c301",
   "metadata": {},
   "outputs": [
    {
     "name": "stdout",
     "output_type": "stream",
     "text": [
      "Total cost of the Apple: is 2.0\n",
      "Total cost of the Orange: is 2.4\n",
      "Total cost of the Banana: is 4.0\n"
     ]
    }
   ],
   "source": [
    "#Write a function Calculate the total cost of items in Shopping cart\n",
    "cart=[\n",
    "        {'name':'Apple','price':0.5,'quantity':4},\n",
    "        {'name':'Orange','price':0.4,'quantity':6},\n",
    "        {'name':'Banana','price':0.5,'quantity':8}\n",
    "    ]\n",
    "for rec in cart:\n",
    "    print(f\"Total cost of the {rec['name']}: is {round(rec['price']*rec['quantity'],2)}\") \n"
   ]
  },
  {
   "cell_type": "code",
   "execution_count": 313,
   "id": "3424cba9-81ff-406b-94b3-a8250659aa4e",
   "metadata": {},
   "outputs": [
    {
     "name": "stdout",
     "output_type": "stream",
     "text": [
      "Password entered is a Strong password\n"
     ]
    }
   ],
   "source": [
    "#Write a Function that check strong password\n",
    "#Check length >8, check does password as digit, \n",
    "#Check does it has lower case Alphabet, \n",
    "#Check does it has upper case Alphabet, \n",
    "#Check does it has special character(!@#$%^&*())\n",
    "password='@@@@A!a1234'\n",
    "msg=''\n",
    "#for char in password:\n",
    "#    if any(char.islower() \n",
    "# any(char.islower() for char in password)\n",
    "spec_char = ['!','@','#','$','%','^','&','*','(',')']\n",
    "try:\n",
    "    if len(password) < 8:\n",
    "        raise ValueError('Password should contain at least 8 characters in')\n",
    "    elif not(any(charact.islower() for charact in password)):\n",
    "        raise TypeError('At least one lower character should be present in the password')\n",
    "    elif not(any(charact.isupper() for charact in password)):\n",
    "        raise TypeError('At least one upper character should be present in the password')\n",
    "    elif not(any(charact in spec_char for charact in password)):\n",
    "        raise TypeError('At least one special character should be present in the password')\n",
    "    else:\n",
    "        print('Password entered is a Strong password') \n",
    "except ValueError as ve:\n",
    "    print(ve)\n",
    "except TypeError as e:\n",
    "    print(e)\n",
    "    "
   ]
  },
  {
   "cell_type": "code",
   "execution_count": 319,
   "id": "f5b097a0-7b81-477d-b461-fd6f66c41e27",
   "metadata": {},
   "outputs": [
    {
     "name": "stdout",
     "output_type": "stream",
     "text": [
      "This is not a palidrome\n",
      "Is input string is palindrome:  False\n"
     ]
    }
   ],
   "source": [
    "#Write a function to check if a string is Palindrome [hint: Level=> convert level then check palindrome]\n",
    "string='This is not a palidrome'\n",
    "#string='abcdcba'\n",
    "print(string)\n",
    "reverseString = string[::-1]\n",
    "print('Is input string is palindrome: ',reverseString==string)"
   ]
  },
  {
   "cell_type": "code",
   "execution_count": null,
   "id": "bd76878e-cbb3-4fc2-b949-84a70441ac40",
   "metadata": {},
   "outputs": [],
   "source": []
  }
 ],
 "metadata": {
  "kernelspec": {
   "display_name": "Python 3 (ipykernel)",
   "language": "python",
   "name": "python3"
  },
  "language_info": {
   "codemirror_mode": {
    "name": "ipython",
    "version": 3
   },
   "file_extension": ".py",
   "mimetype": "text/x-python",
   "name": "python",
   "nbconvert_exporter": "python",
   "pygments_lexer": "ipython3",
   "version": "3.12.7"
  }
 },
 "nbformat": 4,
 "nbformat_minor": 5
}
