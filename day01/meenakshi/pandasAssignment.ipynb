{
 "cells": [
  {
   "cell_type": "code",
   "execution_count": null,
   "id": "809a7855-dc0a-46e8-8b6c-6335b82ba888",
   "metadata": {},
   "outputs": [],
   "source": [
    "# Q1 Import Pandas\n",
    "#Get the dataset from Kaggle. Save it on your local system.\n",
    "    # https://www.kaggle.com/datasets/keyuripalav/gestational-diabetes-dataset-for-learning-pandas\n",
    "# Q3 Read files into Dataframes and name them appropriately.\n",
    "    #Read csv\n",
    "    #read excel\n",
    "# Q4 Explore the Dataframes using various pandas functions. \n",
    "    #Note: Add new cells (if needed) to the Jupyter Notebook for answering this question\n",
    "#print top 3 row of the dataframe\n",
    "#print last 3 rows\n",
    "#meta data of the dataframe\n",
    "#print the rows by columns\n",
    "#Check for duplicates in both dataframes. Drop duplicates if any.\n",
    "#Get the size of the dataframe\n",
    "# Q6 Check for missing data in both dataframes. Treat missing data.\n",
    "#Display the info of the data frame\n"
   ]
  }
 ],
 "metadata": {
  "kernelspec": {
   "display_name": "Python 3 (ipykernel)",
   "language": "python",
   "name": "python3"
  },
  "language_info": {
   "codemirror_mode": {
    "name": "ipython",
    "version": 3
   },
   "file_extension": ".py",
   "mimetype": "text/x-python",
   "name": "python",
   "nbconvert_exporter": "python",
   "pygments_lexer": "ipython3",
   "version": "3.12.7"
  }
 },
 "nbformat": 4,
 "nbformat_minor": 5
}
