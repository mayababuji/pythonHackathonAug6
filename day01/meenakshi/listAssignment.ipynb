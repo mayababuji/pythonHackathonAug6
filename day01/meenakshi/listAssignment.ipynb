{
 "cells": [
  {
   "cell_type": "code",
   "execution_count": null,
   "id": "dc7182e6-a231-49da-8b0d-d56292a23182",
   "metadata": {},
   "outputs": [],
   "source": [
    "#1. How do you access the first and last elements of a list?  numbers = [10, 20, 30, 40, 50]\n",
    "#2.How can you add and remove a another list into an existing list from a list?  fruits = ['apple', 'banana']\n",
    "    #remove using index ie pop\n",
    "    #Remove using list comprehension\n",
    "    #remove by value\n",
    "#2.How can you add and remove single and multiple elements from a list?  fruits = ['apple', 'banana']\n",
    "#3.Write a program to find the sum of all elements in a list. numbers = [1, 2, 3, 4]\n",
    "#3.Write a program to find the sum of all integers and floats in a list. numbers = [1, 2, 3, 4]\n",
    "#4.How do you check if an element exists in a list? using list comprehension colors = ['red', 'green', 'blue'] check if green is in colors\n",
    "#4.How do you check if an element exists in a list? using if loop colors = ['red', 'green', 'blue'] check if green is in colors\n",
    "#4.How do you check if an element exists in a list? By checking index colors = ['red', 'green', 'blue'] check if green is in colors\n",
    "#5. Write a function that takes a list and returns a new list with only the even.\n",
    "#Create a list by sending user input\n",
    "#6 find the output when str type element * int type element s*i, s+i\n",
    "#7. a = [1, 2]  b = [1, 2] what will be a ==b and a is b output?\n",
    "#8. Write a function using Collection Counter that takes a string and returns a dictionary with each character as a key and its frequency as the value.\n",
    "#8. Write a function that takes a string and returns a dictionary with each character as a key and its frequency as the value.\n",
    "#9.Given a list of words, return a dictionary where the key is the word length, and the value is a list of words of that length\n",
    "    # example\n",
    "    # Input: [\"hi\", \"hello\", \"hat\", \"at\"]\n",
    "    # Output: {2: [\"hi\", \"at\"], 5: [\"hello\"], 3: [\"hat\"]}\n",
    "# 10. Write a function that counts how many times each word appears in a sentence (ignore punctuation and case).\n",
    "#    example\n",
    "#       Input: \"The cat and the hat.\"\n",
    "#       Output: {'the': 2, 'cat': 1, 'and': 1, 'hat': 1}"
   ]
  },
  {
   "cell_type": "code",
   "execution_count": 5,
   "id": "e260e890-8321-45a8-be13-a9168f5c668e",
   "metadata": {},
   "outputs": [
    {
     "name": "stdout",
     "output_type": "stream",
     "text": [
      "length of the list:  5\n",
      "first and last element of the list: 10, 50\n"
     ]
    }
   ],
   "source": [
    "#1. How do you access the first and last elements of a list?  numbers = [10, 20, 30, 40, 50]\n",
    "lst=[10,20,30,40,50]\n",
    "print('length of the list: ',len(lst))\n",
    "print(f'first and last element of the list: {lst[0]}, {lst[len(lst)-1]}')"
   ]
  },
  {
   "cell_type": "code",
   "execution_count": 55,
   "id": "1feedd2a-960b-4ada-9ada-488c90c6c788",
   "metadata": {},
   "outputs": [
    {
     "name": "stdout",
     "output_type": "stream",
     "text": [
      "['apple', 'banana']\n",
      "['apple', 'banana', ['Orange', 'pineapple']]\n",
      "need exact match:  list.remove(x): x not in list\n",
      "['apple', 'banana']\n",
      "['apple', 'banana']\n",
      "removed list:  ['apple', 'banana']\n"
     ]
    }
   ],
   "source": [
    "#2.How can you add and remove a another list into an existing list from a list?  fruits = ['apple', 'banana']\n",
    "#remove using index ie pop\n",
    "#Remove using list comprehension\n",
    "#remove by value\n",
    "lst=['apple','banana']\n",
    "print(lst)\n",
    "lst.append(['Orange','pineapple'])\n",
    "print(lst)\n",
    "try:\n",
    "    lst.remove(['orange'])\n",
    "except ValueError as ve:\n",
    "    print('need exact match: ',ve)\n",
    "lst.remove(['Orange','pineapple'])\n",
    "print(lst)\n",
    "#remove by index\n",
    "lst.append(['Orange','pineapple'])\n",
    "lst.pop(2)\n",
    "print(lst)\n",
    "lst.append(['Orange','pineapple'])\n",
    "#remove using list comprehension\n",
    "#remove a nested list \n",
    "#for l in lst:\n",
    " #   if isinstance(l,list):\n",
    " #       print (l)\n",
    "  #      lst.remove(l)\n",
    "# above code in one line\n",
    "lst = [l for l in lst if not isinstance(l,list)]\n",
    "print('removed list: ',lst)\n"
   ]
  },
  {
   "cell_type": "code",
   "execution_count": 27,
   "id": "c974e35b-0ae9-43d6-b4b6-80c3beacefb2",
   "metadata": {},
   "outputs": [
    {
     "name": "stdout",
     "output_type": "stream",
     "text": [
      "['banana', 'apple', 'Grapefruit']\n",
      "['banana', 'apple', 'Grapefruit', 'Orange', 'Grapes', 'Berries', 23, 45, 34]\n",
      "['banana', 'Grapefruit', 'Orange', 'Grapes', 'Berries', 23, 45, 34]\n",
      "\n",
      "Removed last Element:  ['banana', 'Grapefruit', 'Orange', 'Grapes', 'Berries', 23, 45]\n",
      "\n",
      "removed all integer elements from the list\n",
      "['banana', 'Grapefruit', 'Orange', 'Grapes', 'Berries']\n"
     ]
    }
   ],
   "source": [
    "#2.How can you add and remove single and multiple elements from a list?  fruits = ['apple', 'banana']\n",
    "#remove elements using list comprehension\n",
    "#3 ways\n",
    "lst=['banana','apple','Grapefruit']\n",
    "print(lst)\n",
    "\n",
    "#Adding a single element\n",
    "lst.append('Orange')\n",
    "#Adding using extend\n",
    "lst.extend(['Grapes','Berries'])\n",
    "#using shorthand for extend\n",
    "lst+=[23,45,34]\n",
    "print(lst)\n",
    "#remove element by the value\n",
    "lst.remove('apple')\n",
    "#remove last element by index \n",
    "print(lst)\n",
    "lst.pop(len(lst)-1)\n",
    "print('\\nRemoved last Element: ',lst)\n",
    "#Remove multiple elements\n",
    "print('\\nremoved all integer elements from the list')\n",
    "lst=[x for x in lst if isinstance(x,str)]\n",
    "print(lst)"
   ]
  },
  {
   "cell_type": "code",
   "execution_count": 61,
   "id": "a23f7aab-55b8-4648-b346-296e79ef5903",
   "metadata": {},
   "outputs": [
    {
     "name": "stdout",
     "output_type": "stream",
     "text": [
      "10\n"
     ]
    }
   ],
   "source": [
    "#3.Write a program to find the sum of all elements in a list. numbers = [1, 2, 3, 4]\n",
    "\n",
    "lst =[1,2,3,4]\n",
    "print(sum(lst))"
   ]
  },
  {
   "cell_type": "code",
   "execution_count": 65,
   "id": "2170f754-9849-4e3d-ae06-60117b332347",
   "metadata": {},
   "outputs": [
    {
     "name": "stdout",
     "output_type": "stream",
     "text": [
      "140.22\n"
     ]
    }
   ],
   "source": [
    "#3.Write a program to find the sum of all integers and floats in a list. numbers = [1, 2, 3, 4]\n",
    "lst=[34,5,23,45,33.22,'test']\n",
    "print(sum(l for l in lst if isinstance(l,int) or isinstance(l,float)))\n"
   ]
  },
  {
   "cell_type": "code",
   "execution_count": 2,
   "id": "43effa4b-cab6-43ff-99ea-39ba948d197f",
   "metadata": {},
   "outputs": [
    {
     "name": "stdout",
     "output_type": "stream",
     "text": [
      "index of yellow: 2\n"
     ]
    }
   ],
   "source": [
    "#4.How do you check an index of a value in a list? colors = ['red', 'green', 'blue'] check if green is in colors\n",
    "lst=['red','green','yellow']\n",
    "print(f'index of yellow: {lst.index(\"yellow\")}')"
   ]
  },
  {
   "cell_type": "code",
   "execution_count": 3,
   "id": "e68c1eea-e001-49c9-a473-694feaf69af2",
   "metadata": {},
   "outputs": [
    {
     "name": "stdout",
     "output_type": "stream",
     "text": [
      "['yellow']\n",
      "<generator object <genexpr> at 0x7af963686740>\n"
     ]
    }
   ],
   "source": [
    "#4.How do you check if an element exists in a list? with list comprehension colors = ['red', 'green', 'blue'] check if green is in colors\n",
    "#if list comprehension is used need to use for loop with if loop\n",
    "#List comprehension is used returns an list object\n",
    "#print list object \n",
    "print(list(l for l in lst if l==\"yellow\"))\n",
    "print(l for l in lst if l=='yellow') #returns the object"
   ]
  },
  {
   "cell_type": "code",
   "execution_count": 90,
   "id": "005b0286-e2f6-4bac-9250-41685445ad1e",
   "metadata": {},
   "outputs": [
    {
     "name": "stdout",
     "output_type": "stream",
     "text": [
      "yellow: is present in the list\n"
     ]
    }
   ],
   "source": [
    "#4.How do you check if an element exists in a list? colors = ['red', 'green', 'blue'] check if green is in colors\n",
    "#using only if statement\n",
    "lst=['red','yellow','green']\n",
    "i='yellow'\n",
    "if i in lst:\n",
    "    print(f'{i}: is present in the list')"
   ]
  },
  {
   "cell_type": "code",
   "execution_count": 95,
   "id": "2dca7cf6-9a30-4f20-af83-a95c5d0b5ffb",
   "metadata": {},
   "outputs": [
    {
     "name": "stdout",
     "output_type": "stream",
     "text": [
      "Is ' red ' Element present:  True\n"
     ]
    }
   ],
   "source": [
    "#4.How do you check if an element exists in a list? colors = ['red', 'green', 'blue'] check if green is in colors\n",
    "#check existence of the element by checking index\n",
    "value='red'\n",
    "try:\n",
    "    print(\"Is '\",value,\"' Element present: \", lst.index(value)>=0)\n",
    "except ValueError as e:\n",
    "    print(e)"
   ]
  },
  {
   "cell_type": "code",
   "execution_count": 126,
   "id": "90cd51ec-315a-4db0-8fcc-b2b9c5899e2f",
   "metadata": {},
   "outputs": [
    {
     "name": "stdout",
     "output_type": "stream",
     "text": [
      "[3, 2, 5, 6, 'odd', 'even', True, 34.3, 44.4]\n",
      "New list having only even integers from list\n",
      "[2, 6]\n",
      "[2, 6]\n"
     ]
    }
   ],
   "source": [
    "#5. Write a function that takes a list and returns a new list with only the even.\n",
    "#Even number s are the whole numbers (only int) with divisible by 2\n",
    "lst=[3,2,5,6,'odd','even',True,34.3,44.4]\n",
    "print(lst)\n",
    "print(\"New list having only even integers from list\")\n",
    "newLst = [l for l in lst if isinstance(l,int) and l%2==0]\n",
    "print(newLst)\n"
   ]
  },
  {
   "cell_type": "code",
   "execution_count": 129,
   "id": "825caf35-0818-4e0f-9ba1-d49b82ebfd6d",
   "metadata": {},
   "outputs": [
    {
     "name": "stdin",
     "output_type": "stream",
     "text": [
      "enter the list of elements seperated by comma \",\" 45,34,45\n"
     ]
    },
    {
     "name": "stdout",
     "output_type": "stream",
     "text": [
      "45,34,45\n",
      "['45', '34', '45']\n"
     ]
    }
   ],
   "source": [
    "#Create a list by sending user input\n",
    "#use split , it returns list\n",
    "user_input = input('enter the list of elements seperated by comma \",\"')\n",
    "print(user_input)\n",
    "user_lst=user_input.split(\",\")\n",
    "print(user_lst)"
   ]
  },
  {
   "cell_type": "code",
   "execution_count": 134,
   "id": "cdaef995-21a2-455a-bfa0-b3c8edacaad7",
   "metadata": {},
   "outputs": [
    {
     "name": "stdout",
     "output_type": "stream",
     "text": [
      "5555\n",
      "5555\n",
      "unsupported operand type(s) for +: 'int' and 'str'\n"
     ]
    }
   ],
   "source": [
    "#6 find the output when str type element * int type element s*i , s+i\n",
    "s='5'\n",
    "i=4\n",
    "print(s*i)\n",
    "print(i*s)\n",
    "try:\n",
    "    print(i+s)\n",
    "except TypeError as e:\n",
    "    print (e)"
   ]
  },
  {
   "cell_type": "code",
   "execution_count": 135,
   "id": "7a0bd08c-3f99-45a8-8a60-f702172a7838",
   "metadata": {},
   "outputs": [
    {
     "name": "stdout",
     "output_type": "stream",
     "text": [
      "True\n",
      "False\n"
     ]
    }
   ],
   "source": [
    "#7. a = [1, 2]  b = [1, 2] what will be a ==b and a is b output?\n",
    "a=[1,2]\n",
    "b=[1,2]\n",
    "print(a==b)\n",
    "print(a is b)"
   ]
  },
  {
   "cell_type": "code",
   "execution_count": 150,
   "id": "dd34f1b6-8a42-4030-a94c-e22a1427574e",
   "metadata": {},
   "outputs": [
    {
     "name": "stdout",
     "output_type": "stream",
     "text": [
      "Counter({'a': 2, 'e': 2, 's': 2, 'd': 1})\n"
     ]
    }
   ],
   "source": [
    "#8. Write a function using Collection Counter that takes a string and returns a dictionary with each character as a key and its frequency as the value.\n",
    "from collections import Counter\n",
    "def dictWithFrequency(inputStr):\n",
    "    dict = Counter(inputStr)\n",
    "    return dict\n",
    "dict1 = dictWithFrequency('aadeess')\n",
    "print (dict1)"
   ]
  },
  {
   "cell_type": "code",
   "execution_count": 16,
   "id": "31d651ca-ab37-417a-9f60-de41992f7612",
   "metadata": {},
   "outputs": [
    {
     "name": "stdout",
     "output_type": "stream",
     "text": [
      "{}\n",
      "dict_items([])\n",
      "{'a': 2, 's': 4, 'd': 2, 'z': 1}\n",
      "3\n"
     ]
    }
   ],
   "source": [
    "#8. Write a function that takes a string and returns a dictionary with each character as a key and its frequency as the value.\n",
    "wordCntDict={}\n",
    "print(wordCntDict)\n",
    "print(wordCntDict.items())\n",
    "def dictWithFrequency(inputStr):\n",
    "    for char in inputStr:\n",
    "       # wordCntDict[char]=wordCntDict.get(char,0)+1\n",
    "        #if wordCntDict.get(char) is None:\n",
    "         if char not in wordCntDict:\n",
    "             wordCntDict[char]=1\n",
    "         else:\n",
    "        #     #WordCntDict[char] = wordCntDict.get(char)+1\n",
    "             wordCntDict[char] +=1\n",
    "    return wordCntDict\n",
    "print(dictWithFrequency('asdasssdz'))\n",
    "print(len('abb'))"
   ]
  },
  {
   "cell_type": "code",
   "execution_count": 20,
   "id": "9d120cfb-6bf0-48d6-9c64-c8fb22011bb8",
   "metadata": {},
   "outputs": [
    {
     "name": "stdout",
     "output_type": "stream",
     "text": [
      "['hi', 'hello', 'hat', 'at']\n",
      "{2: ['hi', 'at'], 5: ['hello'], 3: ['hat']}\n"
     ]
    }
   ],
   "source": [
    "#9.Given a list of words, return a dictionary where the key is the word length, and the value is a list of words of that length\n",
    "    # example\n",
    "    # Input: [\"hi\", \"hello\", \"hat\", \"at\"]\n",
    "    # Output: {2: [\"hi\", \"at\"], 5: [\"hello\"], 3: [\"hat\"]}\n",
    "keyLengthDict={}\n",
    "def createDictWithLengthKey(lst):\n",
    "    print(lst)\n",
    "    for word in lst:\n",
    "        keyLengthDict[len(word)]= keyLengthDict.get(len(word),[])+[word]\n",
    "        # if len(word) in keyLengthDict:\n",
    "        #     keyLengthDict[len(word)].append(word)\n",
    "        # else:\n",
    "        #     keyLengthDict[len(word)]=[word]\n",
    "    return keyLengthDict\n",
    "lst=[\"hi\",\"hello\",\"hat\",\"at\"]\n",
    "print(createDictWithLengthKey(lst))"
   ]
  },
  {
   "cell_type": "code",
   "execution_count": 229,
   "id": "ff5be2e8-26da-4a40-9b1a-9d435f447bd5",
   "metadata": {},
   "outputs": [
    {
     "name": "stdout",
     "output_type": "stream",
     "text": [
      "original:  The CA'T and THe HAt and ca't cat can't and# hat.\n",
      "after removing puncutaion marks and converting into same case newString is:  the cat and the hat and cat cat cant and hat\n",
      "in fun:  the cat and the hat and cat cat cant and hat\n",
      "['the', 'cat', 'and', 'the', 'hat', 'and', 'cat', 'cat', 'cant', 'and', 'hat']\n",
      "{'the': 2, 'cat': 3, 'and': 3, 'hat': 2, 'cant': 1}\n"
     ]
    }
   ],
   "source": [
    "# 10. Write a function that counts how many times each word appears in a sentence (ignore punctuation and case).\n",
    "#    example\n",
    "#       Input: \"The cat and the hat.\"\n",
    "#       Output: {'the': 2, 'cat': 1, 'and': 1, 'hat': 1}\n",
    "#for using Counter class from collection module see: fun8 day2-solution.py\n",
    "\n",
    "import string\n",
    "wordCntInSentenceDict={}\n",
    "def wordCount(inputSentence):\n",
    "    print('in fun: ', inputSentence)\n",
    "    lst = inputSentence.split(' ')\n",
    "    print(lst)\n",
    "    for ele in lst:\n",
    "        if ele in wordCntInSentenceDict:\n",
    "            wordCntInSentenceDict[ele]+=1\n",
    "        else:\n",
    "            wordCntInSentenceDict[ele]=1\n",
    "    return wordCntInSentenceDict\n",
    "inputString=\"The CA'T and THe HAt and ca't cat can't and# hat.\"\n",
    "print('original: ', inputString)\n",
    "#To add custom puncutaion in the string.punctuation\n",
    "#all_punt = string.punctuation+\"'#.\"\n",
    "#newString = inputSentence.lower().translate(str.maketrans('','',all_punt)))\n",
    "\n",
    "newString = inputSentence.lower().translate(str.maketrans('','',string.punctuation))\n",
    "print(\"after removing puncutaion marks and converting into same case newString is: \", newString)                                           \n",
    "\n",
    "print(wordCount(newString))\n",
    "#if \"'\" in string.punctuation:\n",
    "#    print('yes')\n",
    "#else:\n",
    "#    print('no')\n"
   ]
  },
  {
   "cell_type": "code",
   "execution_count": null,
   "id": "d754e863-69df-4b81-ad43-7abb5da05e70",
   "metadata": {},
   "outputs": [],
   "source": []
  }
 ],
 "metadata": {
  "kernelspec": {
   "display_name": "Python 3 (ipykernel)",
   "language": "python",
   "name": "python3"
  },
  "language_info": {
   "codemirror_mode": {
    "name": "ipython",
    "version": 3
   },
   "file_extension": ".py",
   "mimetype": "text/x-python",
   "name": "python",
   "nbconvert_exporter": "python",
   "pygments_lexer": "ipython3",
   "version": "3.12.7"
  }
 },
 "nbformat": 4,
 "nbformat_minor": 5
}
