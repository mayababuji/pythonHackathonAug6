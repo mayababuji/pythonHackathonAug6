{
 "cells": [
  {
   "cell_type": "code",
   "execution_count": 256,
   "id": "945d4a42-292a-478d-b2fb-682e79e9d4b0",
   "metadata": {},
   "outputs": [
    {
     "name": "stdout",
     "output_type": "stream",
     "text": [
      "First character is : p and the last character is n\n"
     ]
    }
   ],
   "source": [
    "#Given a string \"python\", print the first and last characters.\n",
    "inputStr = 'python'\n",
    "print(f'First character is : {inputStr[0]} and the last character is {inputStr[len(inputStr)-1]}')"
   ]
  },
  {
   "cell_type": "code",
   "execution_count": 257,
   "id": "9c5584c4-504e-4e88-bcf5-a012d8b96ae4",
   "metadata": {},
   "outputs": [
    {
     "name": "stdout",
     "output_type": "stream",
     "text": [
      "\"a\" character is appeared in the string for 5 times\n"
     ]
    }
   ],
   "source": [
    "#Count how many times the letter 'a' appears in a given string.\n",
    "inputStr = 'This is an apple machine application'\n",
    "print(f'\"a\" character is appeared in the string for {inputStr.count('a')} times')"
   ]
  },
  {
   "cell_type": "code",
   "execution_count": 258,
   "id": "e0a4094b-44fa-4451-9f2b-3b83e091d1ed",
   "metadata": {},
   "outputs": [
    {
     "name": "stdout",
     "output_type": "stream",
     "text": [
      "String: This is not a palindrome string\n",
      "ReverseString: gnirts emordnilap a ton si sihT\n"
     ]
    }
   ],
   "source": [
    "#Reverse a string without using built-in reverse functions.\n",
    "inputStr= 'This is not a palindrome string'\n",
    "# first : is the start of the slice\n",
    "# second : is the end of the slice \n",
    "# -1 is the step value indicates that it is reverse order\n",
    "print(f'String: {inputStr[::1]}')\n",
    "print(f'ReverseString: {inputStr[::-1]}')"
   ]
  },
  {
   "cell_type": "code",
   "execution_count": 259,
   "id": "6261790e-59b5-47b6-878b-6371573d87e4",
   "metadata": {},
   "outputs": [
    {
     "name": "stdout",
     "output_type": "stream",
     "text": [
      "Element at the index 2 is : 3\n"
     ]
    }
   ],
   "source": [
    "#Create a tuple with numbers (1, 2, 3, 4, 5) and print the element at index 2.\n",
    "tup = (1,2,3,4,5)\n",
    "print(f'Element at the index 2 is : {tup[2]}')"
   ]
  },
  {
   "cell_type": "code",
   "execution_count": 1,
   "id": "ae523348-2130-4996-9783-8be4563a56ed",
   "metadata": {},
   "outputs": [
    {
     "name": "stdout",
     "output_type": "stream",
     "text": [
      "Tuple is  (2, 5, -23, 545.656, 'text', False)\n",
      "TypeError occurs while changing the tuple value, Error: 'tuple' object does not support item assignment\n"
     ]
    }
   ],
   "source": [
    "#Try changing a value inside a tuple and observe what error occurs.\n",
    "tup = (2,5,-23,545.656,'text', False)\n",
    "print('Tuple is ',tup)\n",
    "try:\n",
    "    tup[0]=100\n",
    "except TypeError as e:\n",
    "    print(f'TypeError occurs while changing the tuple value, Error: {e}')\n"
   ]
  },
  {
   "cell_type": "code",
   "execution_count": 261,
   "id": "5005dea0-b6f4-41e1-9969-c72a2b6f0e7c",
   "metadata": {},
   "outputs": [
    {
     "name": "stdout",
     "output_type": "stream",
     "text": [
      "Concatenation of two tuples: (1, 2, 3, 4)\n"
     ]
    }
   ],
   "source": [
    "# Concatenate two tuples (1, 2) and (3, 4) and print the result.\n",
    "tup1 = (1,2)\n",
    "tup2 =(3,4)\n",
    "tup3 = tup1+tup2\n",
    "print(f'Concatenation of two tuples: {tup3}')"
   ]
  },
  {
   "cell_type": "code",
   "execution_count": 262,
   "id": "31f083e2-9486-4da0-83c7-d717deb6ce73",
   "metadata": {},
   "outputs": [
    {
     "name": "stdout",
     "output_type": "stream",
     "text": [
      "Original List  [3, 5, 23, 755.55, -22, 65]\n",
      "List after appending new number:  [3, 5, 23, 755.55, -22, 65, 100]\n"
     ]
    }
   ],
   "source": [
    "#Create a list of numbers and append a new number to it.\n",
    "lst=[3,5,23,755.55,-22,65]\n",
    "print('Original List ', lst);\n",
    "lst.append(100)\n",
    "print('List after appending new number: ', lst)"
   ]
  },
  {
   "cell_type": "code",
   "execution_count": 263,
   "id": "9931ab87-20ab-4b83-b433-8cecebc28389",
   "metadata": {},
   "outputs": [
    {
     "name": "stdout",
     "output_type": "stream",
     "text": [
      "Original List:  [3, 82, 5, 33.33, -11.33, 0, 'test', True]\n",
      "List after deleting 2nd element:  [3, 82, 33.33, -11.33, 0, 'test', True]\n"
     ]
    }
   ],
   "source": [
    "#Remove the second element from a list and print the updated list.\n",
    "lst=[3,82,5,33.33,-11.33,0,'test',True]\n",
    "print('Original List: ', lst)\n",
    "#remvoing element by value  lst.remove(lst[2])\n",
    "lst.pop(2)\n",
    "print('List after deleting 2nd element: ',lst)"
   ]
  },
  {
   "cell_type": "code",
   "execution_count": 264,
   "id": "ef80d69f-c45c-4bb1-b13b-333c94ddee0d",
   "metadata": {},
   "outputs": [
    {
     "name": "stdout",
     "output_type": "stream",
     "text": [
      "Original List:  [544, 55.99, 0, -22.33, -2, True, 'Value']\n",
      "To sort the list list shouldn't contain multiple data types:  '<' not supported between instances of 'str' and 'bool'\n",
      "\n",
      "Original List:  ['abcs', 'AWSW', 'CANADA', 'United Kingdom', 'USA', 'Canada']\n",
      "Sorted List: ['AWSW', 'CANADA', 'Canada', 'USA', 'United Kingdom', 'abcs']\n",
      "\n",
      "Original List:  [544, 55.99, 55, -22.33, -2, 55]\n",
      "Sorted List: [-22.33, -2, 55, 55, 55.99, 544]\n",
      "\n",
      "Original List:  [True, False]\n",
      "Sorted List: [False, True]\n",
      "\n"
     ]
    }
   ],
   "source": [
    "#Sort a list of unsorted numbers.\n",
    "lst=[544,55.99,0,-22.33,-2,True,'Value']\n",
    "lst1 = ['abcs','AWSW','CANADA','United Kingdom','USA','Canada']\n",
    "lst2 =[544,55.99,55,-22.33,-2,55]\n",
    "lst3 =[True,False]\n",
    "all_lists=[lst,lst1, lst2, lst3]\n",
    "for l in all_lists:\n",
    "    print('Original List: ',l)\n",
    "    try:\n",
    "        l.sort()\n",
    "        print(f'Sorted List: {l}\\n')\n",
    "    except TypeError as e:\n",
    "        print(f\"To sort the list list shouldn't contain multiple data types:  {e}\\n\")\n"
   ]
  },
  {
   "cell_type": "code",
   "execution_count": 265,
   "id": "08f4d76e-d2a0-4d28-9010-9aa4a53e317a",
   "metadata": {},
   "outputs": [
    {
     "name": "stdout",
     "output_type": "stream",
     "text": [
      "1st Set: {65, 2, 3, True, 5, 'Text'}\n",
      "2nd Set: {True, 3, 6, 7, 'Set'}\n",
      "Union of two sets: {65, 2, 3, True, 5, 6, 7, 'Set', 'Text'}\n",
      "Intersection of two sets: {True, 3}\n"
     ]
    }
   ],
   "source": [
    "#Create two sets and print their union and intersection.\n",
    "set1 = {3,2,5,65,'Text',True}\n",
    "set2 = {6,7,3,7,True,'Set'}\n",
    "print(f'1st Set: {set1}')\n",
    "print(f'2nd Set: {set2}')\n",
    "print(f'Union of two sets: {set1 | set2}') # or set1.union(set2)\n",
    "print(f'Intersection of two sets: {set1.intersection(set2)}') #or set1 & set2"
   ]
  },
  {
   "cell_type": "code",
   "execution_count": 278,
   "id": "992c51e2-cde7-43dc-9b9d-0ce3cac65cf9",
   "metadata": {},
   "outputs": [
    {
     "name": "stdout",
     "output_type": "stream",
     "text": [
      "List with duplicates: [34, 213, 66, 34, True, True, 'Test', 'Test', 'Test', (1+2j)]\n",
      "Converted into set to remove duplicates: {True, 34, 66, (1+2j), 213, 'Test'}\n"
     ]
    }
   ],
   "source": [
    "#Given a list with duplicates, convert it to a set to remove duplicates.\n",
    "lst=[34,213,66,34,True,True,'Test','Test','Test',1+2j]\n",
    "print(f'List with duplicates: {lst}')\n",
    "set1 = set(lst)\n",
    "print(f'Converted into set to remove duplicates: {set1}')"
   ]
  },
  {
   "cell_type": "code",
   "execution_count": 16,
   "id": "18ee63e3-b028-404b-a1d7-3ca48148729a",
   "metadata": {},
   "outputs": [
    {
     "name": "stdout",
     "output_type": "stream",
     "text": [
      "{False, True, 34, (1+2j), 44.0, 45, 23, -232, 'Test'}\n",
      "Enter 00 to quit\n"
     ]
    },
    {
     "name": "stdin",
     "output_type": "stream",
     "text": [
      "Enter the value to be present in the set:  True\n"
     ]
    },
    {
     "name": "stdout",
     "output_type": "stream",
     "text": [
      "True is present in the set\n",
      "=========================================\n",
      "Enter 00 to quit\n"
     ]
    },
    {
     "name": "stdin",
     "output_type": "stream",
     "text": [
      "Enter the value to be present in the set:  False\n"
     ]
    },
    {
     "name": "stdout",
     "output_type": "stream",
     "text": [
      "False is present in the set\n",
      "=========================================\n",
      "Enter 00 to quit\n"
     ]
    },
    {
     "name": "stdin",
     "output_type": "stream",
     "text": [
      "Enter the value to be present in the set:  false\n"
     ]
    },
    {
     "name": "stdout",
     "output_type": "stream",
     "text": [
      "false is not present in the set\n",
      "=========================================\n",
      "Enter 00 to quit\n"
     ]
    },
    {
     "name": "stdin",
     "output_type": "stream",
     "text": [
      "Enter the value to be present in the set:  00\n"
     ]
    },
    {
     "name": "stdout",
     "output_type": "stream",
     "text": [
      "Exiting\n"
     ]
    }
   ],
   "source": [
    "#Check if an element exists in a set.\n",
    "from distutils.util import strtobool\n",
    "set1 = {34,23,45,-232,44.00,True,False,'Test', 1+2j}\n",
    "def isInteger(isExists):\n",
    "    try:\n",
    "        int(isExists)\n",
    "        return True\n",
    "    except:\n",
    "        return False\n",
    "def checkTypeOfInput(isExists):\n",
    "    try:\n",
    "        if 'j' in isExists:\n",
    "            return complex(isExists)\n",
    "        elif '.' in isExists:\n",
    "            return float(isExists)   \n",
    "        #elif isExists =='True' or isExists=='False':\n",
    "        elif isExists in ('True', 'False'):\n",
    "            return bool(strtobool(isExists))\n",
    "        else:\n",
    "            if isInteger(isExists):\n",
    "                return int(isExists)\n",
    "            else:\n",
    "                return isExists\n",
    "    except TypeError as ty:\n",
    "        print(ty)\n",
    "print(set1)\n",
    "while(True):\n",
    "    print('Enter 00 to quit')\n",
    "    isExists = input('Enter the value to be present in the set: ')\n",
    "    if isExists=='00':\n",
    "        print('Exiting')\n",
    "        break;    \n",
    "    isExists = checkTypeOfInput(isExists)\n",
    "    if isExists in set1:\n",
    "        print(f'{isExists} is present in the set')\n",
    "    else:\n",
    "        print(f'{isExists} is not present in the set')\n",
    "    print(\"=========================================\")\n"
   ]
  },
  {
   "cell_type": "code",
   "execution_count": 269,
   "id": "11ab9d0a-ff1d-4bf1-a18a-ce8fde7b6be7",
   "metadata": {},
   "outputs": [
    {
     "name": "stdout",
     "output_type": "stream",
     "text": [
      "Elements from index 1 to 3 [45, 12, 45]\n"
     ]
    }
   ],
   "source": [
    "#Given a list `[10],read the elements from index 1 to 3.\n",
    "lst=[23,45,12,45,'Toronto',33.33,True,1+1j,'aAA22',10]\n",
    "print('Elements from index 1 to 3', lst[1:4])\n"
   ]
  },
  {
   "cell_type": "code",
   "execution_count": 270,
   "id": "79287a82-1a2a-4126-a961-72c70e6a2404",
   "metadata": {},
   "outputs": [
    {
     "name": "stdout",
     "output_type": "stream",
     "text": [
      "Sam\n"
     ]
    }
   ],
   "source": [
    "#Slice a string to get its first three characters.\n",
    "strInput = 'Sample input'\n",
    "print(strInput[0:3])"
   ]
  },
  {
   "cell_type": "code",
   "execution_count": 271,
   "id": "eb9f791a-b06b-488f-856d-67c86e6c550b",
   "metadata": {},
   "outputs": [
    {
     "name": "stdout",
     "output_type": "stream",
     "text": [
      "Every second element from a list:  [23, 12, 'Toronto', True, 'aAA22']\n"
     ]
    }
   ],
   "source": [
    "#Use slicing to get every second element from a list.\n",
    "lst=[23,45,12,45,'Toronto',33.33,True,1+1j,'aAA22',10]\n",
    "print('Every second element from a list: ', lst[::2])"
   ]
  },
  {
   "cell_type": "code",
   "execution_count": 272,
   "id": "b76aabc7-771c-466c-8d79-2fb17f81afbe",
   "metadata": {},
   "outputs": [
    {
     "name": "stdout",
     "output_type": "stream",
     "text": [
      "Revised List:  [23, 45, 12, 45, 'Toronto', 33.33, True, (1+1j), 'aAA22', 10, 400]\n"
     ]
    }
   ],
   "source": [
    "#Use append() to add an element to a list.\n",
    "lst=[23,45,12,45,'Toronto',33.33,True,1+1j,'aAA22',10]\n",
    "lst.append(400)\n",
    "print('Revised List: ', lst)"
   ]
  },
  {
   "cell_type": "code",
   "execution_count": 273,
   "id": "5060ac59-4d4d-4934-a241-59a72c4b91d5",
   "metadata": {},
   "outputs": [
    {
     "name": "stdout",
     "output_type": "stream",
     "text": [
      "New List:  [23, 45, 12, 45, 'Toronto', 33.33, True, (1+1j), 'aAA22']\n"
     ]
    }
   ],
   "source": [
    "#Use pop() to remove the last element from a list and print it.\n",
    "#USe index with pop to remove\n",
    "lst=[23,45,12,45,'Toronto',33.33,True,1+1j,'aAA22',10]\n",
    "lst.pop(len(lst)-1)\n",
    "print('New List: ',lst)"
   ]
  },
  {
   "cell_type": "code",
   "execution_count": 274,
   "id": "00dc80b6-8bac-4b5c-bcb8-338f8fd2ce80",
   "metadata": {},
   "outputs": [
    {
     "name": "stdout",
     "output_type": "stream",
     "text": [
      "Extended list:  [23, 45, 12, 45, 'Toronto', 33.33, True, (1+1j), 'aAA22', 10, 'AAA', 55, 88]\n"
     ]
    }
   ],
   "source": [
    "#Use extend() to add multiple elements from another list.\n",
    "lst=[23,45,12,45,'Toronto',33.33,True,1+1j,'aAA22',10]\n",
    "lst2=['AAA',55,88]\n",
    "lst.extend(lst2)\n",
    "print('Extended list: ', lst)"
   ]
  },
  {
   "cell_type": "code",
   "execution_count": 275,
   "id": "b124e40f-541a-49b0-95a9-9b8e7c24da51",
   "metadata": {},
   "outputs": [
    {
     "name": "stdin",
     "output_type": "stream",
     "text": [
      "Enter dividend:  75\n",
      "Enter divisor:  4\n"
     ]
    },
    {
     "name": "stdout",
     "output_type": "stream",
     "text": [
      "75 % 4 = 3\n"
     ]
    }
   ],
   "source": [
    "#Write a program to calculate the remainder when dividing two numbers.\n",
    "dividend = input('Enter dividend: ')\n",
    "divisor = input('Enter divisor: ')\n",
    "remainder = int(dividend) % int(divisor)\n",
    "print(f'{dividend} % {divisor} = {remainder}')"
   ]
  },
  {
   "cell_type": "code",
   "execution_count": 276,
   "id": "b40e9882-7e1b-4f02-9e21-a3989a9a63ad",
   "metadata": {},
   "outputs": [
    {
     "name": "stdin",
     "output_type": "stream",
     "text": [
      "Enter number 47\n"
     ]
    },
    {
     "name": "stdout",
     "output_type": "stream",
     "text": [
      "47 : is not in between 10 and 20\n"
     ]
    }
   ],
   "source": [
    "#Use logical operators to check if a number is between 10 and 20.\n",
    "number = int(input('Enter number'))\n",
    "if number>10 and number <20:\n",
    "    print(f'{number} : is in between 10 and 20')\n",
    "else:\n",
    "    print(f'{number} : is not in between 10 and 20')\n"
   ]
  },
  {
   "cell_type": "code",
   "execution_count": 277,
   "id": "8916a0ed-64d1-4c8d-9783-5f32d63c84c6",
   "metadata": {},
   "outputs": [
    {
     "name": "stdin",
     "output_type": "stream",
     "text": [
      "Enter number 12\n"
     ]
    },
    {
     "name": "stdout",
     "output_type": "stream",
     "text": [
      "12 to the Power of 3 is 1728\n"
     ]
    }
   ],
   "source": [
    "#Write a program to raise a number to the power of 3.\n",
    "number = int(input('Enter number'))\n",
    "print(f'{number} to the Power of 3 is {number**3}')"
   ]
  },
  {
   "cell_type": "code",
   "execution_count": null,
   "id": "0636dabe-06d6-4061-8747-96eba103fe88",
   "metadata": {},
   "outputs": [],
   "source": []
  }
 ],
 "metadata": {
  "kernelspec": {
   "display_name": "Python 3 (ipykernel)",
   "language": "python",
   "name": "python3"
  },
  "language_info": {
   "codemirror_mode": {
    "name": "ipython",
    "version": 3
   },
   "file_extension": ".py",
   "mimetype": "text/x-python",
   "name": "python",
   "nbconvert_exporter": "python",
   "pygments_lexer": "ipython3",
   "version": "3.12.7"
  }
 },
 "nbformat": 4,
 "nbformat_minor": 5
}
