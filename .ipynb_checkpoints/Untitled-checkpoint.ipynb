{
 "cells": [
  {
   "cell_type": "code",
   "execution_count": null,
   "id": "e84614e3-86e3-4ee3-be1f-e49a47cb7734",
   "metadata": {},
   "outputs": [],
   "source": [
    "Data Structure: Dictionary \n",
    "    # define a dictionary\n",
    "    # define the key value pairs\n",
    "    # access key of the dictionary\n",
    "    # update value of the key\n",
    "    # get the keys of the dictionary\n",
    "    # get the values of the dictionary\n",
    "    # update dictionary with a dictionary\n",
    "    # add new key to the dictionary:\n",
    "    # list is mutable, hence not allowed\n",
    "    # set is mutable, hence not allowed\n",
    "    # tuple is immutable, hence it is allowed\n",
    "    # Iterate through key-value pairs of the dictionary\n",
    "    # Sort the dicitionary by key\n",
    "    **Write a function Calculate the total cost of items in Shopping cart**\n",
    "    Write a function that check string password\n",
    "    Write a function to check if a string is Palindrome hint: convert level and the check"
   ]
  },
  {
   "cell_type": "code",
   "execution_count": 28,
   "id": "5213817d-97ba-478e-916a-3cae80fdd635",
   "metadata": {},
   "outputs": [
    {
     "name": "stdout",
     "output_type": "stream",
     "text": [
      "{}\n"
     ]
    }
   ],
   "source": [
    " # define an empty dictionary\n",
    "dict1 ={}\n",
    "print (dict1)"
   ]
  },
  {
   "cell_type": "code",
   "execution_count": 29,
   "id": "9f194003-d62f-4133-836f-7162580a7643",
   "metadata": {},
   "outputs": [
    {
     "ename": "AttributeError",
     "evalue": "'set' object has no attribute 'fromKeys'",
     "output_type": "error",
     "traceback": [
      "\u001b[0;31m---------------------------------------------------------------------------\u001b[0m",
      "\u001b[0;31mAttributeError\u001b[0m                            Traceback (most recent call last)",
      "Cell \u001b[0;32mIn[29], line 3\u001b[0m\n\u001b[1;32m      1\u001b[0m \u001b[38;5;66;03m# define a dictionary onlywith keys\u001b[39;00m\n\u001b[1;32m      2\u001b[0m keys\u001b[38;5;241m=\u001b[39m[\u001b[38;5;124m'\u001b[39m\u001b[38;5;124mname\u001b[39m\u001b[38;5;124m'\u001b[39m,\u001b[38;5;124m'\u001b[39m\u001b[38;5;124mage\u001b[39m\u001b[38;5;124m'\u001b[39m]\n\u001b[0;32m----> 3\u001b[0m dictWithKeys \u001b[38;5;241m=\u001b[39m \u001b[38;5;28mdict\u001b[39m\u001b[38;5;241m.\u001b[39mfromKeys(keys)\n\u001b[1;32m      4\u001b[0m \u001b[38;5;28mprint\u001b[39m (dictWithKeys)\n",
      "\u001b[0;31mAttributeError\u001b[0m: 'set' object has no attribute 'fromKeys'"
     ]
    }
   ],
   "source": [
    " # define a dictionary onlywith keys\n",
    "keys=['name','age']\n",
    "dictWithKeys = dict.fromKeys(keys)\n",
    "print (dictWithKeys)"
   ]
  },
  {
   "cell_type": "code",
   "execution_count": 27,
   "id": "867b8892-9ebe-4e90-8fe3-ade2061448f4",
   "metadata": {},
   "outputs": [
    {
     "ename": "TypeError",
     "evalue": "'set' object is not subscriptable",
     "output_type": "error",
     "traceback": [
      "\u001b[0;31m---------------------------------------------------------------------------\u001b[0m",
      "\u001b[0;31mTypeError\u001b[0m                                 Traceback (most recent call last)",
      "Cell \u001b[0;32mIn[27], line 1\u001b[0m\n\u001b[0;32m----> 1\u001b[0m \u001b[38;5;28mprint\u001b[39m(dict1[\u001b[38;5;124m'\u001b[39m\u001b[38;5;124mname\u001b[39m\u001b[38;5;124m'\u001b[39m])\n",
      "\u001b[0;31mTypeError\u001b[0m: 'set' object is not subscriptable"
     ]
    }
   ],
   "source": [
    "print(dict1['name'])"
   ]
  },
  {
   "cell_type": "code",
   "execution_count": null,
   "id": "38aac287-54a1-462c-9f5d-c66ad738d085",
   "metadata": {},
   "outputs": [],
   "source": []
  }
 ],
 "metadata": {
  "kernelspec": {
   "display_name": "Python 3 (ipykernel)",
   "language": "python",
   "name": "python3"
  },
  "language_info": {
   "codemirror_mode": {
    "name": "ipython",
    "version": 3
   },
   "file_extension": ".py",
   "mimetype": "text/x-python",
   "name": "python",
   "nbconvert_exporter": "python",
   "pygments_lexer": "ipython3",
   "version": "3.12.7"
  }
 },
 "nbformat": 4,
 "nbformat_minor": 5
}
