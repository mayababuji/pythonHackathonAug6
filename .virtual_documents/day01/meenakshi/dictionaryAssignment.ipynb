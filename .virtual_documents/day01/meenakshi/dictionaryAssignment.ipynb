Data Structure: Dictionary 
    # define a dictionary
    # define the key value pairs
    # access key of the dictionary
    # update value of the key
    # get the keys of the dictionary
    # get the values of the dictionary
    # update dictionary with a dictionary
    # add new key to the dictionary:
    # list is mutable, hence not allowed
    # set is mutable, hence not allowed
    # tuple is immutable, hence it is allowed
    # Iterate through key-value pairs of the dictionary
    # Sort the dicitionary by key
    **Write a function Calculate the total cost of items in Shopping cart**
    Write a function that check string password
    Write a function to check if a string is Palindrome hint: convert level and the check


 # define an empty dictionary and print it
dict1 ={}
print ("Empty dictionary:",dict1)


 # define a dictionary onlywith keys using list and set
listKeys=['name','age']
dictWithKeys = dict.fromkeys(listKeys)
print (dictWithKeys)


 # define a dictionary onlywith keys using set and default palceholder values
setKeys={"Company","Type"}
companyDict = dict.fromkeys(keys,"")

print(companyDict)


#Add values using list in the dictionary using dicitionary comprehension
companyDict ={'Company': '', 'Type': ''}
dataList=[['Google','tech'],['Amazon','tech']]
#Dicitionary comprehension
companyDict={'Company':[d[0] for d in dataList],
            'Type':[d[1] for d in dataList]}
print (companyDict)
for comp , ty in dataList:
    companyDict['Company'].append(comp)
    companyDict['Type'].append(ty)
print(companyDict)



#Add keys in empty dictionary
print(dict1)
dict1["name"]=""
print(dict1)


# define the key value pairs
employeeDict={
    "name":"ABC",
    "age":34,
    "IsIntern":False
}
print(employeeDict)


#access the key of the dicitionary
empdict={
    "name":'ABC',
    "Age":23,
    "Education":["Grad","MS"]
}
print(empdict)
print("Access Name key: ", empdict["name"])


#access the value of the dicitionary
print(empdict)
print(empdict.get("City","Key is not Present"))
print(empdict.get("Age","Age is present"))


# update value of the key
print(empdict)
empdict["Age"]=30
empdict["Education"].append("Diploma")
print(empdict)


# get the keys of the dictionary
print(empdict.keys())


# get the values of the dictionary
print(empdict)
print(empdict.values())



# get the keys and values of the dictionary
print(empdict.items())


# update dictionary with a dictionary
empdict1 = {
    "name":"BCD",
    "Age":20,
    "Education":["Grad"]
}
print(empdict)
print(empdict1)
empdict.update(empdict1)
print(empdict)


# add new key to the dictionary:
print(empdict)
empdict["Status"]=""
print(empdict)


# add duplicate key to the dictionary:
empdict2={
    "Name":"ABC",
    "Age":23,
    "Name":"BCD"
}
print(empdict2)


#A dictionary key must be of a type that is immutable. ***
# list,set are mutable, so list and set as key not allowed but values can be a list or set
#Tuple is immutable , so tuples can be key in the dictionary
try:
    sample = {
        1 : 'integer',
        [1, 2] : 'list'
    }
    print (sample)
except TypeError as e:
    print (e)
#use tuple as a key in dicitonary
#Use cases:
    #storing data for points on a 2D grid
    #key is naturally made of multiple attributes.
try:
    keyTupleDict={
        True:'married',
        (0,0):'origin',
        (0,1):'Point A',
        (10,"Maths"):90,
        (10,"Science"):70
    }
    print('Dictionary having set as a key:')
    print(sample)
except TypeError as e:
    print(e)
try:
    sample ={
        1.0:'float',
        True:'bool',
        {1,2}:'set'
    }
    print(sample)
except TypeError as e:
    print (e)



# Iterate through key-value pairs of the dictionary
print(empdict1)
for key, value in empdict1.items():
    print(key," : ",value)
print(keyTupleDict)
for key,value in keyTupleDict.items():
    print(key, " : ",value)



#Reverse the dicitionary if values are unique
print(keyTupleDict)
newDict={}
newDict1={}
for key,value in keyTupleDict.items():
    newDict[value]=key
print(newDict)
try:
    for key,value in empdict1.items():
        newDict1[value]=key
    print(newDict1)
except TypeError as e:
    print("Can\'t reverse the dictionary as it contains list as a value and key of the dicitionary can\'t be a list")
    print(e)


#Compare 2 dictionaries by creating a new dictionary from existing one
#IT changes the values for both the dicitionaries as dicitionary is mutable data structure
print(empdict1)
empdict2=empdict1
print(empdict2)
print(empdict1==empdict2)
empdict2['name']='New'
#empdict2={'name':'Old'}
print(empdict2)
print(empdict1)
print(empdict2==empdict1)


#Compare 2 dictionaries by creating a new dictionary from existing one using copy and dict constructor
print(empdict1)
empdict2=dict(empdict1)
print(empdict2)
print(empdict1==empdict2)
empdict2['name']='ABCD'
print(empdict2)
print(empdict1==empdict2)


#Compare 2 dictionaries by changing their order.
import copy as copy
print(empdict1)
empdict2=copy.deepcopy(empdict1)
print(empdict2)
print(empdict1==empdict2)
empdict2={'Age':20, 'name': 'New', 'Age': 20, 'Education': ['Grad']}
print(empdict2)
print(empdict1==empdict2)


#***Sort the dictionary by key***
personDict={
    'abc':20,
    'Meenakshi':50,
    'Yamika':10,
    'Diksha':20,
    'SANU':100
}
print(personDict)
print(sorted(personDict.keys()))
print(sorted(personDict.keys(), key=str.upper))
print(sorted(personDict.values()))
print(sorted(personDict.items()))
print(sorted(personDict.values() and personDict.keys())) #not workign as expected
print(sorted(empdict1.keys()))
print(personDict)


#Write a function Calculate the total cost of items in Shopping cart
cart=[
        {'name':'Apple','price':0.5,'quantity':4},
        {'name':'Orange','price':0.4,'quantity':6},
        {'name':'Banana','price':0.5,'quantity':8}
    ]
for rec in cart:
    print(f"Total cost of the {rec['name']}: is {round(rec['price']*rec['quantity'],2)}") 



#Write a Function that check strong password
#Check length >8, check does password as digit, 
#Check does it has lower case Alphabet, 
#Check does it has upper case Alphabet, 
#Check does it has special character(!@#$%^&*())
password='@@@@A!a1234'
msg=''
spec_char = ['!','@','#','$','%','^','&','*','(',')']
try:
    if len(password) < 8:
        raise ValueError('Password should contain at least 8 characters in')
    elif not(any(charact.islower() for charact in password)):
        raise TypeError('At least one lower character should be present in the password')
    elif not(any(charact.isupper() for charact in password)):
        raise TypeError('At least one upper character should be present in the password')
    elif not(any(charact in spec_char for charact in password)):
        raise TypeError('At least one special character should be present in the password')
    else:
        print('Password entered is a Strong password') 
except ValueError as ve:
    print(ve)
except TypeError as e:
    print(e)
    


#Write a function to check if a string is Palindrome [hint: Level=> convert level then check palindrome]
string='This is not a palidrome'
#string='abcdcba'
print(string)
reverseString = string[::-1]
print('Is input string is palindrome: ',reverseString==string)



