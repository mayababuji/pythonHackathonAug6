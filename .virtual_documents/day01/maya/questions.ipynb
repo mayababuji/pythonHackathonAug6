





# Variables

# Create two variables a and b with values 10 and 20, then print their sum.
a = 10 ;
b = 20;
print(a+b);
# Assign the string "Hello" to a variable and print it 3 times.
c = 'Hello ';
print(3*c);

# Swap the values of two variables without using a third variable.
d = 2;
e = 3;
e,d = d,e;
print("The value of e is "+str(e) +" and the value of d is " + str(d))


# Data Types

# Given a variable x = 5, convert it to a string and concatenate it with " apples".
x = 5
print(str(x)+" apples")
      

# Check if a variable num = 7.5 is a float or an integer.

num = 7.5 
print(type(num))
# Create a list and a tuple both containing the same numbers and print their types.
lista = [1,2,3,4]
print(type(lista))
tuplea = (1,2,3,4)
print(type(tuplea))



# If-Else

# Write a program that takes a number and prints whether it is positive, negative, or zero.

def positive_negative(num):
    if num==0:
        print("the number is zero")
    elif num<0:
        print("then number is negative")
    elif num>0:
        print("the number is positive")
        
positive_negative(-1)
# Given a variable age, print "Eligible" if age is 18 or more; otherwise print "Not eligible."

def age_check(age):
    if age>=18:
        print("Eligible")
    else:
        print("Not eligible")
    

age_check(12)
age_check(18)
# Check if a number is divisible by both 3 and 5 and print an appropriate message.
def check_divisible(num):
    if (num % 5 == 0) and (num % 3 == 0):
        print(f"Yes the number {num}  is divisible by both 5 and 3")
    else:
         print(f"No the number {num} is not divisible by both 5 and 3")
        

check_divisible(25)
check_divisible(15)


# Tuples

# Create a tuple with numbers (1, 2, 3, 4, 5) and print the element at index 2.
tuple_a = (1, 2, 3, 4, 5)
print(tuple_a[2])

# Try changing a value inside a tuple and observe what error occurs.
#tuple_a[0]=2

# Concatenate two tuples (1, 2) and (3, 4) and print the result.
tuple_b =  (1, 2)
tuple_c =  (3, 4) 
tuple_d = tuple_b+tuple_c
print(tuple_d)


# Lists

# Create a list of numbers and append a new number to it.
list_a = [9,2,3,4]
list_a.append(5)
print(list_a)

# Remove the second element from a list and print the updated list.
list_a.remove(2)
print(list_a)

# Sort a list of unsorted numbers.
list_a.sort() 
print(list_a)


# **Sets**
# * Create two sets and print their union and intersection.
set1 = {1,2,5,7,9}
set2 = {9,3,2,1}
print(set1|set2)
print(set1&set2)

# * Given a list with duplicates, convert it to a set to remove duplicates.
list_dup = [1,2,2,3,4,4]
set(list_dup)

# * Check if an element exists in a set.
9 in set1


# **Slicing**
# * Given a list `[10,rint the elements from index 1 to 3.

# * Slice a string to get its first three characters.

# * Use slicing to get every second element from a list.


# List Methods

# Use append() to add an element to a list.
list_x = [1,9,8,3]
list_x.append(7)
print(list_x)
# Use pop() to remove the last element from a list and print it.
list_x.pop()
print(list_x)
# Use extend() to add multiple elements from another list.
list_y = [0,3]
list_x.extend(list_y)
print(list_x)


# **Operators**
# * Write a program to calculate the remainder when dividing two numbers.
def calculate_reminder(num1,num2):
    reminder = num1%num2
    return reminder
print(calculate_reminder(9,2))
# * Use logical operators to check if a number is between 10 and 20.
def check_number(number):
    if 10<number<20:
        print("yes  the number is between 10 nd 20")
    else:
        print("no")
check_number(11)        
# * Write a program to raise a number to the power of 3.

def power(number):
    return number **3

print(power(4))




