





# define a dictionary
'''
{
    'key_1' : 'value_1',
    'key_2' : 'value_2',
    .
    .
    .
    .
    'key_n' : 'value_n'
}
'''
# define the key value pairs
my_dictionary = {
    'name'       : 'XXXX',
    'age'        :  21,
    'roll_no'    : 'CSE100',
    'percentage' :  85,
    'attendance' :  74,
    'city'       : 'hyderabad',
    'country'    : 'india'
}



# access key of the dictionary
print('Name is : ',my_dictionary['name'])



dict_1= dict()


dict_2={}


print('Age before updation is : ',my_dictionary['age'])

# update value of the key
my_dictionary['age'] = 25

print('Age after updation is : ',my_dictionary['age'])


# get the keys of the dictionary

my_dictionary.keys()


# get the values of the dictionary

my_dictionary.values()



items=my_dictionary.items()
items


# update dictionary with a dictionary

my_dictionary.update({ 'pincode' : 122015, 'last_name' : 'xyz'})


my_dictionary['last_name']


my_dictionary


print(my_dictionary.get('Middle Name','Not Found'))





# add new key to the dictionary:
my_dictionary['new_key'] = 'new_value'

print(my_dictionary)








sample = {
    'string' : 'string',
    10       : 'integer',
    1.5      : 'float',
    False    : 'boolean'
}





sample = {
    'A' : 1,
    'B' : 2,
    'C' : 3
}


sample['A']


sample = {
    'A' : 1,
    'B' : 2,
    'C' : 3,
    'A' : 100
}


sample['A']








# list is mutable, hence not allowed
sample = {
    1 : 'integer',
    [1, 2] : 'list'
}


# set is mutable, hence not allowed

sample = {
    1 : 'integer',
    { 1, 2 } : 'set'

}


# tuple is immutable, hence it is allowed
sample = {
    1 : 'integer',
    (1, 2) : 'tuple'
}





my_dict_1 = {
    'key_1' : 'value_1',
    'key_2' : 'value_2',
    'key_3' : 3
}

my_dict_2 = {
    'key_3' : 3,
    'key_1' : 'value_1',
    'key_2' : 'value_2'
}

(my_dict_1 == my_dict_2)





# Iterate through key-value pairs of the dictionary

for key,value in my_dictionary.items() :
    print(key,value)





m_dict = {
    'Kalyan' : 113,
    'Satya'    : 37,
    'Keyuri'    : 114,
    'Visalaxi'   : 120,
    'Sujatha'  : 87
}


sorted(m_dict.items())








def cost(cart):
    sum= 0
    for items in cart:

        sum +=items['price']*items['quantity']
    print(f"the total cost of the items is ${sum}")
   
cart=[{'name':'Apple','price':0.5,'quantity':4},{'name':'Orange','price':0.4,'quantity':6},{'name':'Banana','price':0.5,'quantity':8}]
cost(cart)


























#Write a Function that check strong password
import re
def check_passowrd(password):
    if len(password)<8:
        return False
    if not re.search(r"[A-Z]",password):
        return False
    if not re.search(r"[a-z]",password):
        return False
    if not re.search(r"[0-9]",password):
        return False
    if not re.search(r"[!@#$%^&*()_{}[]|\<>?/]",password):
        return False
    return True
passwords = ['@Jypter123','jyputer','123#']
for password in passwords:
    if check_passowrd(password):
        print(f"{password} is strong")
    else:
        print(f"{password} is not strong")
        



#Write a function to check if a string is Palindrome 
def check_palindrome(word):
    reverserd = ''
    for i in word:
        reverserd =i +reverserd
    if reverserd == word:
        print(reverserd)
        print(f"The word {word} is a palindrome")
    else:
        print(f"The word {word} is not a palindrome")
word = 'malayalam'
check_palindrome(word)







