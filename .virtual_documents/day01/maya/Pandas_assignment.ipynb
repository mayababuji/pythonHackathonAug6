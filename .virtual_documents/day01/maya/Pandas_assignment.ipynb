


import pandas as pd





#read excel
daibetic_df = pd.read_excel('/Users/maya/Downloads/archive/glucose_lowering_therapies.xlsx')
print(type(daibetic_df))


#read csv
glucose_df = pd.read_csv('/Users/maya/Downloads/archive/gestational_diabetes_data.csv')
print(type(glucose_df))





#read excel
daibetic_df = pd.read_excel('/Users/maya/Downloads/archive/glucose_lowering_therapies.xlsx')
daibetic_df


#read csv
glucose_df = pd.read_csv('/Users/maya/Downloads/archive/gestational_diabetes_data.csv')
glucose_df





#print top 3 row of the dataframe
glucose_df.head(3)








#print last 3 rows
glucose_df.tail(3)


#meta data of the dataframe
daibetic_df.info()


#print the rows by columns
daibetic_df.shape








daibetic_df[daibetic_df.duplicated()]


glucose_df.shape


daibetic_df.shape


glucose_df[glucose_df.duplicated()]


glucose_df.drop_duplicates(inplace=True)


glucose_df.shape
daibetic_df.drop_duplicates(inplace=True)








daibetic_df[daibetic_df['PatientID'].duplicated()]





glucose_df[glucose_df['PatientID'].duplicated()]


glucose_df = glucose_df.drop_duplicates(subset='PatientID',keep='first')


daibetic_df = daibetic_df.drop_duplicates(subset='PatientID',keep='first')

















daibetic_df.isna().sum()


glucose_df.isna().sum()


glucose_df.info()


glucose_df.loc[glucose_df['Glucose'].isna()]


glucose_df['Glucose'].mean()


glucose_df['Glucose'] = glucose_df['Glucose'].fillna(glucose_df['Glucose'].mean())



