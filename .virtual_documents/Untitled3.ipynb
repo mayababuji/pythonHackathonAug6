keys=["name","age",'gender']
dict1 = dict.fromkeys(keys)
print(dict1)


 # define a dictionary onlywith keys
keys=['name','age']
dictWithKeys = dict.fromKeys(keys)
print (dictWithKeys)




