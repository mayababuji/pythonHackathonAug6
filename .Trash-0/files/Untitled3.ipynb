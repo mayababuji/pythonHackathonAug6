{
 "cells": [
  {
   "cell_type": "code",
   "execution_count": 4,
   "id": "70f7bd61-5831-485a-9166-d313280effc0",
   "metadata": {},
   "outputs": [
    {
     "name": "stdout",
     "output_type": "stream",
     "text": [
      "{'name': None, 'age': None, 'gender': None}\n"
     ]
    }
   ],
   "source": [
    "keys=[\"name\",\"age\",'gender']\n",
    "dict1 = dict.fromkeys(keys)\n",
    "print(dict1)"
   ]
  },
  {
   "cell_type": "code",
   "execution_count": 8,
   "id": "260a4a18-fe37-4799-a516-9dfdc56cf261",
   "metadata": {},
   "outputs": [
    {
     "ename": "NameError",
     "evalue": "name 'dictWithKeys' is not defined",
     "output_type": "error",
     "traceback": [
      "\u001b[0;31m---------------------------------------------------------------------------\u001b[0m",
      "\u001b[0;31mNameError\u001b[0m                                 Traceback (most recent call last)",
      "Cell \u001b[0;32mIn[8], line 4\u001b[0m\n\u001b[1;32m      2\u001b[0m keys\u001b[38;5;241m=\u001b[39m[\u001b[38;5;124m'\u001b[39m\u001b[38;5;124mname\u001b[39m\u001b[38;5;124m'\u001b[39m,\u001b[38;5;124m'\u001b[39m\u001b[38;5;124mage\u001b[39m\u001b[38;5;124m'\u001b[39m]\n\u001b[1;32m      3\u001b[0m dict1 \u001b[38;5;241m=\u001b[39m \u001b[38;5;28mdict\u001b[39m\u001b[38;5;241m.\u001b[39mfromkeys(keys)\n\u001b[0;32m----> 4\u001b[0m \u001b[38;5;28mprint\u001b[39m (dictWithKeys)\n",
      "\u001b[0;31mNameError\u001b[0m: name 'dictWithKeys' is not defined"
     ]
    }
   ],
   "source": [
    " # define a dictionary onlywith keys\n",
    "keys=['name','age']\n",
    "dict1 = dict.fromkeys(keys)\n",
    "print (dictWithKeys)\n"
   ]
  },
  {
   "cell_type": "code",
   "execution_count": null,
   "id": "e115a5d2-6e8b-48d0-8303-43749b2b8127",
   "metadata": {},
   "outputs": [],
   "source": []
  }
 ],
 "metadata": {
  "kernelspec": {
   "display_name": "Python 3 (ipykernel)",
   "language": "python",
   "name": "python3"
  },
  "language_info": {
   "codemirror_mode": {
    "name": "ipython",
    "version": 3
   },
   "file_extension": ".py",
   "mimetype": "text/x-python",
   "name": "python",
   "nbconvert_exporter": "python",
   "pygments_lexer": "ipython3",
   "version": "3.12.7"
  }
 },
 "nbformat": 4,
 "nbformat_minor": 5
}
